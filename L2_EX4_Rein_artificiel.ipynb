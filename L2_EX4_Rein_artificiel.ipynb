{
 "cells": [
  {
   "cell_type": "markdown",
   "id": "c030abb8",
   "metadata": {},
   "source": [
    "# Exercice 4 : Rein artificiel\n",
    "\n",
    "Un rein artificiel est un procédé biomédial qui permet d'épurer le sang de personnes ayant une insuffisance rénale : on parle de dialyse rénale. Le principe est de mettre en contact le sang du patient (avec une circulation extracorporelle) contenant les molécules à éliminer (urée, toxines, ...) avec une solution (le dialysat) ne contenant pas ces molécules à travers une membrane . Les molécules à éliminer diffusent alors des zones concentrées (le sang) vers le dialysat et sont donc éliminées du sang. Le procédé comporte deux entrées et deux sorties et peut se représenter avec le schéma suivant :"
   ]
  },
  {
   "cell_type": "code",
   "execution_count": 44,
   "id": "a991ee53",
   "metadata": {},
   "outputs": [
    {
     "data": {
      "image/png": "[encoded data removed]",
      "text/plain": [
       "<Figure size 576x576 with 1 Axes>"
      ]
     },
     "metadata": {
      "needs_background": "light"
     },
     "output_type": "display_data"
    }
   ],
   "source": [
    "import matplotlib.pyplot as plt\n",
    "xs, ys = 40, 40       #position du melangeur\n",
    "lx, ly = 40, 20       #taille du melangeur\n",
    "la, hla, hwa=25, 5,2  #taille des fleches\n",
    "\n",
    "#tracé du flowsheet\n",
    "def plot_flowsheet_dialyseur():\n",
    "    fig, ax = plt.subplots(figsize=(8, 8)) \n",
    "    ax.set_aspect( 1 )\n",
    "    plt.axis('off')\n",
    "    plt.plot([2.5,5,5,2.5,5,10,5,5,7],[70,80,90,80,90,80,90,80,70],'k') #bonhomme\n",
    "    tete=plt.Circle((5,93),3, color='k')\n",
    "    ax.add_patch(tete)\n",
    "    plt.plot([xs+lx+la+hla,xs+lx+la+hla,xs-la-hla-2,xs-la-hla-2],[ys+3*ly/4,85,85,ys+3*ly/4],'r') #circuit extracorporel\n",
    "    plt.arrow(xs-la+hla-2,85,-hla,0, head_width=hwa, head_length=hla, fc='r', ec='r')\n",
    "    plt.plot([xs,xs+lx,xs+lx,xs,xs],[ys,ys,ys+ly,ys+ly,ys],'k') #dialyseur\n",
    "    plt.plot([xs,xs+lx],[ys+ly/2,ys+ly/2],'k--',linewidth=2)\n",
    "    plt.arrow(xs,ys+ly/4,-la,0, head_width=hwa, head_length=hla, fc='b', ec='b')\n",
    "    plt.arrow(xs-la-hla-2,ys+3*ly/4,la+2,0, head_width=hwa, head_length=hla, fc='r', ec='r')\n",
    "    plt.arrow(xs+lx+la+hla,ys+ly/4,-la,0, head_width=hwa, head_length=hla, fc='b', ec='b')\n",
    "    plt.arrow(xs+lx,ys+3*ly/4,la,0, head_width=hwa, head_length=hla, fc='r', ec='r')\n",
    "    plt.text(50,51,'Dialyseur',c='k', size=15)\n",
    "    plt.text(xs-la-hla,ys+3*ly/4+2, 'Entrée Sang', size=15, color='r')\n",
    "    plt.text(xs+lx+5,ys+3*ly/4+2, 'Sortie Sang', size=15, color='r')\n",
    "    plt.text(xs-la-hla,ys+ly/4-6, 'Sortie dialysat', size=15, color='b')\n",
    "    plt.text(xs+lx+5,ys+ly/4-6, 'Entrée dialysat', size=15, color='b')\n",
    "      \n",
    "plot_flowsheet_dialyseur()\n",
    "plt.show()"
   ]
  },
  {
   "cell_type": "markdown",
   "id": "370e7428",
   "metadata": {},
   "source": [
    "Lors du fonctionnement du rein artificiel, on mesure les débits et les concentrations en urée suivante :"
   ]
  },
  {
   "cell_type": "code",
   "execution_count": 45,
   "id": "68a10036",
   "metadata": {},
   "outputs": [
    {
     "data": {
      "image/png": "[encoded data removed]",
      "text/plain": [
       "<Figure size 576x576 with 1 Axes>"
      ]
     },
     "metadata": {
      "needs_background": "light"
     },
     "output_type": "display_data"
    }
   ],
   "source": [
    "F_ES=200 #ml/min\n",
    "F_SS=200 #ml/min\n",
    "F_ED=600 #ml/min\n",
    "F_SD=600 #ml/min\n",
    "c_ES=5   #g/L\n",
    "c_ED=0   #g/L\n",
    "c_SD=1.5   #g/L\n",
    "\n",
    "plot_flowsheet_dialyseur()\n",
    "plt.text(xs-la-hla,ys+3*ly/4+2, 'Entrée Sang', size=15, color='r')\n",
    "plt.text(xs-la-hla,ys+3*ly/4+14, r\"$F^{ES}$\"+'={} ml/min'.format(F_ES), size=15)\n",
    "plt.text(xs-la-hla,ys+3*ly/4+8, r\"$c^{ES}_{mU}$\"+'={} g/l'.format(c_ES), size=15)\n",
    "plt.text(xs+lx+5,ys+3*ly/4+2, 'Sortie Sang', size=15, color='r')\n",
    "plt.text(xs+lx+5,ys+3*ly/4+14, r\"$F^{SS}$\"+'={} ml/min'.format(F_SS), size=15)\n",
    "plt.text(xs+lx+5,ys+3*ly/4+8, r\"$c^{SS}_{mU}$\"+'=?', size=15)    \n",
    "plt.text(xs-la-hla,ys+ly/4-6, 'Sortie dialysat', size=15, color='b')\n",
    "plt.text(xs-la-hla,ys+ly/4-12, r\"$F^{SD}$\"+'={} ml/min'.format(F_SD), size=15)\n",
    "plt.text(xs-la-hla,ys+ly/4-18, r\"$c^{SD}_{mU}$\"+'={} g/l'.format(c_SD), size=15)\n",
    "plt.text(xs+lx+5,ys+ly/4-6, 'Entrée dialysat', size=15, color='b')\n",
    "plt.text(xs+lx+5,ys+ly/4-12, r\"$F^{ED}$\"+'={} ml/min'.format(F_ED), size=15)\n",
    "plt.text(xs+lx+5,ys+ly/4-18, r\"$c^{ED}_{mU}$\"+'={} g/l'.format(c_ED), size=15)\n",
    "plt.show()"
   ]
  },
  {
   "cell_type": "markdown",
   "id": "ae6db868",
   "metadata": {},
   "source": [
    "1- Calculer la concentration en urée dans le sang qui sort du rein artificiel et qui retourne dans le corps du patient\n",
    "\n",
    "> On applique un bilan sur les débits partiels en urée. Pour cela on écrit que la somme des débits entrants en urée est égale à la somme des débits sortants en urée :\n",
    "> $$\\sum{F^{E}~c^{E}_{U}}=\\sum{F^{S}~c^{S}_{U}}$$\n",
    "> $$F^{ES}~c^{ES}_{U}+F^{ED}~c^{ED}_{U}=F^{SS}~c^{SS}_{U}+F^{SD}~c^{SD}_{U}$$\n",
    ">$$c^{SS}_{U}=\\frac{F^{ES}~c^{ES}_{U}+F^{ED}~c^{ED}_{U}-F^{SD}~c^{SD}_{U}}{F^{SS}}$$\n"
   ]
  },
  {
   "cell_type": "code",
   "execution_count": 46,
   "id": "eeb49aef",
   "metadata": {},
   "outputs": [
    {
     "name": "stdout",
     "output_type": "stream",
     "text": [
      "La concentration en urée en sortie du dialyseur est de 0.5 g/l\n"
     ]
    }
   ],
   "source": [
    "c_SS=(F_ES*c_ES+F_ED*c_ED-F_SD*c_SD)/F_SS\n",
    "\n",
    "print('La concentration en urée en sortie du dialyseur est de {} g/l'.format(c_SS))"
   ]
  },
  {
   "cell_type": "markdown",
   "id": "6b65ef04",
   "metadata": {},
   "source": [
    "2- En déduire le débit d urée qui est éliminé du sang du patient (vous pourrez faire deux bilans différents pour trouver cette valeur)\n",
    "\n",
    "> Le débit d'urée éliminé, j, peut être calculé en déterminant la quantité éliminée du sang $F^{ES}~c^{ES}_{U}-F^{SS}~c^{SS}_{U}$ ou la quantité récupérée dans le dialysat $F^{SD}~c^{SD}_{U}-F^{ED}~c^{ED}_{U}$ :\n",
    "$$j_U=F^{ES}~c^{ES}_{U}-F^{SS}~c^{SS}_{U}=F^{SD}~c^{SD}_{U}-F^{ED}~c^{ED}_{U}$$"
   ]
  },
  {
   "cell_type": "code",
   "execution_count": 47,
   "id": "9f1d1ff7",
   "metadata": {},
   "outputs": [
    {
     "name": "stdout",
     "output_type": "stream",
     "text": [
      "Le débit d urée est 0.9 g/min\n"
     ]
    }
   ],
   "source": [
    "j1=(F_ES*c_ES-F_SS*c_SS)*0.001\n",
    "j2=(F_SD*c_SD-F_ED*c_ED)*0.001\n",
    "\n",
    "if round(j1,3) != round(j2,3):\n",
    "    print ('PROBLEME de calcul')\n",
    "\n",
    "print('Le débit d urée est {} g/min'.format(j1,j2))"
   ]
  },
  {
   "cell_type": "markdown",
   "id": "be69a960",
   "metadata": {},
   "source": [
    "3- La clairance est définit comme le rapport de ce débit sur la concentration en urée dans le sang du patient en entrée de dialyseur. Calculer la clairance du rein artificiel. \n",
    "\n",
    "> La clairance est définie comme \n",
    "$$K=\\frac{j_U}{c^{ES}_{U}}$$\n",
    "\n"
   ]
  },
  {
   "cell_type": "code",
   "execution_count": 48,
   "id": "871442ea",
   "metadata": {},
   "outputs": [
    {
     "name": "stdout",
     "output_type": "stream",
     "text": [
      "La clairance est de 180.0 ml/min\n"
     ]
    }
   ],
   "source": [
    "K=j1/c_ES      #L/min\n",
    "print('La clairance est de {} ml/min'.format(K*1000))"
   ]
  },
  {
   "cell_type": "markdown",
   "id": "94661ac8",
   "metadata": {},
   "source": [
    "La clairance du rein artificiel peut être comparée au débit de filtration glomérulaire, DFG, du patient qui est définit comme le débit de sang épuré. Le DFG d'un patient sain est de l'ordre de 120 ml/min. \n",
    "\n",
    "4. Comparer la clairance du rein artificiel au DFG naturel du rein.\n",
    "\n",
    "> La clairance du rein artificiel est supérieure à celui d'un rein normal. C'est normal puisque les séances de dialyse se déroulent sur une période de 4 ans et plusieurs jours par semaine. Le rein artificiel doit donc permettre une épuration du sang plus rapide que celle qui se produit naturellement 24h/24.\n",
    "\n"
   ]
  },
  {
   "cell_type": "markdown",
   "id": "5a7c85f3",
   "metadata": {},
   "source": [
    "# Pour aller plus loin\n",
    "\n",
    "### Estimation du temps de dialyse \n",
    "\n",
    "Un patient de 80 kg arrive avec une teneur en urée, $c_0$ de 3 g/L. La dialyse doit lui permettre de repartir avec une concentration en urée, $c_f$ de 0,8 g/L.\n",
    "\n",
    "Par un bilan sur le sang du patient, il est possible de démontrer (en master !) que la concentration en urée dans le sang du patient, $c$, évolue au cours du temps $t$ selon :\n",
    "$$\\frac{c}{c_0}=e^{-\\frac{K}{V}t}$$\n",
    "où $K$ est la clairance du rein artificiel et $V$ est le volume d'eau corporelle.\n",
    "En intégrant cette relation, on peut définir le temps de dialyse, $t_D$ permettant d'atteindre la concentration $c_f$ en urée :\n",
    "$$t_D=V\\frac{ln(c_0/c_f)}{K}$$\n",
    "\n",
    "Calculer le temps de dialyse nécessaire.\n",
    "\n"
   ]
  },
  {
   "cell_type": "code",
   "execution_count": 49,
   "id": "2a5c1329",
   "metadata": {},
   "outputs": [
    {
     "name": "stdout",
     "output_type": "stream",
     "text": [
      "Le temps de dialyse estimé est de 5.68 h\n"
     ]
    },
    {
     "data": {
      "image/png": "[encoded data removed]",
      "text/plain": [
       "<Figure size 432x288 with 1 Axes>"
      ]
     },
     "metadata": {
      "needs_background": "light"
     },
     "output_type": "display_data"
    }
   ],
   "source": [
    "import numpy as np\n",
    "import matplotlib.pyplot as plt\n",
    "\n",
    "K1=K/(1000*60) #clairance en m3/s\n",
    "C0=3\n",
    "Cf=0.8 \n",
    "P=80 #kg\n",
    "# Volume d’eau corporelle à la fin de séance (env 58% poids du corps)\n",
    "ECTF=0.58*P/1000 #m3\n",
    "td=ECTF*np.log(C0/Cf)/K1\n",
    "print ('Le temps de dialyse estimé est de {:.2f} h'.format(td/3600))\n",
    "t=np.linspace(0,6,100)\n",
    "plt.plot(t,C0*np.exp(-K1*t*3600/ECTF))\n",
    "plt.plot([0,td/3600],[Cf,Cf],'r--')\n",
    "plt.plot([td/3600,td/3600],[0,Cf],'r--')\n",
    "plt.xlabel('t (h)')\n",
    "plt.ylabel('c en urée (g/L)')\n",
    "plt.ylim(0,C0)\n",
    "plt.show()"
   ]
  },
  {
   "cell_type": "code",
   "execution_count": null,
   "id": "20247adc",
   "metadata": {},
   "outputs": [],
   "source": []
  },
  {
   "cell_type": "code",
   "execution_count": null,
   "id": "0c320705",
   "metadata": {},
   "outputs": [],
   "source": []
  }
 ],
 "metadata": {
  "kernelspec": {
   "display_name": "Python 3 (ipykernel)",
   "language": "python",
   "name": "python3"
  },
  "language_info": {
   "codemirror_mode": {
    "name": "ipython",
    "version": 3
   },
   "file_extension": ".py",
   "mimetype": "text/x-python",
   "name": "python",
   "nbconvert_exporter": "python",
   "pygments_lexer": "ipython3",
   "version": "3.9.12"
  }
 },
 "nbformat": 4,
 "nbformat_minor": 5
}
