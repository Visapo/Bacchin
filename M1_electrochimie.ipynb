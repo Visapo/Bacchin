{
 "cells": [
  {
   "cell_type": "markdown",
   "metadata": {},
   "source": [
    "# Oxydation électrochimique sur une électrode tournante\n",
    "\n",
    "Considérons une électrode tournante dont la vitesse de rotation est 250 trs.min-1. La réaction d'oxydation sur l'électrode peut être considérée en première approximation à une réaction hétérogène d'ordre 1 avec une constante de vitesse de 2.10-4 m.s-1. Cette électrode est plongée dans une solution de glucose à 0,1 g/l ($\\rho$=1000 kg/m3, $\\mu$=0,001 Pa.s,D=7.10-10 m2.s-1).\n",
    "\n",
    "*L'exercice proposé est simplifié (comme beaucoup d'exercice). En réalité pour oxyder du glucose sur une électrode (et en faire donc un capteur à glucose), il faut créer un film de polymère à la surface de l'électrode qui immobilise des enzymes qui oxydent le glucose. Ce problème pourrait se traiter en examinant en série la diffusion du glucose et la réaction avec l'enzyme dans le film puis la réaction électrochimique à l'interface. \n",
    "\n",
    "**Calculer la concentration en glucose à la surface de l'électrode.**\n",
    "\n",
    ">Le problème correspond à un transfert par diffusion dans une couche limite couplé à une réaction hétérogène (à l'électrode). En effectuant un bilan différentiel dans un élément de volume dans la couche limite (coord. rect.) en régime permanent, il est possible (voir cours) de déterminer le profil de concentration et ainsi la concentration en réactif à l'interface qui conditionne le flux de matière à l'interface. Pour un tel couplage, il a été démontré pour une réaction d'ordre 1que le nombre de Damkholer permet de caractériser l'influence relative de la réaction et de la diffusion :\n",
    "$$Da=\\frac{k_R \\delta }{D}$$\n",
    ">où $k_R$ est la constante de vitesse de réaction, D le coefficient de diffusion du soluté et $\\delta$ l'épaisseur de la couche limite de diffusion (qui dépend de l'agitation au dessus de l'interface). Calculons l'épaisseur de couche limite sur l'électrode. La vitesse de rotation correspond à une vitesse angulaire de 26,2 rad.s-1. Nous pouvons utiliser soit la correlation entre nombres sans dimensions pour le transfert de matière autour d'un disque tournant :\n",
    "$$Sh=0.62Re^{1/2}Sc^{1/3}$$ avec $$Re=\\frac{\\rho w d^2}{\\mu}$$\n",
    "ou l'équation de Levich :\n",
    "$$\\delta=1.61D^{1/3}\\omega^{-1/2}(\\frac{\\mu}{\\rho})^{1/6}$$\n",
    ">Le nombre de Damköhler est alors de 8 ce qui correspond à un régime limité par la concentration. La concentration à l'électrode donnée par l'expression $c_i=c_0\\frac{1}{1+Da}$ est de 0.011 g/L. L'efficacité qui représente le rapport $\\frac{qqté~de~matière~qui~réagit}{qqté~de~matière~qui~réagirait~si~la~diffusion~était~infinie}$ qui s'écrit $\\eta=\\frac{1}{1+Da}$, est de 11 %. Le flux de glucose oxydé à l'électrode est de 2.22 mg/(m2.s)\n",
    ">\n",
    ">Le code ci-dessous détaille ces calculs avec la séquence suivante :\n",
    ">1. calcul de l'épaisseur de couche limite, $\\delta$\n",
    ">2. calcul du nombre de Damkholer\n",
    ">3. calcul de l'efficacité\n",
    ">4. calcul de la concentration à l'interface\n",
    ">5. calcul du flux de glucose oxydé à l'électrode"
   ]
  },
  {
   "cell_type": "code",
   "execution_count": 78,
   "metadata": {},
   "outputs": [
    {
     "name": "stdout",
     "output_type": "stream",
     "text": [
      "Sh= 3.56e+02\n",
      "delta= 2.81e-05 m\n",
      "delta par Levich 2.79e-05\n",
      "Da= 8.016\n",
      "Efficiency= 0.111\n",
      "Concentration à l interface 1.11e-02\n"
     ]
    },
    {
     "data": {
      "image/png": "[encoded data removed]",
      "text/plain": [
       "<Figure size 432x288 with 1 Axes>"
      ]
     },
     "metadata": {
      "needs_background": "light"
     },
     "output_type": "display_data"
    },
    {
     "name": "stdout",
     "output_type": "stream",
     "text": [
      "Flux de glucose s oxydant à l interface 2.22e-06 en kg/(m2.s)\n",
      "Le(s) phénomène(s) de diffusion est(sont) limitant(s) pour le fonctionnement du procédé\n"
     ]
    }
   ],
   "source": [
    "import numpy as np\n",
    "import matplotlib.pyplot as plt\n",
    "from scipy.optimize import newton\n",
    "#DATA\n",
    "#constant for the electrochemical reaction\n",
    "kr=2.e-4\n",
    "o_r=1.\n",
    "ceq=0.\n",
    "#hydro\n",
    "w=250. #trs/min\n",
    "wSI=w*2*np.pi/60 #rad/s\n",
    "#solution\n",
    "c0=0.1 #g/L ou kg/m3\n",
    "ro=1000. #kg/m3\n",
    "D=7.e-10 #m2/s\n",
    "mu=0.001 #Pa.s\n",
    "#Electrode (on pose en l'absence de données mais on verra que la donnée est inutile)\n",
    "d=0.01 #m\n",
    "\n",
    "#COEFFICIENT DE MATIERE PAR CORRELATION ADIMENSIONNELLE\n",
    "#Reynolds\n",
    "Re=ro*wSI*d*d/mu\n",
    "#Schmidt\n",
    "Sc=mu/(ro*D)\n",
    "#Sherwood\n",
    "Sh=0.62*Re**0.5*Sc**0.333\n",
    "print ('Sh=',\"%.2e\"%Sh)\n",
    "k=Sh*D/d\n",
    "delta=D/k\n",
    "print ('delta=',\"%.2e\"%delta, 'm')\n",
    "\n",
    "#VERIFICATION PAR Eq. DE LEVICH\n",
    "delta_levich=1.61*D**(1./3.)*wSI**(-1./2.)*(mu/ro)**(1./6.)\n",
    "print ('delta par Levich', \"%.2e\"%delta_levich)\n",
    "\n",
    "#DAMKHOLER\n",
    "Da=kr/k\n",
    "print ('Da=', round(Da,3))\n",
    "\n",
    "#Définition de la fonction permettant le calcul de l'efficacité suivant l'ordre de réaction\n",
    "if o_r==1 :\n",
    "    def ef(Da):\n",
    "        eff=1/(1+Da)\n",
    "        return eff\n",
    "if o_r==2 :\n",
    "    def ef(Da):\n",
    "        eff=1/Da + 1/(2*Da**2)-np.sqrt(1+4*Da)/(2*Da**2)\n",
    "        return eff\n",
    "if o_r>2 :\n",
    "    def ef(Da):\n",
    "        def f(eff):\n",
    "            return eff-(1-eff*Da)**o_r\n",
    "        eff=newton(f,x0=0.5)\n",
    "        return eff  \n",
    "#Cacul de la concentration à l'interface\n",
    "ci=ceq+(ef(Da)*(c0-ceq)**o_r)**(1/o_r)\n",
    "\n",
    "print ('Efficiency=',round(ef(Da),3)) \n",
    "print ('Concentration à l interface', \"%.2e\"%ci)\n",
    "x=np.logspace(-2,2,100)\n",
    "plt.semilogx(x,ef(x))\n",
    "plt.annotate('Eff', xy=(Da, ef(Da)), xytext=(10,ef(Da)),arrowprops=dict(facecolor='black', shrink=0.05),)\n",
    "plt.annotate('Da', xy=(Da, ef(Da)), xytext=(Da, 0),arrowprops=dict(facecolor='black', shrink=0.05),)\n",
    "plt.title('Evolution du facteur d efficacite en fonction du Damkholer')\n",
    "plt.xlabel('Da')\n",
    "plt.ylabel('Efficacite')\n",
    "plt.show()\n",
    "\n",
    "#taux de croissance\n",
    "N=ef(Da)*kr*(c0-ceq)**o_r\n",
    "print ('Flux de glucose s oxydant à l interface', \"%.2e\"%N, 'en kg/(m2.s)')\n",
    "\n",
    "if Da<0.3:\n",
    "    lim='réation'\n",
    "elif Da>3:\n",
    "    lim='diffusion'\n",
    "else :\n",
    "    lim='diffusion interne et réaction'\n",
    "print ('Le(s) phénomène(s) de', lim, 'est(sont) limitant(s) pour le fonctionnement du procédé')\n"
   ]
  },
  {
   "cell_type": "markdown",
   "metadata": {},
   "source": [
    "**Déduire le phénomène limitant pour cette oxydation. Proposer alors une amélioration de l’efficacité du procédé.**\n",
    "\n",
    ">Nous sommes dans ce problème dans un régime où la diffusion du réactif (glucose) de la solution vers l'électrode est l'étape limitante du procédé Da>>1. Une solution pour améliorer le rendement du procédé consiste alors à augmenter la diffusion du réactif afin d'augmenter sa concentration à la surface de l'électrode. Il est ainsi possible de réduire l'épaisseur de la couche limite de diffusion en augmentant par exemple la vitesse de rotation de l'électrode. Ainsi si la vitesse de rotation de l'électrode tournante est augmentée à 2000 trs/min, l'épaisseur de couche limite est réduite à 9,86 $\\mu m$. Le nombre de Da est alors de 2,9. La concentration à l'électrode est de 0,026 g.l-1. On oxyde ainsi 2,4 fois plus de glucose que dans le cas précédent. Le capteur à glucose peut ainsi gagner en sensibilité (mais attention il sera nécessaire d'amener plus d'énergie pour faire tourner l'électrode plus rapidement).\n",
    ">\n",
    ">Le code ci-dessous permet de calculer les différents paramètres pour trois vitesses de rotation différentes.\n"
   ]
  },
  {
   "cell_type": "code",
   "execution_count": 88,
   "metadata": {},
   "outputs": [
    {
     "name": "stdout",
     "output_type": "stream",
     "text": [
      "                              A               B                  C      \n",
      "                --------------------------------------------------------------\n",
      "w(trs/min)      |           250               1000              2000\n",
      "Re              |           2618.0            10472.0           20944.0\n",
      "Sh              |           348.7             697.5             986.4\n",
      "delta(microm)   |           28.7              14.3              10.1\n",
      "Da              |           8.193             4.096             2.897\n",
      "ci(kg/m3)       |           0.0109            0.0196            0.0257\n",
      "Efficacite      |           0.109             0.196             0.257\n",
      "N(mol.m-2.s-1)  |           2.18e-06          3.92e-06          5.13e-06\n"
     ]
    }
   ],
   "source": [
    "#Comparison pour trois vitesses de rotation différentes\n",
    "w=[250,1000 ,2000]\n",
    "\n",
    "#Création de tableau pour stocker les valeurs correspondant aux 3 cas\n",
    "Re=np.zeros(3)\n",
    "Sh=np.zeros(3)\n",
    "k=np.zeros(3)\n",
    "Da=np.zeros(3)\n",
    "eff=np.zeros(3)\n",
    "ci=np.zeros(3)\n",
    "delta=np.zeros(3)\n",
    "N=np.zeros(3)\n",
    "\n",
    "#Calcul du transfert de matière, du damkholer, de l'efficacité, du flux de matière et de l'efficacité pour les trois cas\n",
    "for i in range(len(u)):\n",
    "    Re[i]=ro*(w[i]*2*np.pi/60.)*d*d/mu\n",
    "    Sh[i]=0.62*Re[i]**0.5*Sc**0.33\n",
    "    k[i]=Sh[i]*D/d\n",
    "    delta[i]=D/k[i]\n",
    "    Da[i]=kr/k[i]    \n",
    "    eff[i]=1/(1+Da[i]) \n",
    "    ci[i]=eff[i]*c0\n",
    "    N[i]=kr*ci[i]\n",
    "    \n",
    "print ('                              A               B                  C      ')\n",
    "print ('                --------------------------------------------------------------')\n",
    "print ('w(trs/min)      |          ', round(w[0],3), '             ', round(w[1],3),'            ', round(w[2],3))\n",
    "print ('Re              |          ', round(Re[0]), '          ', round(Re[1]),'         ', round(Re[2]))\n",
    "print ('Sh              |          ', round(Sh[0],1), '           ', round(Sh[1],1),'           ', round(Sh[2],1))\n",
    "print ('delta(microm)   |          ', round(delta[0]*1e6,1), '            ', round(delta[1]*1e6,1),'            ', round(delta[2]*1e6,1))\n",
    "print ('Da              |          ', round(Da[0],3), '           ', round(Da[1],3),'           ', round(Da[2],3))\n",
    "print ('ci(kg/m3)       |          ', round(ci[0],4), '          ', round(ci[1],4),'          ', round(ci[2],4))\n",
    "print ('Efficacite      |          ', round(eff[0],3), '           ', round(eff[1],3),'           ', round(eff[2],3))\n",
    "print ('N(mol.m-2.s-1)  |          ', \"%.2e\"%N[0], '        ', \"%.2e\"%N[1],'        ', \"%.2e\"%N[2])"
   ]
  },
  {
   "cell_type": "code",
   "execution_count": null,
   "metadata": {},
   "outputs": [],
   "source": []
  }
 ],
 "metadata": {
  "kernelspec": {
   "display_name": "Python 3",
   "language": "python",
   "name": "python3"
  },
  "language_info": {
   "codemirror_mode": {
    "name": "ipython",
    "version": 3
   },
   "file_extension": ".py",
   "mimetype": "text/x-python",
   "name": "python",
   "nbconvert_exporter": "python",
   "pygments_lexer": "ipython3",
   "version": "3.7.3"
  }
 },
 "nbformat": 4,
 "nbformat_minor": 2
}
