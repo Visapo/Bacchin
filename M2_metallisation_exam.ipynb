{
 "cells": [
  {
   "cell_type": "markdown",
   "metadata": {},
   "source": [
    "# Métallisation de plastiques par colloïdes à base de palladium\n",
    "\n",
    "La métallisation de plastique peut-être réalisée de façon industrielle après adhésion sur le plastique de colloïdes à base de palladium (procédé FUTURON ). Cette étude consiste à étudier la stabilité des particules en suspension puis estimer la faculté à l’adhésion de ces particules sur une plaque de plastique. \n",
    "\n"
   ]
  },
  {
   "cell_type": "code",
   "execution_count": 2,
   "metadata": {},
   "outputs": [],
   "source": [
    "import numpy as np\n",
    "import matplotlib.pyplot as plt\n",
    "\n",
    "#CONSTANTES\n",
    "\n",
    "#Nombre d'Avogadro\n",
    "avo=6.02214076e23\n",
    "\n",
    "#Constante de Boltzmann\n",
    "k=1.38064852e-23 #m2 kg s-2 K-1 ou J/K\n",
    "T=298.13\n",
    "kT=k*T #énergie thermique par molécule\n",
    "RGP=k*avo\n",
    "\n",
    "#Charge de l'électron\n",
    "e=1.602e-19\n",
    "F=e*avo\n",
    "\n",
    "#Permittivité électrique de l'eau\n",
    "eps=8.85418782e-12*78.5 #m-3 kg-1 s4 A2\n",
    "\n",
    "#Viscosité (dynamique) de l'eau à 20°C\n",
    "mu=1e-3 #Pa.s"
   ]
  },
  {
   "cell_type": "markdown",
   "metadata": {},
   "source": [
    "$$Log_{10}(W)=-2.06 10^{+9} \\frac{a\\Upsilon^2}{z^2}Log_{10}c+b$$\n",
    "\n",
    "Si la ccc est connu on peut déterminer b (puisque la ccc correspond à une stabilité de 1) :\n",
    "\n",
    "$$b=2.06 10^{+9} \\frac{a\\Upsilon^2}{z^2}Log_{10}ccc$$\n",
    "\n"
   ]
  },
  {
   "cell_type": "markdown",
   "metadata": {},
   "source": [
    "3)\tCalculer la valeur du paramètre b "
   ]
  },
  {
   "cell_type": "code",
   "execution_count": 10,
   "metadata": {},
   "outputs": [
    {
     "name": "stdout",
     "output_type": "stream",
     "text": [
      "-1.2594435785440277\n",
      "b= -1.2594435785440277\n"
     ]
    }
   ],
   "source": [
    "zeta_c=-0.05 #V\n",
    "z=1\n",
    "a=3e-9\n",
    "ccc=0.1\n",
    "upsilon=np.tanh(z*e*zeta_c/(4*kT))\n",
    "pente=-2.06e+9*a*upsilon**2/(z**2)\n",
    "b=np.log10(ccc)*(-pente)\n",
    "print (pente)\n",
    "print ('b=',b)\n",
    "\n"
   ]
  },
  {
   "cell_type": "code",
   "execution_count": 27,
   "metadata": {},
   "outputs": [
    {
     "name": "stdout",
     "output_type": "stream",
     "text": [
      "I=0.05 M V/kT @h=1 nm 0.8946742225630204\n",
      "I=0.05 M Vmax/kT  0.9250214120196755\n",
      "I=0.01 M V/kT @h=1 nm 1.9520060102267032\n",
      "I=0.01 M Vmax/kT  1.960037850535986\n"
     ]
    },
    {
     "data": {
      "image/png": "[encoded data removed]",
      "text/plain": [
       "<Figure size 432x288 with 1 Axes>"
      ]
     },
     "metadata": {
      "needs_background": "light"
     },
     "output_type": "display_data"
    }
   ],
   "source": [
    "zeta_p=-0.015\n",
    "upsilon1=np.tanh(z*e*zeta_c/(4*kT))\n",
    "upsilon2=np.tanh(z*e*zeta_p/(4*kT))\n",
    "\n",
    "Hamaker=1e-20\n",
    "Ld=np.sqrt(eps*RGP*T/(2*F*F*I*1000))\n",
    "def V(h):\n",
    "    V=4*np.pi*a*eps*((4*RGP*T/(F))**2)*upsilon1*upsilon2*np.exp(-h/Ld)-Hamaker*a/(6*h)\n",
    "    return V\n",
    "h=np.linspace(1e-10,1e-8,100)\n",
    "\n",
    "I=0.05\n",
    "Ld=np.sqrt(eps*RGP*T/(2*F*F*I*1000))\n",
    "plt.plot(h,V(h)/kT)\n",
    "print ('I=0.05 M V/kT @h=1 nm', V(1e-9)/kT )\n",
    "print ('I=0.05 M Vmax/kT ', max(V(h)/kT))\n",
    "I=0.01\n",
    "Ld=np.sqrt(eps*RGP*T/(2*F*F*I*1000))\n",
    "plt.plot(h,V(h)/kT)\n",
    "print ('I=0.01 M V/kT @h=1 nm', V(1e-9)/kT )\n",
    "print ('I=0.01 M Vmax/kT ', max(V(h)/kT))\n",
    "plt.ylim(-1,)\n",
    "plt.xlabel('h (m)')\n",
    "plt.ylabel('V/kT')\n",
    "plt.show()"
   ]
  },
  {
   "cell_type": "code",
   "execution_count": null,
   "metadata": {},
   "outputs": [],
   "source": []
  }
 ],
 "metadata": {
  "kernelspec": {
   "display_name": "Python 3",
   "language": "python",
   "name": "python3"
  },
  "language_info": {
   "codemirror_mode": {
    "name": "ipython",
    "version": 3
   },
   "file_extension": ".py",
   "mimetype": "text/x-python",
   "name": "python",
   "nbconvert_exporter": "python",
   "pygments_lexer": "ipython3",
   "version": "3.7.3"
  }
 },
 "nbformat": 4,
 "nbformat_minor": 2
}
