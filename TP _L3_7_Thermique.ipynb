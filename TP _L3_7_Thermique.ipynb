{
 "cells": [
  {
   "cell_type": "code",
   "execution_count": 1,
   "metadata": {},
   "outputs": [],
   "source": [
    "from pylab import *"
   ]
  },
  {
   "cell_type": "markdown",
   "metadata": {},
   "source": [
    "# Transferts de chaleur\n",
    "\n",
    "\n",
    "## Détermination de la conductivité thermique du cuivre \n",
    "\n",
    "Reportez ici le calcul permettant de trouver la conductivité $\\lambda_{Cu}$ en fonction des grandeurs mesurées expérimentallement. \n",
    "\n",
    "Insérez la courbe du profil de température ici, avec la régression. "
   ]
  },
  {
   "cell_type": "code",
   "execution_count": null,
   "metadata": {},
   "outputs": [],
   "source": [
    "# adaptez les valeurs ci-dessous (y compris les positions)\n",
    "x     = array([0,6,12,18,24,30])\n",
    "theta = array([125,120,100,90,80,60])\n",
    "\n",
    "plot(x, theta, 'ob')\n",
    "\n",
    "# regression avec un polynome du premier degre = une droite ax+b. ATTENTION AUX UNITES\n",
    "a, b = polyfit(x,theta,1)\n",
    "\n",
    "# verification de la regression avec un trace... \n",
    "# plot(...) a completer"
   ]
  },
  {
   "cell_type": "markdown",
   "metadata": {},
   "source": [
    "Insérez vos commentaires sur la valeur de conductivité trouvée ici. \n",
    "\n",
    "## Détermination du coefficient d’échange thermique h \n",
    "\n",
    "Insérez ici le calcul du coefficient thermique h en fonction des grandeurs mesurées expérimentalement. \n",
    "\n",
    "Insérez ici le graphe représentant la variation du coefficient thermique h en fonction du nombre de Reynolds, pour chaque tube. "
   ]
  },
  {
   "cell_type": "code",
   "execution_count": null,
   "metadata": {},
   "outputs": [],
   "source": [
    "# tube 20cm \n",
    "Q          = array([20,30,40]) # a completer\n",
    "theta_e_20 = array([16,16,16])\n",
    "theta_s_20 = array([18,17,16.5])\n",
    "#h_20       = ... a completer\n",
    "#Re = ...\n",
    "#plot(Re,h_20,'-r',label='Tube 20 cm')\n",
    "\n",
    "# tube 40cm\n",
    "#... \n",
    "\n",
    "# tube plus long \n",
    "#... "
   ]
  },
  {
   "cell_type": "markdown",
   "metadata": {},
   "source": [
    "Commentez ici le graphe ci-dessus. \n",
    "\n",
    "Insérez ici le graphe représentant la variation du Nusselt en fonction du nombre de Reynolds, pour chaque tube. (coordonnées log-log + régression)"
   ]
  },
  {
   "cell_type": "code",
   "execution_count": null,
   "metadata": {},
   "outputs": [],
   "source": [
    "# Nu_20 = ... \n",
    "# logNu_20 = ...\n",
    "# logRe = ... \n",
    "# plot(logRe,logNu_20,'-r',label='Tube 20 cm')\n",
    "\n",
    "# Regression lineaire\n",
    "# ... a completer en s'inspirant de la premiere partie\n",
    "\n",
    "# idem pour les 2 autres tubes "
   ]
  },
  {
   "cell_type": "markdown",
   "metadata": {},
   "source": [
    "Donnez les valeures de x et y dans un tableau ici. \n",
    "\n",
    "Tube | petit | moyen | grand | \n",
    "______________________________\n",
    "x    |     |     |     |     \n",
    "______________________________\n",
    "y    |     |     |     |     \n",
    "______________________________\n",
    "\n",
    "Commentez les valeurs de y (cf cours). \n",
    "\n",
    "Commenter l’influence du temps de séjour de l’eau dans le tube et du débit volumique sur la température de sortie du fluide ici. \n",
    "\n",
    "## Bilan Thermique Global \n",
    "\n",
    "Ecrivez le bilan thermique total sur le fluide contenu dans le circuit ici. Résolvez l’équation pour trouver la solution théorique de l’évolution de la température en fonction du temps. On rappelle qu'un bilan globa s'ecrit \n",
    "$$\\frac{d}{dt}\\left(m c_p T\\right)= J_{entrant}-J_{sortant}$$\n",
    "\n",
    "Insérez ici le graphe représentant l’évolution de la température en fonction du temps, avec les mesures expérimentales et les solutions théoriques pour chque débit (4 courbes sur la figure). "
   ]
  },
  {
   "cell_type": "code",
   "execution_count": 3,
   "metadata": {},
   "outputs": [
    {
     "data": {
      "text/plain": [
       "[<matplotlib.lines.Line2D at 0x11030a1d0>]"
      ]
     },
     "execution_count": 3,
     "metadata": {},
     "output_type": "execute_result"
    },
    {
     "data": {
      "image/png": "[encoded data removed]",
      "text/plain": [
       "<Figure size 432x288 with 1 Axes>"
      ]
     },
     "metadata": {
      "needs_background": "light"
     },
     "output_type": "display_data"
    }
   ],
   "source": [
    "t      = arange(0,31,5) # attention aux unites\n",
    "Texp60 = array([15,16,17,18,19,20,21])\n",
    "\n",
    "plot(t,Texp60,'ob',label='Debit 60L/h')\n",
    "\n",
    "# a completer avec la theorie et avec le debit 120 L/h\n",
    "\n",
    "# Ttheo60 = ...\n",
    "#plot(t,Ttheo60...)\n",
    "\n",
    "# etc"
   ]
  },
  {
   "cell_type": "markdown",
   "metadata": {},
   "source": [
    "Commentez le graphe (différence théorie/expérience, raisons, hypothèses, barres d’erreur). "
   ]
  }
 ],
 "metadata": {
  "kernelspec": {
   "display_name": "Python 3",
   "language": "python",
   "name": "python3"
  },
  "language_info": {
   "codemirror_mode": {
    "name": "ipython",
    "version": 3
   },
   "file_extension": ".py",
   "mimetype": "text/x-python",
   "name": "python",
   "nbconvert_exporter": "python",
   "pygments_lexer": "ipython3",
   "version": "3.7.2"
  }
 },
 "nbformat": 4,
 "nbformat_minor": 2
}
