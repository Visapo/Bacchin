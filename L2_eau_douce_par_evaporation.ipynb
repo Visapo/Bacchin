{
 "cells": [
  {
   "cell_type": "markdown",
   "id": "28360275",
   "metadata": {},
   "source": [
    "## Production d’eau douce par évaporation sur la planète\n",
    "\n",
    "En considérant qu’environ un quart de l’énergie solaire contribue à l’évaporation de l’eau :\n",
    "1. Calculer la masse d’eau évaporée par an (vérifier l’ordre de grandeur avec les données des transparents du cours)\n",
    "2. Calculer la puissance reçue en énergie solaire en W par m2\n",
    "3. Calculer la masse d’eau évaporée en g par h et par m2\n",
    "4. En déduire le temps de séjour de l’eau douce dans l’atmosphère. Expliquer ce que cela représente. \n",
    "\n",
    "**Données :**\t\n",
    "Puissance de l’énergie solaire reçue par la terre : P=1,74 $10^{17}$ W, Rayon de la terre : R=6370 km, Masse d’eau sous forme de vapeur d’eau dans l’atmosphère : $M_{eau}=13~10^{15}$ kg, Chaleur latente d’évaporation : $\\Delta H_{vap}=2.5~MJ/kg$ \n",
    "\n",
    "> 1. La masse d'eau évaporée par s (kg/s) -qu'on peut aussi appeler flux ou débit- peut se calculer en divisant la puissance de l'énergie solaire recue par la terre et contribuant à l'évaporation en (J/s) par l'énergie nécessaire pour évaporer un kg d'eau (J/kg)\n",
    "$$Q=\\frac{0,25 P}{\\Delta H_{vap}}$$\n"
   ]
  },
  {
   "cell_type": "code",
   "execution_count": 17,
   "id": "0c0fc290",
   "metadata": {},
   "outputs": [
    {
     "name": "stdout",
     "output_type": "stream",
     "text": [
      "Le débit d eau évaporée est 1.74e+10 kg/s soit 5.49e+17 kg/an soit 5.49e+05 km3/an\n"
     ]
    }
   ],
   "source": [
    "#Données\n",
    "P=1.74e17       #W ou J/s\n",
    "R=6370          #km\n",
    "M_vap_eau=13e15 #kg\n",
    "DH_eau=2.5e6    #J/kg\n",
    "pourc=0.25\n",
    "rho_eau=1000    #kg m-3\n",
    "\n",
    "#Changements d'unités\n",
    "sec_par_an=365*24*60*60\n",
    "m3_par_km3=1000**3\n",
    "\n",
    "#Puissance utilisée pour l'évaporation\n",
    "P_evap=P*pourc  #J/s\n",
    "#Quantité évaporée\n",
    "Q_evap=P_evap/DH_eau #kg/s\n",
    "Q_evap1=Q_evap*sec_par_an #kg/an\n",
    "Q_evap2=Q_evap*sec_par_an/rho_eau/m3_par_km3 #km3/an\n",
    "print ('Le débit d eau évaporée est {:.2e} kg/s soit {:.2e} kg/an soit {:.2e} km3/an'.format(Q_evap,Q_evap1,Q_evap2))\n"
   ]
  },
  {
   "cell_type": "markdown",
   "id": "113e1224",
   "metadata": {},
   "source": [
    ">2. En moyenne, la puissance de l'énergie solaire reçue sur la terre par m2 est la puissance totale reçue (en J/s) divisée par la surface de la terre :\n",
    "$$P_{par m2}=\\frac{P}{4 \\pi R^2}$$\n",
    ">à noter qu'il faut utiliser la surface de toute la terre (et pas seulement la partie éclairée) puisqu'on effectue une moyenne de la puissance dans l'espace (la quantité n'est pas la même aux poles qu'à l'équateur) et dans le temps (la quantité n'est pas la même la nuit que le jour !). "
   ]
  },
  {
   "cell_type": "code",
   "execution_count": 18,
   "id": "4afc748b",
   "metadata": {},
   "outputs": [
    {
     "name": "stdout",
     "output_type": "stream",
     "text": [
      "La puissance solaire reçue est 341.24 W/m2\n"
     ]
    }
   ],
   "source": [
    "import numpy as np\n",
    "P_parm2=P/(4*np.pi*R*R*1000*1000)\n",
    "print ('La puissance solaire reçue est {:.2f} W/m2'.format(P_parm2))"
   ]
  },
  {
   "cell_type": "markdown",
   "id": "21079245",
   "metadata": {},
   "source": [
    ">3. La masse d’eau évaporée en kg.s-1.m-2 qu'on peut aussi appeler densité de flux est :\n",
    "$$j=\\frac{0,25 P_{par m2}}{\\Delta H_{vap}}$$"
   ]
  },
  {
   "cell_type": "code",
   "execution_count": 19,
   "id": "16c7a318",
   "metadata": {},
   "outputs": [
    {
     "name": "stdout",
     "output_type": "stream",
     "text": [
      "La densité de flux d eau évaporée est 3.41e-05 kg s-1 m-2 soit 122.85 g h-1 m-2\n"
     ]
    }
   ],
   "source": [
    "j_evap=pourc*P_parm2/DH_eau       #kg/s m2\n",
    "j_evap1=j_evap*1000*3600\n",
    "print ('La densité de flux d eau évaporée est {:.2e} kg s-1 m-2 soit {:.2f} g h-1 m-2'.format(j_evap,j_evap1))"
   ]
  },
  {
   "cell_type": "markdown",
   "id": "728ba50e",
   "metadata": {},
   "source": [
    ">4. Le temps de séjour est défini comme le rapport du volume du système sur le débit qui parourt le système :\n",
    "    $$t_s=\\frac{V}{Q_{vol}}$$\n",
    "> On pourra considérer (en faisant l'hypothèse d'une masse volumique de la vapeur d'eau constante -elle peut varier selon la pression et donc l'altitude-) que le rapport du volume sur le débit volumique est égal au rapport de la masse sur le débit massique. "
   ]
  },
  {
   "cell_type": "code",
   "execution_count": 20,
   "id": "a9bbf6af",
   "metadata": {},
   "outputs": [
    {
     "name": "stdout",
     "output_type": "stream",
     "text": [
      "Le temps de sejour est 7.47e+05 secondes soit 8.65 jours\n"
     ]
    }
   ],
   "source": [
    "t_s=M_vap_eau/Q_evap #s\n",
    "t_s1=t_s/3600/24     #jours\n",
    "\n",
    "print ('Le temps de sejour est {:.2e} secondes soit {:.2f} jours'.format(t_s,t_s1))\n",
    "\n"
   ]
  },
  {
   "attachments": {},
   "cell_type": "markdown",
   "id": "28e9b467",
   "metadata": {},
   "source": [
    "> Ce temps correspond au temps de \"vie\" moyen d'une goutte de vapeur d eau entre le moment où elle s'évapore et le moment où elle retombe sous forme de précipitation. C'est un temps de vie moyen : certaines gouttes n’auront pas cette chance de voyager dans l’atmosphère autant de temps et se recondenseront juste après s’être évaporée (comme dans les bouteilles d’eau que vous avez devant vous !). D’autres voyageront beaucoup longtemps surtout si elles se font ingurgiter par un goeland ! Cette valeur est donc une moyenne et vous verrrez en master comment on peut avoir une description plus précise de la distribution des temps de séjours.\n"
   ]
  },
  {
   "cell_type": "code",
   "execution_count": null,
   "id": "1659c083",
   "metadata": {},
   "outputs": [],
   "source": []
  }
 ],
 "metadata": {
  "kernelspec": {
   "display_name": "Python 3 (ipykernel)",
   "language": "python",
   "name": "python3"
  },
  "language_info": {
   "codemirror_mode": {
    "name": "ipython",
    "version": 3
   },
   "file_extension": ".py",
   "mimetype": "text/x-python",
   "name": "python",
   "nbconvert_exporter": "python",
   "pygments_lexer": "ipython3",
   "version": "3.9.12"
  }
 },
 "nbformat": 4,
 "nbformat_minor": 5
}
