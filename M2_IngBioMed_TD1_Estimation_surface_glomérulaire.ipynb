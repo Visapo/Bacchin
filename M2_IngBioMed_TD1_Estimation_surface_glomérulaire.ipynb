{
 "cells": [
  {
   "cell_type": "markdown",
   "id": "66321ee9",
   "metadata": {},
   "source": [
    "# Estimation de la surface glomérulaire\n",
    "\n",
    "\n",
    "Utiliser la permeabilité d’une membrane d’ultrafiltation artificielle (cf TI2789 et 2790*) et des données de pression pour calculer la vitesse de filtration glomulaire\n",
    "\n",
    "En déduire la surface glomérulaire de filtration qui serait nécessaire pour avoir un DFG de 90 mL/(min*1,73 m2)\n",
    "\n",
    "Comparer à la valeur estimée pour les reins\n",
    "\n",
    "Conclure\n",
    "\n",
    "\n",
    "*D'après TI 2789 et 2790 la perméabilité d'une membrane d'ultrafiltration est comprise entre 1,4 e-12 et 1,4 e-13 m."
   ]
  },
  {
   "cell_type": "code",
   "execution_count": 3,
   "id": "2db2f30b",
   "metadata": {
    "scrolled": true
   },
   "outputs": [
    {
     "name": "stdout",
     "output_type": "stream",
     "text": [
      "La vitesse de fitration glomérulaire est comprise entre: [6.39947376e-06 6.39947376e-07]  m/s\n",
      "1.4999999999999998e-06\n",
      "La surface de fitration glomérulaire est comprise entre : [0.23439427 2.34394273]  m2\n"
     ]
    }
   ],
   "source": [
    "import numpy as np\n",
    "A= np.array([1.4e-12,1.4e-13])\n",
    "#Pression dans le capillaire glomulaire\n",
    "Pc=60*133.32237 #60 mmHg\n",
    "#Pression intra-tubulaire\n",
    "Pt=15*133.32237 #15 mmHg\n",
    "#Contre pression osmotique\n",
    "Posm=21*133.32237 #21 mmHg\n",
    "mu=0.0007 #Pa.s\n",
    "Peff=Pc-Pt-Posm\n",
    "J=A*Peff/mu\n",
    "\n",
    "print ('La vitesse de fitration glomérulaire est comprise entre:', J, ' m/s')\n",
    "\n",
    "DFG=90*1e-6/60 #m3/s\n",
    "print (DFG)\n",
    "S=DFG/J\n",
    "print ('La surface de fitration glomérulaire est comprise entre :', S, ' m2')"
   ]
  },
  {
   "attachments": {},
   "cell_type": "markdown",
   "id": "46ea46e6",
   "metadata": {},
   "source": [
    "Avec les calculs basés sur la perméabilité d'une membrane articielle d'ultrafiltration, il faudrait une surface de rein de l'ordre du m2. La surface réelle d'un rein est de 5 à 15 m2 pour 100 gr de rein soit environ 15 à 45 m2 pour deux reins de 150 g. Le rein naturel a une surface plus grande celle calculée ce qui peut permettre de faire face à des coups durs comme des calculs ! \n",
    "\n",
    "Nous verrons également que les membranes les plus proches du rein naturel ont un seuil de coupure faible et des perméabilités de l'ordre de 0,1 mL h-1m2Pa-1 soit 10 L h-1m2Bar-1 et sont donc plutôt dans la gamme nanofiltration du tableau dans les Techniques de l'ingénieur. Un calcul avec cette valeur de perméabilité conduit à une surface de 12 m2 beaucoup plus proche des valeurs réelles.\n"
   ]
  },
  {
   "cell_type": "code",
   "execution_count": null,
   "id": "ceda9a85",
   "metadata": {},
   "outputs": [],
   "source": []
  }
 ],
 "metadata": {
  "kernelspec": {
   "display_name": "Python 3 (ipykernel)",
   "language": "python",
   "name": "python3"
  },
  "language_info": {
   "codemirror_mode": {
    "name": "ipython",
    "version": 3
   },
   "file_extension": ".py",
   "mimetype": "text/x-python",
   "name": "python",
   "nbconvert_exporter": "python",
   "pygments_lexer": "ipython3",
   "version": "3.9.12"
  }
 },
 "nbformat": 4,
 "nbformat_minor": 5
}
