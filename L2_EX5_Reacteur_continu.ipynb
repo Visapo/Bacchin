{
 "cells": [
  {
   "attachments": {},
   "cell_type": "markdown",
   "id": "1c5b883a",
   "metadata": {},
   "source": [
    "# Exercice 5 : bilan sur un réacteur\n",
    "\n",
    "\n",
    "Un réacteur permet de faire réagir de l’éthylène pur C2H4 avec un débit de $F^E_{C2H4}$= 2000 kg/h avec du dichlore pur Cl2 à un débit $F^E_{Cl2}$= 4802,4 kg/h. \n",
    "\n",
    "La réaction est la suivante :\n",
    "C2H4+ Cl2 -> C2H4Cl2\n",
    "On considére un taux de conversion de 100 %.\n",
    "\n",
    "1) Calculer les débits molaires en entrée"
   ]
  },
  {
   "cell_type": "code",
   "execution_count": 1,
   "id": "92323f0e",
   "metadata": {},
   "outputs": [
    {
     "name": "stdout",
     "output_type": "stream",
     "text": [
      "Le débit molaire de C2H4 en entrée est de 71.43 kmol/h\n",
      "Le débit molaire de Cl2 en entrée est de 67.64 kmol/h\n"
     ]
    }
   ],
   "source": [
    "#FW pour les débits massiques et F pour les débis molaires\n",
    "\n",
    "#Entrée réactifs\n",
    "FWE_C2H4=2000   #kg/h\n",
    "FWE_Cl2=4802.4  #kg/h\n",
    "FE_C2H4Cl2=0    #kmol/h\n",
    "\n",
    "#Sortie réactifs\n",
    "#FWS_C2H4Cl2=6702.4 #kg/h\n",
    "FWS_C2H4Cl2=6696.3 #kg/h\n",
    "\n",
    "#Masse molaire\n",
    "M_C2H4=28    #g/mol\n",
    "M_Cl2=71     #g/mol\n",
    "M_C2H4Cl2=99 #g/mol\n",
    "\n",
    "FE_C2H4=FWE_C2H4/M_C2H4 #kmol/h\n",
    "FE_Cl2=FWE_Cl2/M_Cl2 #kmol/h\n",
    "\n",
    "print('Le débit molaire de C2H4 en entrée est de {:.2f} kmol/h'.format(FE_C2H4))\n",
    "print('Le débit molaire de Cl2 en entrée est de {:.2f} kmol/h'.format(FE_Cl2)) \n",
    "\n"
   ]
  },
  {
   "cell_type": "markdown",
   "id": "6bc68a50",
   "metadata": {},
   "source": [
    "2) Identifier le réactif limitant (Cl2 ou C2H4)"
   ]
  },
  {
   "cell_type": "code",
   "execution_count": 26,
   "id": "2529ee2d",
   "metadata": {},
   "outputs": [
    {
     "name": "stdout",
     "output_type": "stream",
     "text": [
      "Le réactif limitant est Cl2\n"
     ]
    }
   ],
   "source": [
    "if FE_C2H4<FE_Cl2 :\n",
    "    print ('Le réactif limitant est C2H4')\n",
    "else :\n",
    "    print ('Le réactif limitant est Cl2') "
   ]
  },
  {
   "cell_type": "markdown",
   "id": "6a0370d5",
   "metadata": {},
   "source": [
    "3) Calculer les débits molaires en sortie\n",
    "\n",
    "> Si le taux de conversion est de 100 % il ne reste pas de dichlore en sortie du réacteur\n",
    "$$𝑋_{Cl2}=  (𝐹^𝐸 𝑥_{Cl2}^𝐸−𝐹^S 𝑥_{Cl2}^𝑆)/(𝐹^𝐸 𝑥_{Cl2}^𝐸 )$$\n",
    "$$𝑥_{Cl2}^𝑆=  (1−𝑋_{Cl2}) 𝑥_{Cl2}^𝐸=0$$\n",
    "$$F^S_{Cl2}=𝑥_{Cl2}^S F^S=0$$\n",
    ">\n",
    "> Bilan partiel sur le $Cl_2$\n",
    "> $$ Flux_{entrant}+production=Flux_{sortant}+consommation$$\n",
    "> $$ F^E_{Cl2}+0=F^S_{Cl2}+r^C_{Cl2}$$\n",
    "> $$ r^C_{Cl2}=F^E_{Cl2}-F^S_{Cl2}$$\n",
    ">\n",
    ">On en déduit la vitesse de réaction de consommation de $Cl_2$, $r^C_{Cl2}$. Or la vitesse de réaction de consommation de $Cl_2$ en mol par unité de temps est aussi égale à la vitesse de consommation de $C_2H_4$, $r^C_{C2H4}$ et à la vitesse de production de $C_2H_4Cl_2$, $r^P_{C2H4Cl2}$ puisque les coefficients stochiométriques de la réaction sont de 1. On peut donc définir les débits de sortie en C2H4 et C2H4Cl2 par des bilans partiels :  \n",
    ">\n",
    "> Bilan partiel sur le $C_2H_4$\n",
    "> $$ Flux_{entrant}+production=Flux_{sortant}+consommation$$\n",
    "> $$ F^E_{C2H4}+0=F^S_{C2H4}+r^C_{C2H4}$$\n",
    "> $$ F^S_{C2H4}=F^E_{C2H4}-r^C_{C2H4}$$\n",
    ">\n",
    "> Bilan partiel sur le $C_2H_4Cl_2$\n",
    "> $$ Flux_{entrant}+production=Flux_{sortant}+consommation$$\n",
    "> $$ F^E_{C2H4Cl2}+r^P_{C2H4Cl2}=F^S_{C2H4Cl2}+0$$\n",
    "> $$ F^S_{C2H4Cl2}=F^E_{C2H4Cl2}+r^P_{C2H4Cl2}$$"
   ]
  },
  {
   "cell_type": "code",
   "execution_count": 27,
   "id": "be1f7512",
   "metadata": {},
   "outputs": [
    {
     "name": "stdout",
     "output_type": "stream",
     "text": [
      "Le débit molaire en sortie de C2H4 est de 3.79 kmol/h\n",
      "Le débit molaire en sortie de Cl2 est de 0.00 kmol/h\n",
      "Le débit molaire en sortie de C2H4Cl2 est de 67.64 kmol/h\n",
      "Le débit massique en sortie de C2H4 est de 106.10 kg/h\n"
     ]
    }
   ],
   "source": [
    "TC=1  #taux de conversion de 100%\n",
    "FE=FE_C2H4+FE_Cl2\n",
    "xE_Cl2=FE_Cl2/FE\n",
    "xS_Cl2=(1-TC)*xE_Cl2\n",
    "\n",
    "FS=FE\n",
    "FS_Cl2=FS*xS_Cl2\n",
    "rC_Cl2=FE_Cl2-FS_Cl2\n",
    "\n",
    "rC_C2H4=rC_Cl2\n",
    "FS_C2H4=FE_C2H4-rC_C2H4\n",
    "\n",
    "print('Le débit molaire en sortie de C2H4 est de {:.2f} kmol/h'.format(FS_C2H4))\n",
    "print('Le débit molaire en sortie de Cl2 est de {:.2f} kmol/h'.format(FS_Cl2)) \n",
    "print('Le débit molaire en sortie de C2H4Cl2 est de {:.2f} kmol/h'.format(FS_C2H4Cl2)) \n",
    "print('Le débit massique en sortie de C2H4 est de {:.2f} kg/h'.format(FS_C2H4*M_C2H4))\n"
   ]
  },
  {
   "cell_type": "markdown",
   "id": "efe22c70",
   "metadata": {},
   "source": [
    "4) Calculer les fractions molaires à la sortie\n",
    "\n",
    "> En sortie on a deux composés C2H4 (non réagi) et du C2H4Cl2 (le produit désiré). La fraction molaire de ces composés correspond au rapport du débit molaire du composé sur le débit molaire total. Le débit molaire total s'obtient en faisant la somme des débits molaires partiels."
   ]
  },
  {
   "cell_type": "code",
   "execution_count": 28,
   "id": "0a1bb335",
   "metadata": {},
   "outputs": [
    {
     "name": "stdout",
     "output_type": "stream",
     "text": [
      "La fraction molaire en sortie de C2H4 est de 0.05 \n",
      "La fraction molaire en sortie de Cl2 est de 0.00 \n",
      "La fraction molaire en sortie de C2H4Cl2 est de 0.95 \n"
     ]
    }
   ],
   "source": [
    "#Débit molaire total en sortie\n",
    "FS=FS_C2H4+FS_Cl2+FS_C2H4Cl2\n",
    "\n",
    "#Calcul des fractions molaires comme le rapport du débit molaire partiel sur le débit molaire total\n",
    "xS_C2H4=FS_C2H4/FS\n",
    "xS_Cl2=FS_Cl2/FS\n",
    "xS_C2H4Cl2=FS_C2H4Cl2/FS\n",
    "\n",
    "print('La fraction molaire en sortie de C2H4 est de {:.2f} '.format(xS_C2H4))\n",
    "print('La fraction molaire en sortie de Cl2 est de {:.2f} '.format(xS_Cl2)) \n",
    "print('La fraction molaire en sortie de C2H4Cl2 est de {:.2f} '.format(xS_C2H4Cl2)) \n"
   ]
  },
  {
   "cell_type": "markdown",
   "id": "04619ed0",
   "metadata": {},
   "source": [
    "5) Calculer le rendement\n",
    "\n",
    "> $$𝑌_{𝐶/𝐵}=  (𝐹^𝑆 𝑥_𝐶^𝑆−𝐹^E 𝑥_𝐶^𝐸)/(𝐹^𝐸 𝑥_𝐵^𝐸 )   $$\n",
    "> $$𝑌_{C2H4Cl2~/~Cl2}=  (𝐹^𝑆 𝑥_{C2H4Cl2}^𝑆−𝐹^𝐸 𝑥_{C2H4Cl2}^𝐸)/(𝐹^𝐸 𝑥_{Cl2}^𝐸 )   $$\n"
   ]
  },
  {
   "cell_type": "code",
   "execution_count": 29,
   "id": "8e94f636",
   "metadata": {},
   "outputs": [
    {
     "name": "stdout",
     "output_type": "stream",
     "text": [
      "Le rendement est de 100 %\n"
     ]
    }
   ],
   "source": [
    "Y=(FS_C2H4Cl2-FE_C2H4Cl2)/FE_Cl2\n",
    "print('Le rendement est de {:.0f} %'.format(Y*100)) "
   ]
  },
  {
   "cell_type": "markdown",
   "id": "8fffd26a",
   "metadata": {},
   "source": [
    "Est-ce que le débit massique est identique à l'entrée et à la sortie du réacteur ?\n",
    "\n",
    ">La conservation de la masse implique que la masse à l'entrée doit être identique à l'entrée et à la sortie. Il rentre 2000 kg/h de C2H4 et 4804,4 kg/h de Cl2 et il sort 6696,3 kg/h de C2H4Cl2. Pourquoi le bilan ne boucle pas ?\n",
    ">\n",
    ">Une partie du C2H4 n'a pas réagi : le débit molaire en sortie de C2H4 est de 3.79 kmol/h soit 106.1 kg/h. Le bilan massique boucle 106.1+6696.3=2000+4802.4\n",
    "\n",
    "\n",
    "Est-ce que le débit molaire est identique à l'entrée et à la sortie du réacteur ?\n",
    "\n",
    "> Le bilan sur les débits molaires lui ne boucle pas. On a 139.07 kmol/h qui rentre au global. Il ne ressort que 71.43 mol/h. Pourquoi ? \n",
    ">\n",
    ">La réaction produit 1 molécule à partir de 2 molécules de réactif. On perd donc par la réaction 67.64 kmol/h (la vitesse de réaction). \n",
    "\n",
    "Quel est la valeur de la sélectivité de la réaction ?\n",
    "\n",
    "> Dans cet exercice le taux de conversion est de 100 % (tout le chlore est consommé) et le rendement est de 100 %. Puisque le rendement est le produit de la sélectivité par le taux de conversion, la sélectivité est de 100 % : il n'y a pas de réaction concurrente à la production de Dichloroéthane."
   ]
  },
  {
   "cell_type": "markdown",
   "id": "b5435134",
   "metadata": {},
   "source": [
    "# Pour aller plus loin et vous entraîner\n",
    "\n",
    "Vous pouvez refaire l'exercice en prenant un taux de conversion de 80 %. Vous pourrez recalculer les débits partiels en sortie (vous devrez trouver du Cl2 n'ayant pas réagit)\n",
    "\n",
    "# Pour aller (vraiment) plus loin\n",
    "\n",
    "Dans la réalité, il y a une réaction concurrente avec la formation de tétrachlorométhane :\n",
    "\n",
    "C2H4+ 3Cl2 -> C2H2Cl4+2HCl\n",
    "\n",
    "Cette réaction est concurrente de la réaction désirée :\n",
    "\n",
    "C2H4+ Cl2 -> C2H4Cl2\n",
    "\n",
    "On définira donc deux vitesses de formation, r1, pour la formation du produit désiré, C2H4Cl2, et la vitesse de réaction, r2, pour la réaction concurrente.  \n",
    "\n",
    "La notion de sélectivité de la réaction prend alors tous son sens puiqu'elle définit la prépondérance de la réaction 1 par rapport à la réaction 2. \n",
    "\n",
    "Le code suivant calcule les sorties pour un taux de conversion et une sélectivité pour la réaction 1 donnés."
   ]
  },
  {
   "cell_type": "code",
   "execution_count": 30,
   "id": "2575111e",
   "metadata": {},
   "outputs": [
    {
     "name": "stdout",
     "output_type": "stream",
     "text": [
      "Le débit molaire de C2H4 en entrée est de 71.43 kmol/h\n",
      "Le débit molaire de Cl2 en entrée est de 78.32 kmol/h\n",
      "Le débit molaire de Cl2 en sortie est de 15.66 kmol/h\n",
      "Le débit molaire de C2H4Cl2 en sortie est de 50.12 kmol/h\n",
      "Le rendement est de 64.00 %\n",
      "\n",
      "                    E C2H4  E Cl2   S       \n",
      "Débits partiels     kg/h    kg/h    kg/h    \n",
      "------------------------------------------\n",
      "C2H4                2e+03                \n",
      "Cl2                         5.56e+03        \n",
      "C2H4Cl2                             4.96e+03\n",
      "C2H2Cl4                             702\n",
      "C2H4                                480\n",
      "HCl                                 305\n",
      "Cl2                                 1.11e+03\n",
      "------------------------------------------\n",
      "Somme                       7.56e+037.56e+03\n",
      "\n",
      "                    E C2H4  E Cl2   S       \n",
      "Débits partiels     kmol/h  kmol/h  kmol/h  \n",
      "------------------------------------------\n",
      "C2H4                71.4                \n",
      "Cl2                         78.3        \n",
      "C2H4Cl2                             50.1\n",
      "C2H2Cl4                             4.18\n",
      "C2H4                                17.1\n",
      "HCl                                 8.35\n",
      "Cl2                                 15.7\n",
      "------------------------------------------\n",
      "Somme                       15095.4\n"
     ]
    }
   ],
   "source": [
    "#FW pour les débits massiques et F pour les débis molaires\n",
    "\n",
    "#Masse molaire\n",
    "M_C2H4=28    #g/mol\n",
    "M_Cl2=71     #g/mol\n",
    "M_HCl=36.5     #g/mol\n",
    "M_C2H4Cl2=99 #g/mol\n",
    "M_C2H2Cl4=99+M_Cl2-2\n",
    "\n",
    "#Entrée réactifs\n",
    "FWE_C2H4=2000   #kg/h\n",
    "FWE_Cl2=5560.6  #kg/h pour ces calculs Cl2 doit rester le réactif limitant\n",
    "FE_C2H4Cl2=0    #kmol/h\n",
    "FE_C2H2Cl4=0    #kmol/h\n",
    "FE_HCl=0        #kmol/h\n",
    "\n",
    "#Conditions opératoires\n",
    "TC=0.8 #taux de conversion\n",
    "S=0.8 #sélectivité  \n",
    "\n",
    "FE_C2H4=FWE_C2H4/M_C2H4 #kmol/h\n",
    "FE_Cl2=FWE_Cl2/M_Cl2 #kmol/h\n",
    "\n",
    "print('Le débit molaire de C2H4 en entrée est de {:.2f} kmol/h'.format(FE_C2H4))\n",
    "print('Le débit molaire de Cl2 en entrée est de {:.2f} kmol/h'.format(FE_Cl2)) \n",
    "FS_Cl2=FE_Cl2*(1-TC)\n",
    "print('Le débit molaire de Cl2 en sortie est de {:.2f} kmol/h'.format(FS_Cl2)) \n",
    "FS_C2H4Cl2=FE_C2H4Cl2+S*(FE_Cl2-FS_Cl2)\n",
    "print('Le débit molaire de C2H4Cl2 en sortie est de {:.2f} kmol/h'.format(FS_C2H4Cl2)) \n",
    "Y=(FS_C2H4Cl2-FE_C2H4Cl2)/FE_Cl2\n",
    "print('Le rendement est de {:.2f} %'.format(Y*100))\n",
    "\n",
    "#Détermination des vitesses de réaction 1 et 2 pour le dichlore\n",
    "rC1_Cl2=S*(FE_Cl2-FS_Cl2)       #Quantité de chlore consommée par la réaction 1\n",
    "rC2_Cl2=FE_Cl2-FS_Cl2-rC1_Cl2   #Quantité de chlore consommée par la réaction 2\n",
    "\n",
    "#Détermination des vitesses de consommation de production des différentes espèces \n",
    "#(en appliquant les règles stochiométriques)\n",
    "rC1_C2H4=rC1_Cl2\n",
    "rC2_C2H4=rC2_Cl2/3\n",
    "rP2_C2H2Cl4=rC2_Cl2/3\n",
    "rP2_HCl=2*rC2_Cl2/3\n",
    "\n",
    "#Application des bilandes partiels sur toutes les espèces\n",
    "FS_C2H4=FE_C2H4-rC1_C2H4-rC2_C2H4\n",
    "FS_C2H2Cl4=FE_C2H2Cl4+rP2_C2H2Cl4\n",
    "FS_HCl=FE_HCl+rP2_HCl\n",
    "\n",
    "print('')\n",
    "print('{:<20}{:<8}{:<8}{:<8}'.format('','E C2H4','E Cl2','S'))\n",
    "print('{:<20}{:<8}{:<8}{:<8}'.format('Débits partiels','kg/h','kg/h', 'kg/h'))\n",
    "print('------------------------------------------')\n",
    "print('{:<20}{:.3g}{:<8}{:<8}'.format('C2H4',FWE_C2H4,'', ''))\n",
    "print('{:<20}{:<8}{:.3g}{:<8}'.format('Cl2','',FWE_Cl2, ''))\n",
    "print('{:<20}{:<8}{:<8}{:.3g}'.format('C2H4Cl2','','', FS_C2H4Cl2*M_C2H4Cl2))\n",
    "print('{:<20}{:<8}{:<8}{:.3g}'.format('C2H2Cl4','','', FS_C2H2Cl4*M_C2H2Cl4))\n",
    "print('{:<20}{:<8}{:<8}{:.3g}'.format('C2H4','','', FS_C2H4*M_C2H4))\n",
    "print('{:<20}{:<8}{:<8}{:.3g}'.format('HCl','','', FS_HCl*M_HCl))\n",
    "print('{:<20}{:<8}{:<8}{:.3g}'.format('Cl2','','', FS_Cl2*M_Cl2))\n",
    "print('------------------------------------------')\n",
    "print('{:<20}{:<8}{:.3g}{:.3g}'.format('Somme','',FWE_C2H4+FWE_Cl2, FS_C2H2Cl4*M_C2H2Cl4+FS_C2H4Cl2*M_C2H4Cl2+FS_C2H4*M_C2H4+FS_HCl*M_HCl+FS_Cl2*M_Cl2))\n",
    "\n",
    "print('')\n",
    "print('{:<20}{:<8}{:<8}{:<8}'.format('','E C2H4','E Cl2','S'))\n",
    "print('{:<20}{:<8}{:<8}{:<8}'.format('Débits partiels','kmol/h','kmol/h', 'kmol/h'))\n",
    "print('------------------------------------------')\n",
    "print('{:<20}{:.3g}{:<8}{:<8}'.format('C2H4',FE_C2H4,'', ''))\n",
    "print('{:<20}{:<8}{:.3g}{:<8}'.format('Cl2','',FE_Cl2, ''))\n",
    "print('{:<20}{:<8}{:<8}{:.3g}'.format('C2H4Cl2','','', FS_C2H4Cl2))\n",
    "print('{:<20}{:<8}{:<8}{:.3g}'.format('C2H2Cl4','','', FS_C2H2Cl4))\n",
    "print('{:<20}{:<8}{:<8}{:.3g}'.format('C2H4','','', FS_C2H4))\n",
    "print('{:<20}{:<8}{:<8}{:.3g}'.format('HCl','','', FS_HCl))\n",
    "print('{:<20}{:<8}{:<8}{:.3g}'.format('Cl2','','', FS_Cl2))\n",
    "print('------------------------------------------')\n",
    "print('{:<20}{:<8}{:.3g}{:.3g}'.format('Somme','',FE_C2H4+FE_Cl2, FS_C2H2Cl4+FS_C2H4Cl2+FS_C2H4+FS_HCl+FS_Cl2))\n"
   ]
  },
  {
   "cell_type": "code",
   "execution_count": 31,
   "id": "335a6ccd",
   "metadata": {},
   "outputs": [
    {
     "data": {
      "image/png": "[encoded data removed]",
      "text/plain": [
       "<IPython.core.display.Image object>"
      ]
     },
     "execution_count": 31,
     "metadata": {},
     "output_type": "execute_result"
    }
   ],
   "source": [
    "import matplotlib.pyplot as plt\n",
    "from IPython import display\n",
    "from base64 import b64decode\n",
    "base64_data = \"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\"\n",
    "display.Image(b64decode(base64_data))\n"
   ]
  },
  {
   "cell_type": "code",
   "execution_count": null,
   "id": "6e0f972d",
   "metadata": {},
   "outputs": [],
   "source": []
  }
 ],
 "metadata": {
  "kernelspec": {
   "display_name": "Python 3 (ipykernel)",
   "language": "python",
   "name": "python3"
  },
  "language_info": {
   "codemirror_mode": {
    "name": "ipython",
    "version": 3
   },
   "file_extension": ".py",
   "mimetype": "text/x-python",
   "name": "python",
   "nbconvert_exporter": "python",
   "pygments_lexer": "ipython3",
   "version": "3.9.12"
  }
 },
 "nbformat": 4,
 "nbformat_minor": 5
}
