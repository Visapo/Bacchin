{
 "cells": [
  {
   "attachments": {},
   "cell_type": "markdown",
   "id": "0f275950",
   "metadata": {},
   "source": [
    "# Efficacité d'une Mixed Matrice Membrane MMM pour la dialyse\n",
    "\n",
    "### Etude du transfert en diffusion pure\n",
    "En considérant le seul transfert par diffusion à travers la membrane, exprimer puis calculer la densité de flux et le flux (en g/h) de diffusion d’urée et de créatine  pour une dans le sang de 3g/L et de 100 mg/L en urée et en toxine\n",
    "\n",
    "### Etude du transfert en régime diffusion + adsorption\n",
    "Une membrane MMM contient des adsorbants. Ces adsorbants, dispersés finement dans la membrane, représentent une surface d’adsorption caractérisée par une surface spécifique, a, représentant la surface active par unité de volume de la membrane. L’adsorption peut être décrite par une réaction hétérogène d’ordre 1.\n",
    "\n",
    "Calculer le flux de matière de toxine en kg/(m2s) et en g/h qui sera extrait du compartiment sang. Chiffrer le gain par rapport à une membrane opérant par diffusion seule (voir diapo précédente).\n",
    "\n",
    "Calculer la concentration en toxine présente à la moitié de l’épaisseur de la membrane. \n",
    "\n",
    "Conclure sur l’intérêt d’intégrer les adsorbants sur toute l’épaisseur de la membrane. \n",
    "\n",
    "\n",
    "### Données :\n",
    "- Surface du rein artificiel 0,6 m2\n",
    "- Coefficient de diffusion de l’urée dans la membrane (classique ou MMM) : Du=4 10-11 m2 /s \n",
    "- Coefficient de diffusion de la toxine dans la membrane (classique ou MMM) : Dt=2 10-12 m2 /s \n",
    "- Epaisseur de la membrane de dialyse : e=50 micromètres \n",
    "- Surface spécifique des adsorbants dans la MMM : a=10 m2 /m3 \n",
    "- Constante de vitesse de la réaction d’adsorption assimilée à une réaction hétérogène d’ordre 1 : k*R=0,01 m/s \n",
    "\n"
   ]
  },
  {
   "cell_type": "code",
   "execution_count": 34,
   "id": "8bc7095f",
   "metadata": {},
   "outputs": [
    {
     "name": "stdout",
     "output_type": "stream",
     "text": [
      "La densité de flux de matière d urée est de    2.400000e-06  kg m-2 s-1\n",
      "La densité de flux de matière de toxine est de 4.000000e-09  kg m-2 s-1\n",
      "Le flux de matière d urée est de               5.184000  g/h\n",
      "Le flux de matière de toxine est de            0.008640  g/h\n"
     ]
    }
   ],
   "source": [
    "import numpy as np\n",
    "import matplotlib.pyplot as plt\n",
    "\n",
    "# Données opératoires\n",
    "cu=3      #g/L ou kg/m3\n",
    "ct=0.1    #g/L ou kg/m3\n",
    "# Données membrane\n",
    "Du=4e-11  #m2s-1\n",
    "Dt=2e-12  #m2s-1\n",
    "e=50e-6   #m\n",
    "S=0.6     #m2\n",
    "\n",
    "#Calcul des densité de flux (hypothèse concentration nulle dans le dialysat : \n",
    "#                            le débit de dialysat doit être suffisant)\n",
    "ju=(Du/e)*cu\n",
    "jt=(Dt/e)*ct\n",
    "print ('La densité de flux de matière d urée est de    {0:e}'.format(ju),' kg m-2 s-1')\n",
    "print ('La densité de flux de matière de toxine est de {0:e}'.format(jt),' kg m-2 s-1')\n",
    "\n",
    "#Calcul des flux en g/h\n",
    "Ju=ju*S*1000*3600\n",
    "Jt=jt*S*1000*3600\n",
    "print ('Le flux de matière d urée est de               {0:f}'.format(Ju),' g/h')\n",
    "print ('Le flux de matière de toxine est de            {0:f}'.format(Jt),' g/h')"
   ]
  },
  {
   "cell_type": "markdown",
   "id": "1b923399",
   "metadata": {},
   "source": [
    "# Etude du transfert en régime diffusion + adsorption\n",
    "\n",
    "Lors de la dialyse à travers une Mixed Matrice Membrane il y a un transport diffusif des espèces mais également une réaction d'adorption. Le profil de concentration n'est donc plus linéaire comme en diffusion pure. Pour déterminer le profil de concentration, il est nécessaire de résoudre l'équation de continuité dans un élément de volume dans la membrane :\n",
    "\n",
    "$\\frac{\\partial c}{\\partial t}=- \\mathbf{\\nabla} \\cdot \\mathbf{j} \\pm s$\n",
    "\n",
    "Pour les hypothèses suivantes :\n",
    "- régime permanent\n",
    "- coordonnée rectigne dans une direction x\n",
    "- terme source $s=a k^*_R c$\n",
    "- flux de matière diffusif $j=-D \\nabla c=-D \\frac{\\partial c}{\\partial x}$\n",
    "\n",
    "Il faut résoudre l'équation différentielle :\n",
    "\n",
    "$D\\frac{\\partial^2 c}{\\partial x^2} -a k^*_R c=0$\n",
    "\n",
    "Avec les conditions limites :\n",
    "\n",
    "$x=0$   $c=c_b$\n",
    "\n",
    "$x=e$   $c=c_d=0$\n",
    "\n",
    "La solution générale de cette équation est :\n",
    "\n",
    "$c=K_1 ch{\\varphi\\frac{x}{e}} + K_22 ch{\\varphi\\frac{x}{e}}$\n",
    "\n",
    "en définissant un nombre sans dimension appelé [nombre de Thiele](https://fr.wikipedia.org/wiki/Nombre_de_Thiele) :\n",
    "\n",
    "$\\varphi=\\sqrt{\\frac{ak_R^\\ast}{D}}e $\n",
    "\n",
    "Les conditions limites permettent de déterminer les constantes :\n",
    "\n",
    "$c_b=K_1$\n",
    "\n",
    "$0=K_1 ch\\left(\\varphi\\right)+K_2 sh\\left(\\varphi\\right)$\n",
    "\n",
    "$K_2=-\\frac{c_b}{th(\\varphi)}$\n",
    "\n",
    "Le profil de concentration s'écrit alors :\n",
    "\n",
    "$\\frac{c}{c_b}=ch{\\left(\\varphi\\frac{x}{e}\\right)}-\\frac{sh(\\varphi\\frac{x}{e})}{th(\\varphi)}$\n",
    "\n",
    "Ce profil permet de déduire les flux de matière côté sang et dialysat :\n",
    "\n",
    "$\\left.\\ j\\right|_{x=0}=\\frac{D}{e}\\frac{\\varphi}{th(\\varphi)}c_b$\n",
    "\n",
    "$\\left.\\ j\\right|_{x=e}=\\frac{D}{e}\\frac{\\varphi}{sh(\\varphi)}c_b$\n"
   ]
  },
  {
   "cell_type": "code",
   "execution_count": 36,
   "id": "4804d711",
   "metadata": {},
   "outputs": [
    {
     "name": "stdout",
     "output_type": "stream",
     "text": [
      "Le nombre de Thiele est de 11.180340\n",
      "Puisque le nombre est très supérieur à 1 le régime est limité par la diffusion\n",
      "Le flux de matière est multiplié par 11.180340 par rapport à un flux purement diffusif\n",
      "Le flux de matière entrant dans la membrane (et donc enlevé deu sang) est de 96.598137 mg/h\n",
      "Le flux de matière sortant de la membrane (arrivant dans le dialysat) est de 0.002694 mg/h\n"
     ]
    },
    {
     "data": {
      "image/png": "[encoded data removed]",
      "text/plain": [
       "<Figure size 432x288 with 1 Axes>"
      ]
     },
     "metadata": {
      "needs_background": "light"
     },
     "output_type": "display_data"
    },
    {
     "name": "stdout",
     "output_type": "stream",
     "text": [
      "c/cb à mi-membrane est 0.003734\n"
     ]
    }
   ],
   "source": [
    "#Calcul du module de Thiele\n",
    "\n",
    "#Données charbon actif\n",
    "a=10    #m2 m-3\n",
    "kR=0.01 #m s-1\n",
    "\n",
    "Phi=np.sqrt(a*kR/Dt)*e\n",
    "print ('Le nombre de Thiele est de {0:f}'.format(Phi))\n",
    "print ('Puisque le nombre est très supérieur à 1 le régime est limité par la diffusion')\n",
    "\n",
    "print ('Le flux de matière est multiplié par {0:f} par rapport à un flux purement diffusif'.format(Phi/np.tanh(Phi)))\n",
    "\n",
    "#Calcul des flux en mg/h\n",
    "Je=S*(Dt/e)*(Phi/np.tanh(Phi))*ct*1000*3600*1000\n",
    "Js=S*(Dt/e)*(Phi/np.sinh(Phi))*ct*1000*3600*1000\n",
    "print ('Le flux de matière entrant dans la membrane (et donc enlevé deu sang) est de {0:f} mg/h'.format(Je))\n",
    "print ('Le flux de matière sortant de la membrane (arrivant dans le dialysat) est de {0:f} mg/h'.format(Js))\n",
    "\n",
    "x=np.linspace(0,e,100)\n",
    "#Calcul du rapport c/cb\n",
    "c=np.cosh(Phi*x/e)-np.sinh(Phi*x/e)/np.tanh(Phi)\n",
    "\n",
    "plt.plot(x,c)\n",
    "plt.xlabel('Profondeur dans la membrane (m)')\n",
    "plt.ylabel('c/cb (-)')\n",
    "plt.show()\n",
    "\n",
    "#Calcul de la concentration à mi épaisseur\n",
    "c2=np.cosh(Phi/2)-np.sinh(Phi/2)/np.tanh(Phi)\n",
    "print ('c/cb à mi-membrane est {0:f}'.format(c2))\n"
   ]
  },
  {
   "cell_type": "markdown",
   "id": "d0ca527a",
   "metadata": {},
   "source": [
    "La quantité d'absorbant permet de réduire de façon importante la teneur en toxine. Il pourrait être possible de réduire la teneur en absorbant. "
   ]
  },
  {
   "cell_type": "code",
   "execution_count": null,
   "id": "90ce0be6",
   "metadata": {},
   "outputs": [],
   "source": []
  }
 ],
 "metadata": {
  "kernelspec": {
   "display_name": "Python 3 (ipykernel)",
   "language": "python",
   "name": "python3"
  },
  "language_info": {
   "codemirror_mode": {
    "name": "ipython",
    "version": 3
   },
   "file_extension": ".py",
   "mimetype": "text/x-python",
   "name": "python",
   "nbconvert_exporter": "python",
   "pygments_lexer": "ipython3",
   "version": "3.9.12"
  }
 },
 "nbformat": 4,
 "nbformat_minor": 5
}
