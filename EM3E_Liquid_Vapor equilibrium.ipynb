{
 "cells": [
  {
   "attachments": {},
   "cell_type": "markdown",
   "metadata": {},
   "source": [
    "# Liquid/Vapor Equilibrium : relative volatility\n",
    "\n",
    "At 373 K, the vapor pressure of n-heptane is 106 kN/m2  and the one of toluene is 73,7 kN/m2\n",
    "\n",
    "**Calculate the different molar fraction in the gas and liquid phase at equilibrium for a total pressure of 101,3 kN/m2**\n",
    "\n",
    ">The pressure of the mixture is the sum of the partial pressure :\n",
    ">$$P_A+P_B=P$$\n",
    ">The writing of the Raoult law for ideal components leads to :\n",
    ">$$x_A P_A^0+(1-x_A)P_B^0=P$$\n",
    "The molar fraction of A can be calculated from :\n",
    ">$$x_A=\\frac{P-P_B^0}{P_A^0-P_B^0}$$\n"
   ]
  },
  {
   "cell_type": "code",
   "execution_count": 10,
   "metadata": {},
   "outputs": [
    {
     "name": "stdout",
     "output_type": "stream",
     "text": [
      "yA  = 0.894      yB  = 0.106\n",
      "xA  = 0.854      xB  = 0.146\n"
     ]
    }
   ],
   "source": [
    "P=101.3 #kN/m2\n",
    "PA0=106 #kN/m2\n",
    "PB0=73.7 #kN/m2\n",
    "xA=(P-PB0)/(PA0-PB0)\n",
    "yA=xA*PA0/P\n",
    "yB=1-yA\n",
    "xB=1-xA\n",
    "print ('yA  =', round(yA,3),'     yB  =', round(yB,3))\n",
    "print ('xA  =', round(xA,3),'     xB  =', round(xB,3))"
   ]
  },
  {
   "cell_type": "markdown",
   "metadata": {},
   "source": [
    "**Calculate the relative volatility.**\n",
    ">The relative volatility is defined as :\n",
    ">$$\\alpha=\\frac{y_A x_B}{x_A y_B}=\\frac{P_A^0}{P_B^0}$$"
   ]
  },
  {
   "cell_type": "code",
   "execution_count": 11,
   "metadata": {},
   "outputs": [
    {
     "name": "stdout",
     "output_type": "stream",
     "text": [
      "The relative volatility is 1.438  or  1.438\n"
     ]
    }
   ],
   "source": [
    "import numpy as np\n",
    "import matplotlib.pyplot as plt\n",
    "alpha1=yA*xB/(xA*yB)\n",
    "alpha2=PA0/PB0\n",
    "print ('The relative volatility is', round(alpha1,3), ' or ', round(alpha2,3))"
   ]
  },
  {
   "cell_type": "code",
   "execution_count": 22,
   "metadata": {},
   "outputs": [
    {
     "data": {
      "image/png": "[encoded data removed]",
      "text/plain": [
       "<Figure size 432x288 with 1 Axes>"
      ]
     },
     "metadata": {
      "needs_background": "light"
     },
     "output_type": "display_data"
    }
   ],
   "source": [
    "#plot of square diagram y=f(x)\n",
    "x=np.linspace(0,1,100)\n",
    "y=alpha1*x/(1+(alpha1-1)*x)\n",
    "yb=x\n",
    "plt.plot(x,y)\n",
    "plt.plot(x,yb,'r--')\n",
    "plt.xlabel('x')\n",
    "plt.ylabel('y')\n",
    "plt.show()\n"
   ]
  },
  {
   "cell_type": "code",
   "execution_count": null,
   "metadata": {},
   "outputs": [],
   "source": []
  }
 ],
 "metadata": {
  "kernelspec": {
   "display_name": "Python 3",
   "language": "python",
   "name": "python3"
  },
  "language_info": {
   "codemirror_mode": {
    "name": "ipython",
    "version": 3
   },
   "file_extension": ".py",
   "mimetype": "text/x-python",
   "name": "python",
   "nbconvert_exporter": "python",
   "pygments_lexer": "ipython3",
   "version": "3.7.3"
  }
 },
 "nbformat": 4,
 "nbformat_minor": 2
}
