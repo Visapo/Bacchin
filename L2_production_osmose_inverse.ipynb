{
 "cells": [
  {
   "cell_type": "markdown",
   "id": "9c3ed9e8",
   "metadata": {},
   "source": [
    "# Production d’eau douce par osmose inverse\n",
    "\n",
    "On souhaite implanter une usine de dessalement sur l’ile de Curaçao pouvant produire 3 000 m3 d’eau par jour et répondre ainsi aux besoins en eau de 20 000 habitants. \n",
    "1. Est-ce que la capacité de production de l’usine vous semble adéquate par rapport aux besoins en eau des habitants ?"
   ]
  },
  {
   "cell_type": "code",
   "execution_count": 136,
   "id": "c254945d",
   "metadata": {},
   "outputs": [
    {
     "name": "stdout",
     "output_type": "stream",
     "text": [
      "La production est de 150.0 L par jours et par habitants ce qui est l ordre de grandeur de la consommation par personne en 2022\n"
     ]
    }
   ],
   "source": [
    "#Données\n",
    "Q=3000  #m3/jours débit de production de l'usine\n",
    "N=20000 #habitants \n",
    "\n",
    "# Calcul de la production par habitants\n",
    "P=Q/N         #m3.jours-1.habitants-1\n",
    "P1=Q*1000/N   #L.jours-1.habitants-1\n",
    "print ('La production est de {} L par jours et par habitants ce qui est l ordre de grandeur de la consommation par personne en 2022'.format(P1)) "
   ]
  },
  {
   "cell_type": "markdown",
   "id": "4631f7d8",
   "metadata": {},
   "source": [
    "On dispose d’une membrane d’osmose inverse avec une perméabilité à l’eau A= 3.10-12 m/(s.Pa).\n",
    "\n",
    "2. Calculer la surface de membrane à installer en m2 pour dessaler 3 000 m3 d’eau par jour avec une pression appliquée de 50 atm. Le compartiment côté eau douce est à la pression atmosphérique.\n",
    "\n",
    ">On utilise la loi de filtration suivante :\n",
    ">$$Q=A~S(\\Delta P - \\Delta \\Pi)$$\n",
    ">où \n",
    ">- Q est le débit à travers la membrane (m3.s-1)\n",
    ">- A est la perméabilité de la membrane (m.s-1.Pa-1)\n",
    ">- S est la surface de la membrane (m2)\n",
    ">- $\\Delta P - \\Delta \\Pi$ est la pression de filtration effective\n",
    ">- $\\Delta P= P_s -P_d$ où $P_s$ est la pression appliquée sur le compartiment eau de mer et $P_d$ est la pression sur le compartiment eau douce\n",
    ">- $\\Delta \\Pi= \\Pi_s -\\Pi_d$ où $\\Pi_s$ est la pression osmotique du compartiment eau de mer et $\\Pi_d$ est la pression osmotique dans compartiment eau douce\n",
    "> On considèrera que le compartiment eau douce est la pression atmosphérique et que la pression osmotique de l'eau douce est nulle (ce qui est le cas s'il y a peu de sels).\n",
    ">\n",
    ">La pression osmotique peut être estimée (en considérant le cas idéal) par la relation de Van't Hoff :\n",
    "$$\\Pi=c~R~T$$\n",
    "> où c est le nombre de moles par $m^3$ d'espèces dissociées"
   ]
  },
  {
   "cell_type": "code",
   "execution_count": 137,
   "id": "45ef2481",
   "metadata": {},
   "outputs": [
    {
     "name": "stdout",
     "output_type": "stream",
     "text": [
      "La pression osmotique de l eau mer est 25.10 Atm\n",
      "La surface de membrane nécessaire est 4781.16 m2\n"
     ]
    }
   ],
   "source": [
    "#Données\n",
    "Q=Q/(24*3600)   #m3/s\n",
    "atm=1.013e5     #Pa\n",
    "Ps=50*atm       #Pa (Pression appliquée eau de mer)\n",
    "Pd=atm          #Pa (Pression eau douce)\n",
    "Pid=0           #Pa (Pression osmotique eau douce)\n",
    "cNaCl=30        #g/L (Concentration en NaCl eau de mer)\n",
    "MNaCl=58.5      #g/mol\n",
    "R=8.32          #J.mol-1.K-1\n",
    "T=298           #K\n",
    "A=3e-12         #m.s-1.Pa-1\n",
    "\n",
    "cs=cNaCl/MNaCl    #mol/L\n",
    "Pis=2*cs*1000*R*T #Pa\n",
    "print ('La pression osmotique de l eau mer est {:.2f} Atm'.format(Pis/atm))\n",
    "\n",
    "S=Q/(A*(Ps-Pd-(Pis-Pid)))\n",
    "print ('La surface de membrane nécessaire est {:.2f} m2'.format(S))"
   ]
  },
  {
   "cell_type": "markdown",
   "id": "24bcff1a",
   "metadata": {},
   "source": [
    "3. Comparer à la surface d’eau nécessaire pour obtenir le même débit par condensation de l'eau issu de l'évaporation solaire (en utilisant les résultats du TD précédent). Il faudrait alors condenser toute l'eau évaporée sur cette surface."
   ]
  },
  {
   "cell_type": "code",
   "execution_count": 138,
   "id": "c81ac971",
   "metadata": {},
   "outputs": [
    {
     "name": "stdout",
     "output_type": "stream",
     "text": [
      "La surface de membrane nécessaire est 1018246.99 m2 ou 1.02 km2\n"
     ]
    }
   ],
   "source": [
    "jevap=3.41e-05   #kg s-1 m-2\n",
    "\n",
    "jcond=jevap      #kg s-1 m-2\n",
    "jcond=jcond*1e-3 #m3 s-1 m-2\n",
    "\n",
    "#Q=S_eau*jcond\n",
    "S_eau=Q/jcond\n",
    "print ('La surface de membrane nécessaire est {:.2f} m2 ou {:.2f} km2'.format(S_eau, S_eau/1e6))"
   ]
  },
  {
   "cell_type": "markdown",
   "id": "eff090a1",
   "metadata": {},
   "source": [
    "Le dessalement engendre la production de saumure : une solution concentrée en sels. Pour estimer le débit de saumure, on fixe ici une concentration en sels dans la saumure ne dépassant pas 50 g/L pour éviter les problèmes de précipitation du sel dans le procédé d'osmose inverse et pour éviter d’avoir une contre pression osmotique trop importante.\n",
    "\n",
    "> Cette partie de code trace le flowsheet avec les inconnus"
   ]
  },
  {
   "cell_type": "code",
   "execution_count": 139,
   "id": "f2c9ec23",
   "metadata": {},
   "outputs": [
    {
     "data": {
      "image/png": "[encoded data removed]",
      "text/plain": [
       "<Figure size 576x576 with 1 Axes>"
      ]
     },
     "metadata": {
      "needs_background": "light"
     },
     "output_type": "display_data"
    }
   ],
   "source": [
    "import matplotlib.pyplot as plt\n",
    "#tracé du flowsheet\n",
    "xs, ys = 40, 40       #position du separateur\n",
    "lx, ly = 40, 20       #taille du separateur\n",
    "la, hla, hwa=25, 5,3  #taille des fleches\n",
    "\n",
    "def plot_flowsheet_OI():\n",
    "    fig, ax = plt.subplots(figsize=(8, 8))\n",
    "    ax.set_aspect( 1 )\n",
    "    plt.axis('off')\n",
    "    plt.plot([xs,xs+lx,xs+lx,xs,xs],[ys,ys,ys+ly,ys+ly,ys],'k')\n",
    "    plt.plot([xs+lx,xs],[ys,ys+ly],'b--',alpha=0.3)\n",
    "    plt.arrow(xs-la-hla,ys+ly/2,la,0, head_width=hwa, head_length=hla, fc='k', ec='k')\n",
    "    plt.arrow(xs+lx,ys+ly/2,la,0, head_width=hwa, head_length=hla, fc='k', ec='k')\n",
    "    plt.arrow(xs+lx/2,ys,0,-la, head_width=hwa, head_length=hla, fc='k', ec='k')\n",
    "    plt.arrow(xs+lx/2,ys,0,-la, head_width=hwa, head_length=hla, fc='k', ec='k')\n",
    "    plt.text(45,52,'Osmose inverse',c='b', size=15)\n",
    "    plt.text(50,47,'S={:.0f}'.format(S)+r\"$~m^2$\", size=15)\n",
    "    plt.text(xs-la-hla,ys+ly/2+2, 'Eau brute',color='b', size=15)\n",
    "    plt.text(xs-la-hla,ys+ly/2-10, r\"$c_{1}=30~g/L$\", size=15)\n",
    "    plt.text(xs+lx/2+5,ys-15, 'Saumure',color='b', size=15)\n",
    "    plt.text(xs+lx/2+5,ys-25, r\"$c_{2}= 50~g/L$\", size=15)\n",
    "    plt.text(xs+lx+5,ys+ly/2+2, 'Eau douce',color='b', size=15)\n",
    "    plt.text(xs+lx+5,ys+ly/2-5, r\"$F_{3}=3000~m^3.jours^{-1}$\", size=15)\n",
    "    plt.text(xs+lx+5,ys+ly/2-10, r\"$c_{3}=20~mg/L$\", size=15)\n",
    "\n",
    "plot_flowsheet_OI()    \n",
    "plt.text(xs-la-hla,ys+ly/2-5, r\"$F_{1}=?$\", color='r', size=15)\n",
    "plt.text(xs+lx/2+5,ys-20, r\"$F_{2}=?$\", color='r',size=15)\n",
    "plt.show()"
   ]
  },
  {
   "cell_type": "markdown",
   "id": "0be6dd95",
   "metadata": {},
   "source": [
    "4. Compléter le flowsheet en effectuant des bilans pour trouver $F_1$ et $F_2$.\n",
    "\n",
    "> On peut écrire deux équations (1 bilan global et un bilan partiel) pour trouver les deux inconnues $F_1$ et $F_2$ :\n",
    ">$$F_1=F_2+F_3$$\n",
    ">$$F_1~c_1=F_2~c_2+F_3~c_3$$\n",
    ">On cherche alors à exprimer $F_1$ à partir des deux équations en écrivant $F_2$ comme $F_1-F_3$ dans la deuxième équation :\n",
    ">$$F_1~c_1=(F_1-F_3)~c_2+F_3~c_3$$\n",
    ">soit :\n",
    ">$$F_1=F_3\\frac{c_3-c_2}{c_1-c_2}$$\n",
    ">On peut noter que les dimensions de l'équation sont correctes. On peut même vérifier "
   ]
  },
  {
   "cell_type": "code",
   "execution_count": 140,
   "id": "83f174d3",
   "metadata": {},
   "outputs": [
    {
     "name": "stdout",
     "output_type": "stream",
     "text": [
      "Le débit d alimentation est de 0.087 m3/s ou 7497.00 m3/jours\n",
      "Le débit de saumure est de 0.052 m3/s ou 4497.00 m3/jours\n"
     ]
    },
    {
     "data": {
      "image/png": "[encoded data removed]",
      "text/plain": [
       "<Figure size 576x576 with 1 Axes>"
      ]
     },
     "metadata": {
      "needs_background": "light"
     },
     "output_type": "display_data"
    }
   ],
   "source": [
    "F3=Q      #m3/s\n",
    "c1=30    #g/L ou kg.m-3\n",
    "c2=50 #g/L ou kg.m-3\n",
    "c3=20e-3    #g/L ou kg.m-3\n",
    "F1=F3*(c3-c2)/(c1-c2)\n",
    "F2=F1-F3\n",
    "print('Le débit d alimentation est de {:.3f} m3/s ou {:.2f} m3/jours'.format(F1, F1*24*3600))\n",
    "print('Le débit de saumure est de {:.3f} m3/s ou {:.2f} m3/jours'.format(F2, F2*24*3600))\n",
    "\n",
    "#tracé du flowsheet avec les solutions\n",
    "plot_flowsheet_OI()    \n",
    "plt.text(0,ys+ly/2-5, r\"$F_{1}=$\"+'{:.0f}'.format(F1*24*3600)+r\"$~m^3.jours^{-1}$\", color='r', size=15)\n",
    "plt.text(xs+lx/2+5,ys-20, r\"$F_{2}=$\"+'{:.0f}'.format(F2*24*3600)+r\"$~m^3.jours^{-1}$\", color='r',size=15)\n",
    "plt.show()"
   ]
  },
  {
   "cell_type": "markdown",
   "id": "4298cae6",
   "metadata": {},
   "source": [
    "5. En déduire le taux de conversion du procédé.\n",
    "\n",
    ">Le taux de conversion s'écrit généralement comme le rapport entre le débit d'eau douce produite et le débit d'eau utilisé dans le procédé (ou débit d'alimentation)\n",
    "$$Y=\\frac{F_3}{F_1}$$"
   ]
  },
  {
   "cell_type": "code",
   "execution_count": 141,
   "id": "944c41c3",
   "metadata": {},
   "outputs": [
    {
     "name": "stdout",
     "output_type": "stream",
     "text": [
      "Le taux de conversion est de 40.02 %\n"
     ]
    }
   ],
   "source": [
    "Y=F3/F1\n",
    "print('Le taux de conversion est de {:.2f} %'.format(Y*100))"
   ]
  },
  {
   "cell_type": "markdown",
   "id": "28cfb37e",
   "metadata": {},
   "source": [
    "6. Calculer la masse de sels qui finira dans la saumure par jour.\n",
    "\n",
    ">La masse de sels dans la saumure est $F_2~c_2$"
   ]
  },
  {
   "cell_type": "code",
   "execution_count": 142,
   "id": "6b25cb4e",
   "metadata": {},
   "outputs": [
    {
     "name": "stdout",
     "output_type": "stream",
     "text": [
      "La masse de sels dans la saumure est 224850.000 kg/jours\n"
     ]
    }
   ],
   "source": [
    "M=F2*c2 #kg.s-1\n",
    "M=M*24*3600 #kg/jours\n",
    "print('La masse de sels dans la saumure est {:.3f} kg/jours'.format(M))"
   ]
  },
  {
   "cell_type": "markdown",
   "id": "cffa50b5",
   "metadata": {},
   "source": [
    "7. Pour déterminer l'empreinte environnementale du procédé, calculer la surface de membrane nécessaire à un habitant "
   ]
  },
  {
   "cell_type": "code",
   "execution_count": 143,
   "id": "9db855b6",
   "metadata": {},
   "outputs": [
    {
     "name": "stdout",
     "output_type": "stream",
     "text": [
      "La surface de membrane nécessaire par habitant est de 0.239 m2/hab\n"
     ]
    }
   ],
   "source": [
    "S_par_hab=S/N\n",
    "print('La surface de membrane nécessaire par habitant est de {:.3f} m2/hab'.format(S_par_hab))"
   ]
  },
  {
   "cell_type": "markdown",
   "id": "35e03183",
   "metadata": {},
   "source": [
    "8. ainsi que la quantité de sels additionnelle (liée au dessallement) en kg qui sera rejetée dans l’environnement par jour et par habitant.\n",
    "\n",
    ">La quantité de sels additionnelle qui sera rejetée dans l'environnement peut se calculer de différentes façons :\n",
    ">- La surconcentration en sels dans la saumure par rapport à la concentration dans l'eau prélevée dans la mer : $F_2(c_2-c_1)$\n",
    ">- La quantité de sels enlevée de l'eau produite $F_3(c_1-c_3)$\n",
    ">Selon les équations de bilans ces deux expressions doivent donner le même résultats : c'est donc un autre bon moyen de vérifier ses résultats."
   ]
  },
  {
   "cell_type": "code",
   "execution_count": 145,
   "id": "a754ddc5",
   "metadata": {},
   "outputs": [
    {
     "name": "stdout",
     "output_type": "stream",
     "text": [
      "Le surplus de sel rejeté par habitant est de 4.50 kg.jours-1.hab-1\n"
     ]
    }
   ],
   "source": [
    "rejet_sel=F2*(c2-c1)              #kg.s-1\n",
    "rejet_sel=F2*(c2-c1)*24*3600/N    #kg.jours-1.habitants-1\n",
    "if round(F2*(c2-c1),3) != round(F3*(c1-c3),3):\n",
    "    print ('PROBLEME de calcul : différence entre {} et {}'.format(F2*(c2-c1),F3*(c1-c3)))\n",
    "print('Le surplus de sel rejeté par habitant est de {:.2f} kg.jours-1.hab-1'.format(rejet_sel))"
   ]
  },
  {
   "cell_type": "code",
   "execution_count": null,
   "id": "31149352",
   "metadata": {},
   "outputs": [],
   "source": []
  }
 ],
 "metadata": {
  "kernelspec": {
   "display_name": "Python 3 (ipykernel)",
   "language": "python",
   "name": "python3"
  },
  "language_info": {
   "codemirror_mode": {
    "name": "ipython",
    "version": 3
   },
   "file_extension": ".py",
   "mimetype": "text/x-python",
   "name": "python",
   "nbconvert_exporter": "python",
   "pygments_lexer": "ipython3",
   "version": "3.9.12"
  }
 },
 "nbformat": 4,
 "nbformat_minor": 5
}
