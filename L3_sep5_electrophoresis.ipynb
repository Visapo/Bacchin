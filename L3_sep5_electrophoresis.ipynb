{
 "cells": [
  {
   "cell_type": "markdown",
   "id": "9b652d37",
   "metadata": {},
   "source": [
    "## Electrophorèse continue\n",
    "\n",
    "On souhaite séparer deux protéines la Sérum albumine Bovine (SAB) et l’$\\alpha$-lactalbumine (ALPHA) en jouant sur leur charge. La mobilité électrophorétique des protéines est déterminée en divisant la vitesse de déplacement électrophorétique (mesurée à 20°C dans de l’eau à pH 7) au champ électrique appliqué (u/E). La SAB et l’ALPHA ont des mobilités de -15 10-9 m2.V-1.s-1 et -22.10-9 m2.V-1.s-1. \n",
    "\n",
    "Pour la séparation, on réalise une électrophorèse en écoulement continu au sein d’une veine liquide parallélépipédique de 30 cm de longueur (Lx), 5 cm de largeur (Ly), et 1 cm d’épaisseur (Lz). On applique, parallèlement à l’écoulement, Q, une différence de potentiel de 24 V. Les deux protéines sont injectées au centre de la veine liquide. Le champ électrique entraîne un déplacement dans la direction y qui se combine à l’écoulement du liquide suivant x dû au débit Q. \n",
    "\n",
    "a) Déterminer la vitesse électrophorétique des deux protéines dans ces conditions\n",
    "\n",
    "b) En déduire le temps nécessaire pour que les deux protéines soient séparées de 5 mm lorsqu’on applique le champ électrique\n",
    "\n",
    "c) En déduire le débit de la veine liquide à appliquer pour que la séparation des protéines en sortie de veine liquide, $\\Delta$y, soit de 5 mm \n",
    "\n",
    "d) En sortie de la veine liquide, on récupère l’écoulement dans une 50 petits capillaires d’un diamètre de 1 mm régulièrement espacés sur Ly et numérotés depuis l’anode vers la cathode. Dans quels numéros de capillaires devraient sortir la majorité de SAB et l’$\\alpha$-lactalbumine ?\n"
   ]
  },
  {
   "cell_type": "code",
   "execution_count": 28,
   "id": "cad27627",
   "metadata": {},
   "outputs": [
    {
     "name": "stdout",
     "output_type": "stream",
     "text": [
      "vitesse pour SAB   -7.20e-06 m/s\n",
      "vitesse pour ALPHA -1.06e-05 m/s\n",
      "temps en sec nécessaire  1488.0952380952385\n",
      "débit 1.0079999999999996e-07  m3/s\n",
      "débit 362.8799999999999  mL/h\n",
      "décalage pour SAB   -0.010714285714285716\n",
      "décalage pour ALPHA -0.01571428571428572\n",
      "position SAB   par rapport à l anode en m 0.014285714285714285\n",
      "position ALPHA par rapport à l anode en m 0.009285714285714283\n",
      "numéro de capillaire SAB   14\n",
      "numéro de capillaire ALPHA 9\n"
     ]
    },
    {
     "data": {
      "image/png": "[encoded data removed]",
      "text/plain": [
       "<Figure size 288x288 with 1 Axes>"
      ]
     },
     "metadata": {
      "needs_background": "light"
     },
     "output_type": "display_data"
    }
   ],
   "source": [
    "import numpy as np\n",
    "import matplotlib.pyplot as plt\n",
    "\n",
    "#mobilites\n",
    "mSAB=-15e-9\n",
    "malpha=-22e-9\n",
    "#viscosite de l'eau\n",
    "mu=0.001\n",
    "#geometrie\n",
    "lx=0.3\n",
    "ly=0.05   #m\n",
    "lz=0.01\n",
    "#potentiel applique\n",
    "V=24 #V\n",
    "\n",
    "#Champ electrique\n",
    "E=V/ly\n",
    "vol=lx*ly*lz\n",
    "\n",
    "#vitesse electrophoretique\n",
    "uSAB=mSAB*E\n",
    "ualpha=malpha*E\n",
    "print ('vitesse pour SAB   {:.2e} m/s'.format(uSAB))\n",
    "print ('vitesse pour ALPHA {:.2e} m/s'.format(ualpha))\n",
    "\n",
    "DY=5e-3 #m\n",
    "t=DY/(uSAB-ualpha)\n",
    "print('temps en sec nécessaire ', t)\n",
    "print('débit',vol/t, ' m3/s')\n",
    "print('débit', 1e6*vol/(t/3600), ' mL/h')\n",
    "\n",
    "#calcul du déplacement des protéines\n",
    "DYSAB=uSAB*t\n",
    "DYalpha=ualpha*t\n",
    "\n",
    "print('décalage pour SAB  ', DYSAB)\n",
    "print('décalage pour ALPHA', DYalpha)\n",
    "print('position SAB   par rapport à l anode en m',ly/2+DYSAB)\n",
    "print('position ALPHA par rapport à l anode en m',ly/2+DYalpha)\n",
    "print('numéro de capillaire SAB  ', int(round((ly/2+DYSAB)/1e-3,0)))\n",
    "print('numéro de capillaire ALPHA', int(round((ly/2+DYalpha)/1e-3,0)))\n",
    "\n",
    "fig, ax = plt.subplots(figsize=(4, 4))\n",
    "ax.set_aspect( 1 )\n",
    "plt.axis('off')\n",
    "plt.plot([0,ly,ly,0,0],[0,0,lx,lx,0])\n",
    "plt.plot([ly/2+DYSAB,ly/2],[lx,0],'r')\n",
    "plt.plot([ly/2+DYalpha,ly/2],[lx,0],'g')\n",
    "plt.text(0.1,0.2,'SAB',c='r', size=15)\n",
    "plt.text(0.1,0.15,'ALPHA',c='g', size=15)\n",
    "plt.title('Trajectoire des protéines dans la veine liquide')\n",
    "plt.show()"
   ]
  },
  {
   "cell_type": "code",
   "execution_count": null,
   "id": "eb4b3b9e",
   "metadata": {},
   "outputs": [],
   "source": []
  }
 ],
 "metadata": {
  "kernelspec": {
   "display_name": "Python 3 (ipykernel)",
   "language": "python",
   "name": "python3"
  },
  "language_info": {
   "codemirror_mode": {
    "name": "ipython",
    "version": 3
   },
   "file_extension": ".py",
   "mimetype": "text/x-python",
   "name": "python",
   "nbconvert_exporter": "python",
   "pygments_lexer": "ipython3",
   "version": "3.9.12"
  }
 },
 "nbformat": 4,
 "nbformat_minor": 5
}
