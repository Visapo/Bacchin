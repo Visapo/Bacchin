{
 "cells": [
  {
   "cell_type": "markdown",
   "metadata": {},
   "source": [
    "# TP 6 : Mécanique des Fluides\n",
    "\n",
    "## Rappels\n",
    "\n",
    "Le théorème de Bernoulli : \n",
    "$$\\Delta P + \\Delta\\left(\\frac{1}{2}\\rho U^2\\right) + \\Delta(\\rho g z) = \\sum \\xi - \\frac{\\mathcal P}{Q}$$\n",
    "\n",
    "où $P$ est la pression, $\\rho$ la masse volumique, $U$ la vitesse moyenne, $g$ la gravité, $z$ l'altitude, $\\xi$ les pertes de pression dues aux frottements, $\\mathcal P$ la puissance hydraulique délivrée par une éventuelle pompe entre les points amont et aval des $\\Delta$, et $Q$ le débit volumique. Rappelez-vous que $\\Delta=$ \"amont moins aval\" et non \"final moins initial\". \n",
    "\n",
    "Les pertes de pression s'écrivent : \n",
    "$$\\xi = k_s\\frac{1}{2}\\rho U^2$$\n",
    "où $k_s$ est le coefficient de perte de charge. \n",
    "\n",
    "Pour les sections droites de tube de longueur $L$ et diamètre $d$, \n",
    "$$k_s=\\frac{\\lambda L}{d}$$\n",
    "avec $\\lambda$ le facteur de friction de Moody. En régime laminaire ($Re<2000$), $\\lambda=64/Re$; en régime turbulent ($Re>3000$), $\\lambda=0.316Re^{-1/4}$. \n",
    "\n",
    "Pour les singularités (coude, vanne, diaphragme, etc), les coefficients $k_s$ décroissent à bas $Re$ et sont censés devenir constants à grande $Re$. \n",
    "\n",
    "## Détermination du facteur de friction dans un tube ou une singularité \n",
    "\n",
    "### Tube Droit :\n",
    "\n",
    "Insérez le calcul permettant de trouver le coefficient de perte de charge à partie du théorème de Bernoulli ici. \n",
    "\n",
    "Insérez le graphe ci-dessous:"
   ]
  },
  {
   "cell_type": "code",
   "execution_count": null,
   "metadata": {},
   "outputs": [],
   "source": [
    "from pylab import *\n",
    "# a remplaer:\n",
    "Q  = array([20,30,40])\n",
    "dh = array([0.002,0.004,0.007])\n",
    "# a continuer"
   ]
  },
  {
   "cell_type": "markdown",
   "metadata": {},
   "source": [
    "\n",
    "Insérez vos commentaires ici. \n",
    "\n",
    "\n",
    "\n",
    "### Tube avec 4 coudes :\n",
    "\n",
    "Insérez le calcul permettant de trouver le coefficient de perte de charge à partie du théorème de Bernoulli ici. \n",
    "\n",
    "Insérez un graphe du coefficient de friction en fonction de Re ici:"
   ]
  },
  {
   "cell_type": "code",
   "execution_count": null,
   "metadata": {},
   "outputs": [],
   "source": []
  },
  {
   "cell_type": "markdown",
   "metadata": {},
   "source": [
    "Commentez l’allure de la courbe et la valeur du coefficient à grand Re. \n",
    "\n",
    "\n",
    " \n",
    "### Vanne :\n",
    "\n",
    "Insérez le calcul permettant de trouver le coefficient de perte de charge à partie du théorème de Bernoulli ici. \n",
    "\n",
    "Insérez ici le tableau des valeurs du coefficient de perte de charge. \n",
    "\n",
    "Commentez ces valeurs (variations en fonction de Re et en fonction de la fermeture de la vanne). \n",
    "\n",
    "\n",
    "\n",
    "## Ecoulement dans un tube de Venturi \n",
    "\n",
    "Insérez le calcul permettant de trouver l’expression de la vitesse u2 ici (on néglige les pertes de charge). \n",
    "\n",
    "Insérez le calcul de C ici.\n",
    "\n",
    "Insérez le graphe de la courbe C en fonction du Re ici:\n"
   ]
  },
  {
   "cell_type": "code",
   "execution_count": null,
   "metadata": {},
   "outputs": [],
   "source": []
  },
  {
   "cell_type": "markdown",
   "metadata": {},
   "source": [
    "Commentez ici l’allure de cette courbe et les valeurs de C. \n",
    "\n",
    "Insérez le calcul du coefficient de perte de charge du Venturi ici. \n",
    "\n",
    "Insérez le graphe de la courbe du coefficient de perte de charge en fonction du Re ici :"
   ]
  },
  {
   "cell_type": "code",
   "execution_count": null,
   "metadata": {},
   "outputs": [],
   "source": []
  }
 ],
 "metadata": {
  "kernelspec": {
   "display_name": "Python 3",
   "language": "python",
   "name": "python3"
  },
  "language_info": {
   "codemirror_mode": {
    "name": "ipython",
    "version": 3
   },
   "file_extension": ".py",
   "mimetype": "text/x-python",
   "name": "python",
   "nbconvert_exporter": "python",
   "pygments_lexer": "ipython3",
   "version": "3.7.7"
  }
 },
 "nbformat": 4,
 "nbformat_minor": 2
}
