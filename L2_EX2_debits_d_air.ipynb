{
 "cells": [
  {
   "attachments": {},
   "cell_type": "markdown",
   "id": "5cc67ce1",
   "metadata": {},
   "source": [
    "# débits d'air\n",
    "\n",
    "On considère de l’air\n",
    "\n",
    "1- Sachant que le débit molaire en dioxygène est de 1 mol/s, quels sont les débits molaires d’air et de diazote?\n",
    "\n",
    "> 1. $F_{O2}=1$ mol/s\n",
    "> $$ F_{O2}=x_{O2} F$$\n",
    "> soit $$ F=\\frac{F_{O2}}{x_{O2}}$$\n",
    "> $$ F_{N2}=x_{N2} F$$\n",
    "> on peut vérifier que $F_{O2}+F_{N2}=F$"
   ]
  },
  {
   "cell_type": "code",
   "execution_count": 21,
   "id": "f9882500",
   "metadata": {},
   "outputs": [
    {
     "name": "stdout",
     "output_type": "stream",
     "text": [
      "Le débit molaire (global) d air est de 4.761904761904762 mol/s\n",
      "Le débit molaire (partiel) de diazote est de 3.761904761904762 mol/s\n"
     ]
    }
   ],
   "source": [
    "M_O2=32    #g/mol\n",
    "M_N2=28    #g/mol\n",
    "x_O2=0.21  #molO2/molT\n",
    "x_N2=0.79  #molN2/molT\n",
    "F_O2=1     #mol/s\n",
    "\n",
    "#Débits molaires\n",
    "F=F_O2/x_O2\n",
    "F_N2=x_N2*F\n",
    "\n",
    "print('Le débit molaire (global) d air est de {} mol/s'.format(F))\n",
    "print('Le débit molaire (partiel) de diazote est de {} mol/s'.format(F_N2))"
   ]
  },
  {
   "cell_type": "markdown",
   "id": "b2a8b3ca",
   "metadata": {},
   "source": [
    "2- En considérant un débit d’air de 10 mol/h, quels sont les débits molaires (mol/h) et massiques (g/h) en dioxygène et diazote? \n",
    "\n",
    "> 2- $F=10$ mol/h\n",
    "> $$ F_{O2}=x_{O2} F$$\n",
    "> $$ F_{N2}=x_{N2} F$$\n",
    "> $$ Fw_{O2}=M_{O2} F_{O2}$$\n",
    "> $$ Fw_{N2}=M_{N2} F_{N2}$$\n",
    ">"
   ]
  },
  {
   "cell_type": "code",
   "execution_count": 22,
   "id": "024c75a4",
   "metadata": {},
   "outputs": [
    {
     "name": "stdout",
     "output_type": "stream",
     "text": [
      "Le débit molaire (partiel) de diazote est de 7.9 mol/h\n",
      "Le débit molaire (partiel) de dioxygène est de 2.1 mol/h\n",
      "\n",
      "Le débit massique (partiel) de diazote est de 221.20000000000002 g/h\n",
      "Le débit massique (partiel) de dioxygène est de 67.2 g/h\n"
     ]
    }
   ],
   "source": [
    "F= 10 #mol/h\n",
    "F_N2=x_N2*F\n",
    "F_O2=x_O2*F\n",
    "\n",
    "print('Le débit molaire (partiel) de diazote est de {} mol/h'.format(F_N2))\n",
    "print('Le débit molaire (partiel) de dioxygène est de {} mol/h'.format(F_O2))\n",
    "print('')\n",
    "print('Le débit massique (partiel) de diazote est de {} g/h'.format(F_N2*M_N2))\n",
    "print('Le débit massique (partiel) de dioxygène est de {} g/h'.format(F_O2*M_O2))"
   ]
  },
  {
   "cell_type": "markdown",
   "id": "321191af",
   "metadata": {},
   "source": [
    "3- Calculer le débit massique global de l’air (g/h).\n",
    "\n",
    "> 3- $$Fw=Fw_{O2}+Fw_{N2}$$"
   ]
  },
  {
   "cell_type": "code",
   "execution_count": 23,
   "id": "7b503632",
   "metadata": {},
   "outputs": [
    {
     "name": "stdout",
     "output_type": "stream",
     "text": [
      "Le débit massique (global) de l air est de 288.40 g/h\n"
     ]
    }
   ],
   "source": [
    "Fw=F_O2*M_O2+F_N2*M_N2\n",
    "print('Le débit massique (global) de l air est de {:.2f} g/h'.format(Fw))"
   ]
  },
  {
   "cell_type": "markdown",
   "id": "afbaaa85",
   "metadata": {},
   "source": [
    "**Pour aller plus loin :** Calcul des fractions massiques à partir des fractions molaires\n",
    "\n",
    "> $w_{O2}=\\frac{m_{O2}}{m_{O2}+m_{N2}}$\n",
    ">\n",
    "> Considérons un nombre de mole total, $n_T$. Il y a aura donc $x_{O2}~n_T$ moles de dioxygène et $x_{N2}~n_T$ moles de diazote et donc $M_{O2}~x_{O2}~n_T$ g de dioxygène et $M_{N2}~x_{N2}~n_T$ g de dioxygène \n",
    ">\n",
    "> La fraction massique s'écrit donc :\n",
    ">$w_{O2}=\\frac{M_{O2}~x_{O2}~n_T}{M_{O2}~x_{O2}~n_T+M_{N2}~x_{N2}~n_T}=\\frac{M_{O2}~x_{O2}}{M_{O2}~x_{O2}+M_{N2}~x_{N2}}$"
   ]
  },
  {
   "cell_type": "code",
   "execution_count": 24,
   "id": "0b3c214d",
   "metadata": {},
   "outputs": [
    {
     "name": "stdout",
     "output_type": "stream",
     "text": [
      "La fraction massique en dioxygène est de 23.30 %\n",
      "La fraction massique en dioxygène est de 76.70 %\n"
     ]
    }
   ],
   "source": [
    "w_O2=M_O2*x_O2/(M_O2*x_O2+M_N2*x_N2)\n",
    "print ('La fraction massique en dioxygène est de {:.2f} %'.format(w_O2*100))\n",
    "w_N2=M_N2*x_N2/(M_O2*x_O2+M_N2*x_N2)\n",
    "print ('La fraction massique en dioxygène est de {:.2f} %'.format(w_N2*100))"
   ]
  }
 ],
 "metadata": {
  "kernelspec": {
   "display_name": "Python 3 (ipykernel)",
   "language": "python",
   "name": "python3"
  },
  "language_info": {
   "codemirror_mode": {
    "name": "ipython",
    "version": 3
   },
   "file_extension": ".py",
   "mimetype": "text/x-python",
   "name": "python",
   "nbconvert_exporter": "python",
   "pygments_lexer": "ipython3",
   "version": "3.9.12"
  }
 },
 "nbformat": 4,
 "nbformat_minor": 5
}
