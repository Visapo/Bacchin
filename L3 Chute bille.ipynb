{
 "cells": [
  {
   "cell_type": "markdown",
   "metadata": {},
   "source": [
    "# Vitesse de sédimentation : \n",
    "## Résolution en transitoire et en l'absence de diffusion\n",
    "\n",
    "Pour déterminer la vitesse de chute d'une particule de rayon, R, dans un fluide de viscosité $\\mu$, il faut faire un bilan de force sur la particule :\n",
    "$$\\sum \\vec{F}= m \\vec{a}$$\n",
    "En considérant la force de gravité, la poussée d'Archimède et la force de traînée (donnée par la lode Stokes pour un écoulement laminaire qui doit vérifier $Re=\\frac{\\rho_f u 2 R}{\\mu} < 1$), le bilan de force s'écrit alors :\n",
    "$$V_p(\\rho_p-\\rho_f)g-6\\pi\\mu R u=V_p\\rho_p\\frac{du}{dt}$$\n",
    "où $\\rho_p$ et $\\rho_f$ représentent la masse volumique de la particule et du fluide respectivement et $V_p$ le volume de la particule..\n",
    "\n",
    "Il faut donc résoudre l'équation différentielle suivante :\n",
    "$$V_p\\rho_p\\frac{du}{dt}+6\\pi\\mu R u=V_p(\\rho_p-\\rho_f)g$$\n",
    "Une solution particulière à cette équation différentielle est la vitesse limite obtenue quand l'accélération est nulle et donc $\\frac{du}{dt}=0$. La vitesse limite est égale à :\n",
    "$$ u_{lim}=\\frac{2 R^2}{9 \\mu}(\\rho_p-\\rho_f)g$$\n",
    "Pour simplifier l'équation, on peut introduire des variables sans dimensions  :\n",
    "$$u^*=\\frac{u}{u_{lim}}$$\n",
    "$$t^*=\\frac{6\\pi\\mu R}{V_p\\rho_p}t=\\frac{9 \\mu}{\\rho_p 2 R^2}t $$\n",
    "L'équation différentielle s'écrit alors :\n",
    "$$\\frac{du^*}{dt^*}+u^*=1$$\n",
    "\n",
    ">Essayez par vous-même d'adimensionnaliser l'équation et vérifiez les dimensions de $t^*$ par exemple \n",
    "\n",
    "La solution générale à l'équation différente $\\frac{du^*}{u^*}=-dt^*$ est :\n",
    "$$u^*=Ke^{-t^*}$$\n",
    "La solution particulière à cette équation est :\n",
    "$$u^*=1$$\n",
    "La solution à l'équation est donc :\n",
    "$$u^*=Ke^{-t^*}+1$$\n",
    "En appliquant la conditions initiale, $u^*=0$ quand $t^*=0$, on peut déterminer la valeur de la constante, $k$, et obtenir la relation pour la vitesse en fonction du temps :\n",
    "$$u^*=1-e^{-t^*}$$\n",
    "On peut définir le temps au bout duquel la vitesse a atteint 99% de sa valeur finale, $u^*=0.99$ :\n",
    "$$t^*=-ln(0.01)$$\n"
   ]
  },
  {
   "cell_type": "code",
   "execution_count": 2,
   "metadata": {},
   "outputs": [
    {
     "name": "stdout",
     "output_type": "stream",
     "text": [
      "le nombre de Reynolds est de : 0.043600000000000014\n",
      "la vitesse limite sera de : 0.0021800000000000005 m/s\n"
     ]
    }
   ],
   "source": [
    "import numpy as np\n",
    "import matplotlib.pyplot as plt\n",
    "\n",
    "a=1e-4 #m\n",
    "rhop=2000 #kg m-3\n",
    "rhof=1000 #kg m-3\n",
    "g=9.81 #m s-2\n",
    "mu=0.01 #Pa s\n",
    "\n",
    "\n",
    "\n",
    "vp=4*np.pi*(a**3)/3\n",
    "\n",
    "ulim=2*(a**2)*(rhop-rhof)*g/(9*mu)\n",
    "\n",
    "Re=rhof*ulim*2*a/mu\n",
    "if Re>1 :\n",
    "    print ('Attention, le résultat est FAUX car la loi de Stokes ne s\\'appplique pas')\n",
    "print ('le nombre de Reynolds est de :',Re)\n",
    "\n",
    "print ('la vitesse limite sera de :', ulim, 'm/s')\n",
    "\n"
   ]
  },
  {
   "cell_type": "code",
   "execution_count": 9,
   "metadata": {},
   "outputs": [
    {
     "data": {
      "image/png": "[encoded data removed]",
      "text/plain": [
       "<Figure size 432x288 with 1 Axes>"
      ]
     },
     "metadata": {
      "needs_background": "light"
     },
     "output_type": "display_data"
    },
    {
     "name": "stdout",
     "output_type": "stream",
     "text": [
      " On aura atteint 99.9  % de la valeur limite pour un temps de 0.0030701134573253943 s\n"
     ]
    },
    {
     "data": {
      "image/png": "[encoded data removed]",
      "text/plain": [
       "<Figure size 432x288 with 1 Axes>"
      ]
     },
     "metadata": {
      "needs_background": "light"
     },
     "output_type": "display_data"
    }
   ],
   "source": [
    "tdim=2*(a**2)*rhop/(9*mu)\n",
    "t=np.linspace(0,0.01,101)\n",
    "t_star=t/tdim\n",
    "\n",
    "u_star=1-np.exp(-t_star)\n",
    "u_pc=0.999\n",
    "\n",
    "plt.plot(t_star, u_star)\n",
    "plt.xlabel('t*')\n",
    "plt.ylabel('u*')\n",
    "plt.show()\n",
    "plt.plot(t_star*tdim,u_star*ulim)\n",
    "plt.plot([0,-np.log(1.-u_pc)*tdim], [u_pc*ulim,u_pc*ulim ],'--')\n",
    "plt.plot([-np.log(1.-u_pc)*tdim,-np.log(1.-u_pc)*tdim], [0,u_pc*ulim ],'--')\n",
    "plt.xlabel('t (s)')\n",
    "plt.ylabel('u (m/s)')\n",
    "\n",
    "print (' On aura atteint', u_pc*100,' % de la valeur limite pour un temps de', -np.log(1.-u_pc)*tdim, 's')"
   ]
  },
  {
   "cell_type": "code",
   "execution_count": null,
   "metadata": {},
   "outputs": [],
   "source": []
  }
 ],
 "metadata": {
  "kernelspec": {
   "display_name": "Python 3",
   "language": "python",
   "name": "python3"
  },
  "language_info": {
   "codemirror_mode": {
    "name": "ipython",
    "version": 3
   },
   "file_extension": ".py",
   "mimetype": "text/x-python",
   "name": "python",
   "nbconvert_exporter": "python",
   "pygments_lexer": "ipython3",
   "version": "3.7.4"
  }
 },
 "nbformat": 4,
 "nbformat_minor": 2
}
