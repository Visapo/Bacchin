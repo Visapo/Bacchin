{
 "cells": [
  {
   "cell_type": "markdown",
   "metadata": {
    "deletable": true,
    "editable": true
   },
   "source": [
    "# Etude du transfert d’oxygène dans le biofilm\n",
    "Le terme biofilm est utilisé pour représenter une colonie de bactéries vivant dans une matrice polymérique excrétée par les bactéries. Nous considérerons, dans cette étude, le transfert de l’oxygène dissous dans un biofilm d’épaisseur, e, de 500 micromètres déposé sur une surface plane. \n",
    "L’oxygène diffuse depuis l’extérieur du biofilm (où il est présent à une concentration, cb de $7~10^{-3}$ mol/L) jusqu’au cœur du biofilm (dans lequel il est consommé par les bactéries). Dans cette première partie, nous considèrerons que la concentration en oxygène à l’interface biofilm/liquide, $c_i$, est égale à la concentration dans la solution, $c_b$.\n",
    "\n",
    "*Ecrire l’équation qui permettrait de décrire l’évolution de la concentration en oxygène dans le biofilm en régime stationnaire. Définir les conditions limites permettant de décrire au mieux le problème.*  \n",
    "\n",
    "## Ecriture de l'équation différentielle\n",
    "Nous sommes en présence d’un phéomène de diffusion de l’oxygène couplé à une consommation de l’oxygène dans le biofilm que nous pouvons assimiler à une réaction homogène. En régime stationnaire et en coordonnées recitilignes, l’application de l’équation de continuité conduit à l’équation différentielle suivante :\n",
    "$$D\\frac{d^{2}c}{dz^{2}}-r=0$$\n",
    "Où r est la vitesse de réaction de l’oxygène dans le film. La résolution nécessite deux conditions limites qui sont les suivantes :\n",
    "$$z=0~~~~c=c_b$$\n",
    "$$z=e~~~~j=0~~soit~~\\frac{dc}{dz}=0$$\n",
    "car il n’y a pas de flux d’oxygène à travers la surface qui supporte le biofilm.\n",
    "\n",
    "*Ecrire les équations sous forme adimensionnelle et résoudre.*  "
   ]
  },
  {
   "cell_type": "markdown",
   "metadata": {
    "deletable": true,
    "editable": true
   },
   "source": [
    "## Adimensionnalisation et résolution\n",
    "Sous forme adimensionnelle, l'équation et les conditions limites s'écrivent :\n",
    "$$D\\frac{d^{2}\\hat{c}}{d\\hat{z}^{2}}-\\frac{k_re^2}{D}\\hat{c}=0$$\n",
    "$$D\\frac{d^{2}\\hat{c}}{d\\hat{z}^{2}}-Ha^2\\hat{c}=0$$\n",
    "Les conditions limites sont alors :\n",
    "$$\\hat{z}=0~~~~\\hat{c}=1$$\n",
    "$$\\hat{z}=1~~~~\\frac{d\\hat{c}}{d\\hat{z}}=0$$\n",
    "Après quelques lignes mathématiques écrites rigoureusement (!), on trouve la solution suivante : \n",
    "$$\\hat{c}=\\frac{cosh(Ha(\\hat{z}-1))}{cosh(Ha)}$$"
   ]
  },
  {
   "cell_type": "markdown",
   "metadata": {
    "deletable": true,
    "editable": true
   },
   "source": [
    "## Calcul du Nombre de Hatta\n",
    "$$Ha^2=\\frac{k_re^2}{D}$$\n",
    "\n",
    "On considère que les bactéries occupent 30 % en volume du biofilm. On estime que chaque bactérie (qu’on assimilera à une sphère d’un micromètre de diamètre) consomme 4 105 molécules d’O2 par seconde en présence d’une concentration en oxygène dissous de 7 10-3 mol/L. \n",
    "\n",
    "*Calculer à partir de ces données, la vitesse de la réaction de consommation de l’oxygène dans le biofilm et en déduire la constante de vitesse de réaction si la réaction de consommation d’oxygène par la bactérie est d’ordre un. *\n",
    "\n",
    "Soit V le volume de la bactérie et N le nombre d’Avogadro, la consommation par unité de volume de bactérie est de 4.10+5/(N*V) soit 1,26 mol/(s.m3 de bactérie). En considérant la fraction de volume occupée par les bactéries dans le biofilm, cela correspond à une vitesse de réaction homogène de 0,38 mol(s.m3 de biofilm). Si on considère une réaction d’ordre 1, la constante de vitesse est alors de 0,053 s-1. \n",
    "\n",
    "*Calculer le nombre sans dimension qui représente le rapport entre la réaction et la diffusion dans l'épaisseur du biofilm, tracer le profil de concentration et définir le flux de matière en oxygène consommé par le biofilm.*\n"
   ]
  },
  {
   "cell_type": "code",
   "execution_count": 133,
   "metadata": {
    "collapsed": false,
    "deletable": true,
    "editable": true
   },
   "outputs": [
    {
     "name": "stdout",
     "output_type": "stream",
     "text": [
      "Hatta= 3.36636660516\n"
     ]
    },
    {
     "data": {
      "image/png": "[encoded data removed]",
      "text/plain": [
       "<matplotlib.figure.Figure at 0x8f26b38>"
      ]
     },
     "metadata": {},
     "output_type": "display_data"
    }
   ],
   "source": [
    "import matplotlib.pyplot as plt\n",
    "import numpy as np\n",
    "Conso_bact=4.e+5 #molecule O2 /s\n",
    "Avo=6.022e+23 #molecule/mol\n",
    "R_bact=1.e-6/2. #m\n",
    "Vol_bact=4*3.14*(R_bact**3.)/3 #m3\n",
    "phi_bact=0.3\n",
    "c_o2=7. #mol.m-3\n",
    "e=500.e-6 #m\n",
    "D=1.2e-9 #m2.s-1\n",
    "\n",
    "#Consommation O2 par unité de volume de bactérie en mol.m-3.s-1\n",
    "cvbact=Conso_bact/(Avo*Vol_bact)\n",
    "#Consommation O2 par unité de volume de biofilm en mol.m-3.s-1\n",
    "cvbiof=cvbact*phi_bact\n",
    "#Constante de vitesse de consommation de l'O2 dans le biofilm s-1\n",
    "kr=cvbiof/c_o2\n",
    "Ha=e*np.sqrt(kr/D)\n",
    "print 'Hatta=',Ha\n",
    "z=np.linspace(0.,1.,100)\n",
    "c=np.cosh(Ha*(z-1))/np.cosh(Ha)\n",
    "plt.plot(z,c, 'ro-')\n",
    "plt.xlabel('z/e')\n",
    "plt.ylabel('c/c_b')\n",
    "plt.show()"
   ]
  },
  {
   "cell_type": "markdown",
   "metadata": {
    "collapsed": true,
    "deletable": true,
    "editable": true
   },
   "source": [
    "## Calcul du flux à l'interface\n",
    "\n",
    "$$j=-D\\frac{dc}{dz}\\Bigr|_{z=0}$$\n",
    "$$j=-\\frac{Dc_b}{e}\\frac{d\\hat{c}}{d\\hat{z}}\\Bigr|_{\\hat{z}=0}$$\n",
    "$$\\hat{j}=\\frac{j}{\\frac{Dc_i}{e}}=-\\frac{d\\hat{c}}{d\\hat{z}}\\Bigr|_{\\hat{z}=0}$$\n",
    "A partir du profil de concentration, on peut définir :\n",
    "$$\\hat{j}=Ha~tanh(Ha)$$\n"
   ]
  },
  {
   "cell_type": "code",
   "execution_count": 67,
   "metadata": {
    "collapsed": false
   },
   "outputs": [
    {
     "name": "stdout",
     "output_type": "stream",
     "text": [
      "jhat = 3.35835562845 -\n",
      "j    = 5.6420374558e-05 mol.m-2.s-1\n"
     ]
    },
    {
     "data": {
      "image/png": "[encoded data removed]",
      "text/plain": [
       "<matplotlib.figure.Figure at 0x8f26668>"
      ]
     },
     "metadata": {},
     "output_type": "display_data"
    }
   ],
   "source": [
    "jhat=Ha*np.tanh(Ha)\n",
    "print 'jhat =',jhat, '-'\n",
    "c_i=7.\n",
    "j=jhat*D*c_i/e\n",
    "print 'j    =',j, 'mol.m-2.s-1'\n",
    "plt.plot(z,c, 'ro-')\n",
    "plt.annotate('', xy=(0.5, 0.5), xytext=(0., 0.5),arrowprops=dict(arrowstyle=\"->\"))\n",
    "plt.text(0., 0.55, 'mass flux = %.2E mol.m-2.s-1'%j)\n",
    "plt.xlabel('z/e')\n",
    "plt.ylabel('c/c_b')\n",
    "plt.show()"
   ]
  },
  {
   "cell_type": "markdown",
   "metadata": {},
   "source": [
    "## Effet d'une couche limite sur le transfert\n",
    "On considère maintenant l’effet que peut avoir la vitesse de l’eau au dessus du biofilm sur le transfert en oxygène. En régime permanent le flux d'oxygène absorbée par le biofilm doit être égal à celui arrivant par diffusion dans la couche limite :\n",
    "$$j=\\frac{Dc_i}{e}Ha~tanh(Ha)=k(c_b-c_i)$$\n",
    "Cette égalité permet de déterminer la concentration à l'interface ainsi que le flux transféré : \n",
    "$$\\frac{c_i}{c_b}=\\frac{Bi}{Bi+Ha~tanh(Ha)}$$\n",
    "$$\\frac{j}{kc_b}=\\frac{1}{1+\\frac{Bi}{Ha~tanh(Ha)}}$$\n",
    "\n",
    "avec un nombre de Biot qui représente le rapport du coefficient de matière dans la couche limite $k=\\frac{D_w}{\\delta}$ sur le transfert de matière dans le biofilm $\\frac{D_b}{e}$\n",
    "$$Bi=\\frac{D_w}{D_f}\\frac{e}{\\delta}$$\n",
    "\n",
    "*Déterminer le coefficient de transfert de matière à l'interface si le biofilm est dans un canal ayant un diamètre hydraulique de 1 cm et la vitesse du fluide est de 1 m/s.  \n",
    "Tracer le profil de concentration et déterminer le flux de matière *"
   ]
  },
  {
   "cell_type": "code",
   "execution_count": 98,
   "metadata": {
    "collapsed": false
   },
   "outputs": [
    {
     "name": "stdout",
     "output_type": "stream",
     "text": [
      "Reynolds :  1000.0\n",
      "Sherwood :  30.9152701328\n",
      "Coefficient de transfert de matière :  6.18305402656e-06 m/s\n",
      "Epaisseur de couche limite massique :  0.000323464745967 m\n"
     ]
    }
   ],
   "source": [
    "u=0.1 #m.s-1\n",
    "d=0.01 #m\n",
    "ro=1000. #kg.m-3\n",
    "mu=0.001 #kg.m-1.s-1\n",
    "Dw=2.e-9 #m2.s-1\n",
    "\n",
    "re=ro*u*d/mu\n",
    "sc=mu/(ro*Dw)\n",
    "print 'Reynolds : ', re\n",
    "if re<2000 :\n",
    "    L=1 #m\n",
    "    sh=1.86*((re*sc*d/L)**0.33)\n",
    "else :\n",
    "    sh=0.023*(re**0.8)*(sc**0.33)\n",
    "print 'Sherwood : ', sh\n",
    "k=sh*Dw/d\n",
    "delta=d/sh\n",
    "print 'Coefficient de transfert de matière : ', k, 'm/s'\n",
    "print 'Epaisseur de couche limite massique : ', delta, 'm'"
   ]
  },
  {
   "cell_type": "code",
   "execution_count": 99,
   "metadata": {
    "collapsed": false
   },
   "outputs": [
    {
     "name": "stdout",
     "output_type": "stream",
     "text": [
      "Biot : 2.57627251107\n",
      "Concentration à l interface, ci = 3.03875948981     mol.m-3\n",
      "Flux d oxygene consomme      j  = 2.44925640867e-05 mol.m-2.s-1\n"
     ]
    }
   ],
   "source": [
    "Bi=Dw*e/(D*delta)\n",
    "print 'Biot :', Bi\n",
    "chat=Bi/(Bi+Ha*np.tanh(Ha))\n",
    "c_i=chat*c_b\n",
    "print 'Concentration à l interface, ci =', c_i, '    mol.m-3'\n",
    "j_f=k*(c_b-c_i)\n",
    "j_b=D*c_i*Ha*np.tanh(Ha)/e\n",
    "print 'Flux d oxygene consomme      j  =', j_f, 'mol.m-2.s-1'"
   ]
  },
  {
   "cell_type": "code",
   "execution_count": 132,
   "metadata": {
    "collapsed": false
   },
   "outputs": [
    {
     "name": "stdout",
     "output_type": "stream",
     "text": [
      "Profil de concentration dans la couche limite puis dans le biofilm\n"
     ]
    },
    {
     "data": {
      "image/png": "[encoded data removed]",
      "text/plain": [
       "<matplotlib.figure.Figure at 0x8588630>"
      ]
     },
     "metadata": {},
     "output_type": "display_data"
    },
    {
     "name": "stdout",
     "output_type": "stream",
     "text": [
      "Densité de flux d oxygene (permet de vérifier la continuité du flux à l interface)\n"
     ]
    },
    {
     "data": {
      "image/png": "[encoded data removed]",
      "text/plain": [
       "<matplotlib.figure.Figure at 0x82335f8>"
      ]
     },
     "metadata": {},
     "output_type": "display_data"
    }
   ],
   "source": [
    "import matplotlib.patches as mpatches\n",
    "z=np.linspace(-delta,e,100)\n",
    "c=c_i*np.cosh(Ha*((z/e)-1))/np.cosh(Ha)\n",
    "c=np.where(z > 0., c, c_i+(c_i-c_b)*z/delta) \n",
    "jz=-(D*c_i/e)*Ha*np.sinh(Ha*((z/e)-1))/np.cosh(Ha)\n",
    "jz=np.where(z > 0., jz, k*(c_b-c_i)) \n",
    "print 'Profil de concentration dans la couche limite puis dans le biofilm'\n",
    "fig,ax = plt.subplots(1)\n",
    "plt.plot(z,c, 'ro-')\n",
    "plt.annotate('', xy=(0, c_b/2), xytext=(-delta/2, c_b/2),arrowprops=dict(arrowstyle=\"fancy\",color='blue'))\n",
    "plt.text(-delta, 0.5+c_b/2, 'mass flux = %.2E mol.m-2.s-1'%j_f,color='blue')\n",
    "plt.annotate('', xy=(delta/2,c_b/2), xytext=(0, c_b/2),arrowprops=dict(arrowstyle=\"fancy\",color='green'))\n",
    "plt.text(0, c_b/2-0.5, 'mass flux = %.2E mol.m-2.s-1'%j_b,color='green')\n",
    "rectb = mpatches.Rectangle([0, 0], e, c_b, fc=\"palegreen\")\n",
    "rectf = mpatches.Rectangle([0, 0], -delta, c_b, fc=\"paleturquoise\")\n",
    "ax.add_patch(rectb)\n",
    "ax.add_patch(rectf)\n",
    "plt.xlabel('z')\n",
    "plt.ylabel('c/c_b')\n",
    "plt.show()\n",
    "print 'Densité de flux d oxygene (permet de vérifier la continuité du flux à l interface)'\n",
    "fig2,ax = plt.subplots(1)\n",
    "plt.plot(z,jz, 'ro-')\n",
    "rectb = mpatches.Rectangle([0, 0], e, c_b, fc=\"palegreen\")\n",
    "rectf = mpatches.Rectangle([0, 0], -delta, c_b, fc=\"paleturquoise\")\n",
    "ax.add_patch(rectb)\n",
    "ax.add_patch(rectf)\n",
    "plt.xlabel('z')\n",
    "plt.ylabel('j')\n",
    "plt.show()"
   ]
  },
  {
   "cell_type": "code",
   "execution_count": null,
   "metadata": {
    "collapsed": true
   },
   "outputs": [],
   "source": []
  }
 ],
 "metadata": {
  "kernelspec": {
   "display_name": "Python 2",
   "language": "python",
   "name": "python2"
  },
  "language_info": {
   "codemirror_mode": {
    "name": "ipython",
    "version": 2
   },
   "file_extension": ".py",
   "mimetype": "text/x-python",
   "name": "python",
   "nbconvert_exporter": "python",
   "pygments_lexer": "ipython2",
   "version": "2.7.13"
  }
 },
 "nbformat": 4,
 "nbformat_minor": 2
}
