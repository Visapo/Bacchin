{
 "cells": [
  {
   "cell_type": "markdown",
   "id": "700c9139",
   "metadata": {},
   "source": [
    "# Débits globaux et partiels\n",
    "\n",
    "\n",
    "On étudie le mélange du lait (35g/kg de matière grasse) avec de la crème fraiche 35% (350 g/kg de matière grasse) pour la préparation d’un dessert. \n",
    "\n",
    "1. Calculer la masse volumique du lait non écrémé et de la crème fraiche. On considère que ces deux fluides sont un mélange de lait écrémé (masse volumique 1035,5 kg/m3) et de matière grasse (masse volumique 1035,5 kg/m3).\n",
    "\n",
    "> La masse volumique d'un mélange (ici du lait écrémé mélangé à de la matière grasse)\n",
    "$$\\frac{1}{\\rho_T} = \\frac{x_{mA}}{\\rho_A}+\\frac{x_{mB}}{\\rho_B}$$\n",
    "\n"
   ]
  },
  {
   "cell_type": "code",
   "execution_count": 84,
   "id": "add0f91b",
   "metadata": {},
   "outputs": [
    {
     "name": "stdout",
     "output_type": "stream",
     "text": [
      "La masse volumique de la crème fraiche est de 1004.89 kg/m3 ou de 1.00489 kg/L\n",
      "La masse volumique de la crème fraiche est de 1032.36 kg/m3 ou de 1.03236 kg/L\n",
      "Les résultats sont cohérents si la masse volumique diminue quand il y a de la matière grasse (car la masse volumique de la matière grasse est plus faible\n"
     ]
    }
   ],
   "source": [
    "rho_lait_ecreme=1035.5     #kg.m-3 Masse volumique du lait écrémé\n",
    "rho_MG  =952.6             #kg.m-3 Masse volumique de la matière grasse (MG)\n",
    "x_MG_creme=0.35\n",
    "x_MG_lait=0.035\n",
    "\n",
    "#Calcul de la masse volumique de la crème à 35 % de MG\n",
    "rho_creme=1/((1-x_MG_creme)/rho_lait_ecreme+x_MG_creme/rho_MG)\n",
    "print('La masse volumique de la crème fraiche est de {:.2f} kg/m3 ou de {:.5f} kg/L'.format(rho_creme, rho_creme/1000))\n",
    "\n",
    "#Calcul de la masse volumique du lait à 3.5 % de MG\n",
    "rho_lait=1/((1-x_MG_lait)/rho_lait_ecreme+x_MG_lait/rho_MG)\n",
    "print('La masse volumique de la crème fraiche est de {:.2f} kg/m3 ou de {:.5f} kg/L'.format(rho_lait, rho_lait/1000))\n",
    "\n",
    "print ('Les résultats sont cohérents si la masse volumique diminue quand il y a de la matière grasse (car la masse volumique de la matière grasse est plus faible')\n",
    "\n",
    "\n"
   ]
  },
  {
   "cell_type": "markdown",
   "id": "8dbea99d",
   "metadata": {},
   "source": [
    "Dans le procédé agroalimentaire, on mélange une cuve de lait et une cuve de crême fraiche en soutirant un débit de ces deux cuves que l'on mélange ensuite dans un mélangeur. Pour déterminer les débits on mesure la hauteur des cuves qui font 1,5 m de diamètre. Les hauteurs dans les cuves diminuent de 10 cm et de 2 cm toutes les 5 minutes pour la cuve de lait et de crème fraiche respectivement.\n",
    "\n",
    "2. Calculer les débits massiques et volumiques du lait et de la crème fraiche avant le mélangeur.\n",
    "\n",
    "> A l'aide de la variation de hauteur, $\\Delta H$, pendant le temps, $\\Delta t$, on peut en déduire le volume perdu dans la cuve par unité $\\frac{\\Delta V}{\\Delta t}$ qui correspond à un débit volumique, $F_V$ :\n",
    "$$F_V=S\\frac{\\Delta H}{\\Delta t}=\\frac{\\Delta V}{\\Delta t}$$\n",
    ">où $S$ est la section de la cuve (il vous faut connaître le périmètre, la surface et le volume des principales géométries) \n",
    "> Le débit massique, $F_M$, est alors :\n",
    "$$F_M=\\rho~F_V$$\n",
    ">où $\\rho$ est la masse volumique du fluide qui s'écoule."
   ]
  },
  {
   "cell_type": "code",
   "execution_count": 85,
   "id": "a1d2567b",
   "metadata": {},
   "outputs": [
    {
     "name": "stdout",
     "output_type": "stream",
     "text": [
      "Le débit volumique du lait est de 5.89e-04 m3/s ou de 2120.58 L/h\n",
      "Le débit volumique de la crème est de 1.18e-04 m3/s ou de 424.12 L/h\n",
      "\n",
      "Le débit massique du lait est de 6.08e-01 kg/s ou de 2189.19 kg/h\n",
      "Le débit massique de la crème est de 1.18e-01 kg/s ou de 426.19 kg/h\n"
     ]
    }
   ],
   "source": [
    "import numpy as np\n",
    "DH_lait=0.1   #m\n",
    "DH_creme=0.02 #m\n",
    "DT=5*60       #s\n",
    "D_cuve=1.5    #m\n",
    "S=np.pi*(D_cuve/2)**2 #m2 section de la cuve\n",
    "\n",
    "#Calcul du débit volumique et massique\n",
    "FV_lait=S*DH_lait/DT #m3/s\n",
    "FV_creme=S*DH_creme/DT #m3/s\n",
    "print('Le débit volumique du lait est de {:.2e} m3/s ou de {:.2f} L/h'.format(FV_lait, FV_lait*1000*3600))\n",
    "print('Le débit volumique de la crème est de {:.2e} m3/s ou de {:.2f} L/h'.format(FV_creme, FV_creme*1000*3600))\n",
    "\n",
    "FM_lait=rho_lait*FV_lait    #kg/s\n",
    "FM_creme=rho_creme*FV_creme #kg/s\n",
    "print('')\n",
    "print('Le débit massique du lait est de {:.2e} kg/s ou de {:.2f} kg/h'.format(FM_lait, FM_lait*3600))\n",
    "print('Le débit massique de la crème est de {:.2e} kg/s ou de {:.2f} kg/h'.format(FM_creme, FM_creme*3600))"
   ]
  },
  {
   "cell_type": "markdown",
   "id": "57fad3ff",
   "metadata": {},
   "source": [
    "3. Calculer le débits massique et volumique du lait et de la crème fraiche après le mélangeur.\n",
    "\n",
    ">Lorsqu'on fonctionne en continu (le mélangeur est donc plein de liquide), le débit global en sortie est égale à la somme des débits entrants soit :\n",
    "$$\\sum{F_{sortant}}=\\sum{F_{entrant}}$$\n",
    "> Dans le cas présent, il y a une sortie et deux entrées : le lait et la crème. Le bilan s'écrit donc :\n",
    "$$F_{mélange}=F_{lait}+F_{crème}$$\n",
    "> On peut écrire ce bilan sur les débits volumiques (si on néglige les volumes de mélange) et sur les débits massiques.\n"
   ]
  },
  {
   "cell_type": "code",
   "execution_count": 86,
   "id": "7a63be76",
   "metadata": {},
   "outputs": [
    {
     "name": "stdout",
     "output_type": "stream",
     "text": [
      "Le débit volumique en sortie du mélangeur est de 7.07e-04 m3/s ou de 2544.69 L/h\n",
      "Le débit massique en sortie du mélangeur est de 7.26e-01 m3/s ou de 2615377.35 L/h\n"
     ]
    }
   ],
   "source": [
    "FV_mel=FV_lait+FV_creme\n",
    "FM_mel=FM_lait+FM_creme\n",
    "print('Le débit volumique en sortie du mélangeur est de {:.2e} m3/s ou de {:.2f} L/h'.format(FV_mel, FV_mel*1000*3600))\n",
    "print('Le débit massique en sortie du mélangeur est de {:.2e} m3/s ou de {:.2f} L/h'.format(FM_mel, FM_mel*1000*3600))\n"
   ]
  },
  {
   "cell_type": "markdown",
   "id": "37462339",
   "metadata": {},
   "source": [
    "4. Quel est le temps de séjour moyen dans le mélangeur d’un volume de 10 L ?\n",
    "\n",
    ">Le temps de séjour dans le mélangeur est définit comme le rapport du volume de l'appareil sur le débit volumique qui s'écoule dans l'appareil :\n",
    "$$t_s=V/FV_{mélange}$$\n"
   ]
  },
  {
   "cell_type": "code",
   "execution_count": 87,
   "id": "4187b01e",
   "metadata": {},
   "outputs": [
    {
     "name": "stdout",
     "output_type": "stream",
     "text": [
      "Le temps de séjour d une molécule dans le mélangeur est de 14.15 s\n"
     ]
    }
   ],
   "source": [
    "V=10      #L\n",
    "V=V/1000 #m3\n",
    "\n",
    "ts=V/FV_mel\n",
    "print('Le temps de séjour d une molécule dans le mélangeur est de {:.2f} s'.format(ts))\n"
   ]
  },
  {
   "cell_type": "markdown",
   "id": "d2b5436f",
   "metadata": {},
   "source": [
    "5. Calculer le pourcentage massique en matière grasse en sortie du mélangeur.\n",
    "\n",
    "> Il est nécessaire de faire un petit schéma pour réprésenter tout celà !\n"
   ]
  },
  {
   "cell_type": "code",
   "execution_count": 103,
   "id": "9ea6ea0b",
   "metadata": {},
   "outputs": [
    {
     "data": {
      "image/png": "[encoded data removed]",
      "text/plain": [
       "<Figure size 576x576 with 1 Axes>"
      ]
     },
     "metadata": {
      "needs_background": "light"
     },
     "output_type": "display_data"
    }
   ],
   "source": [
    "import matplotlib.pyplot as plt\n",
    "xs, ys = 40, 40       #position du melangeur\n",
    "lx, ly = 40, 20       #taille du melangeur\n",
    "la, hla, hwa=25, 5,5  #taille des fleches\n",
    "\n",
    "#tracé du flowsheet\n",
    "def plot_flowsheet_melangeur():\n",
    "    fig, ax = plt.subplots(figsize=(8, 8)) \n",
    "    ax.set_aspect( 1 )\n",
    "    plt.axis('off')\n",
    "    plt.plot([xs,xs+lx,xs+lx,xs,xs],[ys,ys,ys+ly,ys+ly,ys])\n",
    "    plt.plot([60,60],[75,54],'b',linewidth=4)\n",
    "    plt.text(xs+10,ys+6,r\"$\\infty$\",size=92,color='b')\n",
    "    plt.arrow(xs-la-hla,ys+ly/3,la,0, head_width=hwa, head_length=hla, fc='k', ec='k')\n",
    "    plt.arrow(xs-la-hla,ys+2*ly/3,la,0, head_width=hwa, head_length=hla, fc='k', ec='k')\n",
    "    plt.arrow(xs+lx,ys+ly/2,la,0, head_width=hwa, head_length=hla, fc='k', ec='k')\n",
    "    plt.text(50,42,'Mélangeur',c='b', size=15)\n",
    "    plt.text(xs-la-hla,ys+ly/3-12, r\"$F_{L}$\"+'={:.3f} kg/s'.format(FM_lait), size=15)\n",
    "    plt.text(xs-la-hla,ys+ly/3-18, r\"$x_{MG~L}$\"+'={:.1f} %'.format(x_MG_lait*100), size=15)\n",
    "    plt.text(xs-la-hla,ys+ly/3-6, 'Lait', size=15)\n",
    "    plt.text(xs-la-hla,ys+ly+8, r\"$F_{C}$\"+'={:.3f} kg/s'.format(FM_creme), size=15)\n",
    "    plt.text(xs-la-hla,ys+ly+2, r\"$x_{MG~C}$\"+'={:.0f} %'.format(x_MG_creme*100), size=15)\n",
    "    plt.text(xs-la-hla,ys+ly-4, 'Crème', size=15)\n",
    "    plt.text(xs+lx+5,ys+ly/2-12, r\"$F_{M}$\"+'={:.3f} kg/s'.format(FM_mel), size=15)\n",
    "    plt.text(xs+lx+5,ys+ly/2-6, 'Mélange', size=15)\n",
    "plot_flowsheet_melangeur()\n",
    "plt.text(xs+lx+5,ys+ly/2-18, r\"$x_{MG~M}$\"+'= ? %', size=15, color='r')\n",
    "plt.show()"
   ]
  },
  {
   "cell_type": "markdown",
   "id": "11bc454d",
   "metadata": {},
   "source": [
    "> IL faut se dire : la quantité de matière grasse qui sort doit être égale à la quantité de crème qui rentre avec le lait à 3,5 % et avec la crème à 35%. La quantité qui sort est le débit partiel est matière grasse c'est à dire $F_{MG3}=F_{3}~x_{MG3}$. On peut de la même façon écrire le débit partiel en matière grasse qui rentre avec le lait $F_{MG1}=F_{1}~x_{MG1}$ et le débit partiel en matière grasse qui rentre avec la crème $F_{MG2}=F_{2}~x_{MG2}$. \n",
    ">\n",
    ">On peut alors écrire :\n",
    "$$F_{MG3}=F_{MG3}+F_{MG1}$$\n",
    ">et ainsi en déduire $x_{MG3}$"
   ]
  },
  {
   "cell_type": "code",
   "execution_count": 89,
   "id": "9b842ed6",
   "metadata": {},
   "outputs": [
    {
     "name": "stdout",
     "output_type": "stream",
     "text": [
      "La fraction massique en matière grasse est de 0.0863 dans le mélange\n"
     ]
    }
   ],
   "source": [
    "FM_MG_lait=FM_lait*x_MG_lait     #kg de MG/s\n",
    "FM_MG_creme=FM_creme*x_MG_creme  #kg de MG/s\n",
    "FM_MG_mel=FM_MG_lait+FM_MG_creme #kg de MG/s\n",
    "x_MG_mel=FM_MG_mel/FM_mel\n",
    "\n",
    "print('La fraction massique en matière grasse est de {:.4f} dans le mélange'.format(x_MG_mel))"
   ]
  },
  {
   "cell_type": "code",
   "execution_count": 106,
   "id": "b8541647",
   "metadata": {},
   "outputs": [
    {
     "data": {
      "image/png": "[encoded data removed]",
      "text/plain": [
       "<Figure size 576x576 with 1 Axes>"
      ]
     },
     "metadata": {
      "needs_background": "light"
     },
     "output_type": "display_data"
    }
   ],
   "source": [
    "plot_flowsheet_melangeur()\n",
    "plt.text(xs+lx+5,ys+ly/2-18, r\"$x_{MG~M}$\"+'= {:.2f} %'.format(x_MG_mel*100), size=15, color='r')\n",
    "plt.text(xs-la-hla,ys+ly+14, r\"$F_{MG~C}$\"+'={:.4f} kg MG/s'.format(FM_MG_creme), size=15, color='g')\n",
    "plt.text(xs-la-hla,ys+ly/3-24, r\"$F_{MG~L}$\"+'={:.4f} kg MG/s'.format(FM_MG_lait), size=15, color='g')\n",
    "plt.text(xs+lx+5,ys+ly/2-24, r\"$F_{MG~M}$\"+'= {:.4f} kg MG/s'.format(FM_MG_mel), size=15, color='g')\n",
    "plt.show()"
   ]
  },
  {
   "cell_type": "markdown",
   "id": "a93f20d4",
   "metadata": {},
   "source": [
    "> Un dernier coup d oeil permet de vérifier que tout semble correct ! Il n'y a plus qu'à rajouter les oeufs !"
   ]
  },
  {
   "cell_type": "code",
   "execution_count": null,
   "id": "8c028617",
   "metadata": {},
   "outputs": [],
   "source": []
  }
 ],
 "metadata": {
  "kernelspec": {
   "display_name": "Python 3 (ipykernel)",
   "language": "python",
   "name": "python3"
  },
  "language_info": {
   "codemirror_mode": {
    "name": "ipython",
    "version": 3
   },
   "file_extension": ".py",
   "mimetype": "text/x-python",
   "name": "python",
   "nbconvert_exporter": "python",
   "pygments_lexer": "ipython3",
   "version": "3.9.12"
  }
 },
 "nbformat": 4,
 "nbformat_minor": 5
}
