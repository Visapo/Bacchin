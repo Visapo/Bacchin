{
 "cells": [
  {
   "cell_type": "markdown",
   "metadata": {},
   "source": [
    "# Cristallisation d’un produit actif pharmaceutique\n",
    "\n",
    "On effectue une cristallisation d’un produit actif pharmaceutique dans un cristallisoir agité avec une vitesse relative entre les cristaux et la solution de 0,1 m/s. La vitesse de la cinétique d'intégration à la surface (réaction hétérogène) est d'ordre 2 et s'écrit :\n",
    "\n",
    "$r=2.10^{-5}(c-c^*)^2\\quad[kg/(m^2.s)]$\n",
    "\n",
    "Le coefficient de transfert de matière autour des cristaux est déterminé à partir de la corrélation suivante :\n",
    "\n",
    "$Sh=2+0.95Re^{0.5}Sc^{0.33}$ pour 2<Re<2000\n",
    "\n",
    "On étudie la cristallisation pour les conditions opératoires suivantes de vitesse, u, de concentration en solution, c0, et du diamètre initial des cristaux, d0 :\n",
    "\n",
    "\t\tA -\tu=0,1 m/s\tc0=101 g/l\td0=0,5 mm\n",
    "\t\t\n",
    "        B -\tu=5 cm/s\tc0=101 g/l\td0=0,5 mm\n",
    "\t\t\n",
    "        C -\tu=0,1 m/s\tc0=110 g/l\td0=0,5 mm\n",
    "\n",
    "\n",
    ">*Données:* \n",
    ">\n",
    "> - *diffusion du produit actif dans le solvant : 1.10-9 m2/s*\n",
    ">\n",
    "> - *masse volumique du produit cristallisé : 2000 kg/m3*\n",
    ">\n",
    "> - *masse molaire du produit actif : 1000 g/mol*\n",
    ">\n",
    "> - *solvant :\tviscosité : 10-3 Pl\tet masse volumique 1000 kg/m3*\n",
    ">\n",
    "> - *concentration à l'équilibre (saturation)\t\t100 g/l*\n",
    "\n",
    "**1) Calculer pour ces conditions le facteur d'efficacité de la cristallisation et en déduire le taux de croissance des cristaux en kg/(m2.s).**\n"
   ]
  },
  {
   "cell_type": "code",
   "execution_count": 58,
   "metadata": {},
   "outputs": [
    {
     "name": "stdout",
     "output_type": "stream",
     "text": [
      "Sh= 6.76e+01\n",
      "Da= 0.148\n",
      "Efficiency= 0.782\n"
     ]
    },
    {
     "data": {
      "image/png": "[encoded data removed]",
      "text/plain": [
       "<Figure size 432x288 with 1 Axes>"
      ]
     },
     "metadata": {
      "needs_background": "light"
     },
     "output_type": "display_data"
    },
    {
     "name": "stdout",
     "output_type": "stream",
     "text": [
      "Taux de croissance ou flux de matière s integrant à l interface 1.56e-05 en kg/(m2.s)\n"
     ]
    }
   ],
   "source": [
    "import numpy as np\n",
    "import matplotlib.pyplot as plt\n",
    "from scipy.optimize import newton\n",
    "#DATA\n",
    "#constant for the second order reaction\n",
    "kr=2e-5\n",
    "o_r=2\n",
    "#hydro\n",
    "u=0.1 #m/s\n",
    "#solution\n",
    "c0=101 #g/L\n",
    "ceq=100 #g/L\n",
    "ro=1000 #kg/m3\n",
    "D=1.e-9 #m2/s\n",
    "mu=0.001 #Pa s\n",
    "#cristal\n",
    "d0=5.e-4 #m\n",
    "\n",
    "#COEFFICIENT DE MATIERE\n",
    "#Reynolds\n",
    "Re=ro*u*d0/mu\n",
    "#Schmidt\n",
    "Sc=mu/(ro*D)\n",
    "#Sherwood\n",
    "Sh=2+(0.95*Re**0.5*Sc**0.33)\n",
    "print ('Sh=',\"%.2e\"%Sh)\n",
    "k=Sh*D/d0\n",
    "delta=D/k\n",
    "\n",
    "#DAMKHOLER\n",
    "Da=(kr*(c0-ceq)**(o_r-1))/k\n",
    "print ('Da=', round(Da,3))\n",
    "\n",
    "#EFFICIENCY\n",
    "if o_r==1 :\n",
    "    def ef(Da):\n",
    "        eff=1/(1+Da)\n",
    "        return eff\n",
    "if o_r==2 :\n",
    "    def ef(Da):\n",
    "        eff=1/Da + 1/(2*Da**2)-np.sqrt(1+4*Da)/(2*Da**2)\n",
    "        return eff\n",
    "if o_r>2 :\n",
    "    def ef(Da):\n",
    "        def f(eff):\n",
    "            return eff-(1-eff*Da)**o_r\n",
    "        eff=newton(f,x0=0.5)\n",
    "        return eff\n",
    "    \n",
    "print ('Efficiency=',round(ef(Da),3))    \n",
    "x=np.logspace(-2,2,100)\n",
    "plt.semilogx(x,ef(x))\n",
    "plt.annotate('Eff', xy=(Da, ef(Da)), xytext=(10,ef(Da)),arrowprops=dict(facecolor='black', shrink=0.05),)\n",
    "plt.annotate('Da', xy=(Da, ef(Da)), xytext=(Da, 0),arrowprops=dict(facecolor='black', shrink=0.05),)\n",
    "plt.show()\n",
    "\n",
    "#taux de croissance\n",
    "N=ef(Da)*kr*(c0-ceq)**o_r\n",
    "print ('Taux de croissance ou flux de matière s integrant à l interface', \"%.2e\"%N, 'en kg/(m2.s)')\n",
    "\n"
   ]
  },
  {
   "cell_type": "markdown",
   "metadata": {},
   "source": [
    "2) Estimer d'après ces résultats, le temps nécessaire à une augmentation de 10% du diamètre des cristaux. Vous effectuerez un bilan matière sur un cristal en négligeant l'effet de l'augmentation du diamètre sur le taux de croissance des cristaux.\n"
   ]
  },
  {
   "cell_type": "markdown",
   "metadata": {},
   "source": [
    "3) Commenter l'effet des conditions opératoires sur la croissance des cristaux :\n",
    "\t\ta)\tvitesse relative solution/cristaux\n",
    "\t\tb)\tconcentration de sursaturation"
   ]
  },
  {
   "cell_type": "code",
   "execution_count": null,
   "metadata": {},
   "outputs": [],
   "source": []
  }
 ],
 "metadata": {
  "kernelspec": {
   "display_name": "Python 3",
   "language": "python",
   "name": "python3"
  },
  "language_info": {
   "codemirror_mode": {
    "name": "ipython",
    "version": 3
   },
   "file_extension": ".py",
   "mimetype": "text/x-python",
   "name": "python",
   "nbconvert_exporter": "python",
   "pygments_lexer": "ipython3",
   "version": "3.7.3"
  }
 },
 "nbformat": 4,
 "nbformat_minor": 2
}
