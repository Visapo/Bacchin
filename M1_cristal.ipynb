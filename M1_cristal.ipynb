{
 "cells": [
  {
   "cell_type": "markdown",
   "metadata": {},
   "source": [
    "# Cristallisation d’un produit actif pharmaceutique\n",
    "\n",
    "On effectue une cristallisation d’un produit actif pharmaceutique dans un cristallisoir agité avec une vitesse relative entre les cristaux et la solution de 0,1 m/s. La vitesse de la cinétique d'intégration à la surface (réaction hétérogène) est d'ordre 2 et s'écrit :\n",
    "\n",
    "$r=2.10^{-5}(c-c^*)^2\\quad[kg/(m^2.s)]$\n",
    "\n",
    "Le coefficient de transfert de matière autour des cristaux est déterminé à partir de la corrélation suivante :\n",
    "\n",
    "$Sh=2+0.95Re^{0.5}Sc^{0.33}$ pour 2<Re<2000\n",
    "\n",
    "On étudie la cristallisation pour les conditions opératoires suivantes de vitesse, u, de concentration en solution, c0, et du diamètre initial des cristaux, d0 :\n",
    "\n",
    "\t\tA -\tu=0,1 m/s\tc0=101 g/l\td0=0,5 mm\n",
    "\t\t\n",
    "        B -\tu=5 cm/s\tc0=101 g/l\td0=0,5 mm\n",
    "\t\t\n",
    "        C -\tu=0,1 m/s\tc0=110 g/l\td0=0,5 mm\n",
    "\n",
    "\n",
    "*Données:* \n",
    " - *diffusion du produit actif dans le solvant : 1.10-9 m2/s*\n",
    " - *masse volumique du produit cristallisé : 2000 kg/m3*\n",
    " - *masse molaire du produit actif : 1000 g/mol*\n",
    " - *solvant :\tviscosité : 10-3 Pl\tet masse volumique 1000 kg/m3*\n",
    " - *concentration à l'équilibre (saturation)\t\t100 g/l*\n",
    "\n",
    "**1) Calculer pour ces conditions le facteur d'efficacité de la cristallisation et en déduire le taux de croissance des cristaux en kg/(m2.s).**\n",
    "\n",
    ">Pour déterminer la vitesse de réaction d'intégration et l'efficacité de procédé, il faut connaître la concentration en soluté à l'interface (i.e. où la cristallisation a lieu). Pour cela, il faut déterminer le profil de concentration en soluté dans la couche limite autour du cristal (i.e. la zone où la concentration en soluté est plus faible que dans la solution à cause de la consommation à la surface par la cristallisation).\n",
    ">\n",
    ">Il faut donc établir un bilan sur la matière différentiel (i.e. sur un élément de volume dans la couche limite). On établira ce bilan différentiel en coordonnées rectilignes (en supposant que l'épaisseur de la couche limite est petite par rapport à la taille du cristal) et en régime permanent. Dans ces conditions, on peut démontrer pour une cinétique de réaction hétérogène suivant la loi $r=k_r(c-c^*)^{or}$ que l'efficacité du procédé suit l'expression suivante :\n",
    ">$$\\eta=(1-\\eta Da)^{or}$$\n",
    ">avec un nombre de Damkholer (rapport entre la réaction et le transport de matière dans la couche limite $k=D/\\delta$) qui s'écrit :\n",
    ">$$Da=\\frac{k_r(c_0-c^*)^{or-1}}{k}$$\n",
    ">Le code ci dessous permet de calculer :\n",
    ">1. l'épaisseur de la couche limite (et donc le coefficient de transfert de matière)\n",
    ">2. le nombre de Damkholer\n",
    ">3. le facteur d'efficacité\n",
    ">4. le flux de matière à l'interface du cristal qui est aussi la vitesse de croissance des cristaux\n",
    ">\n",
    ">Notez que la détermination du facteur d'efficacité, $\\eta$, est plus ou moins difficile selon l'ordre de réaction, $or$ : pour des ordres supérieurs à 2 la solution est déterminée numériquement par la méthode de Newton."
   ]
  },
  {
   "cell_type": "code",
   "execution_count": 3,
   "metadata": {},
   "outputs": [
    {
     "name": "stdout",
     "output_type": "stream",
     "text": [
      "Sh= 6.76e+01\n",
      "Da= 0.148\n",
      "Efficiency= 0.782\n"
     ]
    },
    {
     "data": {
      "image/png": "[encoded data removed]",
      "text/plain": [
       "<Figure size 432x288 with 1 Axes>"
      ]
     },
     "metadata": {
      "needs_background": "light"
     },
     "output_type": "display_data"
    },
    {
     "name": "stdout",
     "output_type": "stream",
     "text": [
      "Taux de croissance ou flux de matière s integrant à l interface 1.56e-05 en kg/(m2.s)\n"
     ]
    }
   ],
   "source": [
    "import numpy as np\n",
    "import matplotlib.pyplot as plt\n",
    "from scipy.optimize import newton\n",
    "#DATA\n",
    "#constant for the second order reaction\n",
    "kr=2e-5\n",
    "o_r=2\n",
    "#hydro\n",
    "u=0.1 #m/s\n",
    "#solution\n",
    "c0=101 #g/L\n",
    "ceq=100 #g/L\n",
    "ro=1000 #kg/m3\n",
    "D=1.e-9 #m2/s\n",
    "mu=0.001 #Pa s\n",
    "#cristal\n",
    "d0=5.e-4 #m\n",
    "\n",
    "#COEFFICIENT DE MATIERE\n",
    "#Reynolds\n",
    "Re=ro*u*d0/mu\n",
    "#Schmidt\n",
    "Sc=mu/(ro*D)\n",
    "#Sherwood\n",
    "Sh=2+(0.95*Re**0.5*Sc**0.33)\n",
    "print ('Sh=',\"%.2e\"%Sh)\n",
    "k=Sh*D/d0\n",
    "delta=D/k\n",
    "\n",
    "#DAMKHOLER\n",
    "Da=(kr*(c0-ceq)**(o_r-1))/k\n",
    "print ('Da=', round(Da,3))\n",
    "\n",
    "#EFFICIENCY \n",
    "if o_r==1 :\n",
    "    def ef(Da):\n",
    "        eff=1/(1+Da)\n",
    "        return eff\n",
    "if o_r==2 :\n",
    "    def ef(Da):\n",
    "        eff=1/Da + 1/(2*Da**2)-np.sqrt(1+4*Da)/(2*Da**2)\n",
    "        return eff\n",
    "if o_r>2 :\n",
    "    def ef(Da):\n",
    "        def f(eff):\n",
    "            return eff-(1-eff*Da)**o_r\n",
    "        eff=newton(f,x0=0.5)\n",
    "        return eff\n",
    "    \n",
    "print ('Efficiency=',round(ef(Da),3))    \n",
    "x=np.logspace(-2,2,100)\n",
    "plt.semilogx(x,ef(x))\n",
    "plt.annotate('Eff', xy=(Da, ef(Da)), xytext=(10,ef(Da)),arrowprops=dict(facecolor='black', shrink=0.05),)\n",
    "plt.annotate('Da', xy=(Da, ef(Da)), xytext=(Da, 0),arrowprops=dict(facecolor='black', shrink=0.05),)\n",
    "plt.title('Evolution du facteur d efficacite en fonction du Damkholer')\n",
    "plt.xlabel('Da')\n",
    "plt.ylabel('Efficacite')\n",
    "plt.show()\n",
    "\n",
    "#taux de croissance\n",
    "N=ef(Da)*kr*(c0-ceq)**o_r\n",
    "print ('Taux de croissance ou flux de matière s integrant à l interface', \"%.2e\"%N, 'en kg/(m2.s)')\n",
    "\n"
   ]
  },
  {
   "cell_type": "markdown",
   "metadata": {},
   "source": [
    "**2) Estimer d'après ces résultats, le temps nécessaire à une augmentation de 10% du diamètre des cristaux. Vous effectuerez un bilan matière sur un cristal en négligeant l'effet de l'augmentation du diamètre sur le taux de croissance des cristaux.**\n",
    ">Au fur et à mesure de l'intrégration des molécules solubilisées sur le cristal, la taille et le volume du cristal va croitre. Le volume du cristal croît car il est alimenté par le flux de matière déterminé dans le 1). Pour décrire cette croissance, il faut effectuer un bilan sur le volume du cristal. L'enveloppe pour le bilan est alors la surface du cristal. L'accumulation dans le cristal est alors égale au flux de matière entrant : \n",
    ">$$ Accumulation = Entrée - Sortie +- terme source$$\n",
    ">$$cdV=S.N.dt$$\n",
    ">$$\\rho_c\\frac{4}{3}\\pi\\frac{dr_p^3}{dt}=4\\pi r_p^2N$$\n",
    ">$$\\frac{dr_p}{dt}=\\frac{N}{\\rho_c}$$\n",
    ">$$r_p=r_{p0}+\\frac{N}{\\rho_c}t$$\n",
    ">Le temps pour que le diamètre augmente de 10% est alors :\n",
    ">$$t=0.1\\frac{r_{p0}\\rho_c}{N}$$\n"
   ]
  },
  {
   "cell_type": "code",
   "execution_count": 5,
   "metadata": {},
   "outputs": [
    {
     "name": "stdout",
     "output_type": "stream",
     "text": [
      "temps nécessaire à la croissance de 10% du cristal 1.60e+03 s\n"
     ]
    }
   ],
   "source": [
    "t=0.1*(d0/2)*ro/N\n",
    "print ('temps nécessaire à la croissance de 10% du cristal', \"%.2e\"%t, 's')"
   ]
  },
  {
   "cell_type": "markdown",
   "metadata": {},
   "source": [
    "3) Commenter l'effet des conditions opératoires sur la croissance des cristaux :\n",
    "\t\ta)\tvitesse relative solution/cristaux\n",
    "\t\tb)\tconcentration de sursaturation"
   ]
  },
  {
   "cell_type": "code",
   "execution_count": null,
   "metadata": {},
   "outputs": [],
   "source": []
  }
 ],
 "metadata": {
  "kernelspec": {
   "display_name": "Python 3",
   "language": "python",
   "name": "python3"
  },
  "language_info": {
   "codemirror_mode": {
    "name": "ipython",
    "version": 3
   },
   "file_extension": ".py",
   "mimetype": "text/x-python",
   "name": "python",
   "nbconvert_exporter": "python",
   "pygments_lexer": "ipython3",
   "version": "3.7.3"
  }
 },
 "nbformat": 4,
 "nbformat_minor": 2
}
