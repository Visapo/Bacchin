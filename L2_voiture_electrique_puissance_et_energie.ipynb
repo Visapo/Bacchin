{
 "cells": [
  {
   "cell_type": "markdown",
   "id": "c4b424c4",
   "metadata": {},
   "source": [
    "# Consommation d'un véhicule électrique\n",
    "\n",
    "Cet exercice doit vous faire travailler sur les liens entre force, énergie et puissance.\n",
    "\n",
    "Une voiture électrique (Fiat 500e) de 1290 kg conduite par un humain de 80 kg possède une batterie de 37.3 kWh. La puissance du moteur est de 88 kW.\n",
    "\n",
    "On souhaite monter le col du tourmalet montée (18.3 kilomètres de long, pour un dénivelé positif de 1402 mètres). Dans cette partie, on considèrera seulement la force de pesanteur. \n",
    "\n",
    "1- Calculer la force nécessaire pour faire monter le véhicule\n",
    "\n",
    "> La force nécessaire pour faire s'élever la voiture et le conducteur est celle permettant de compenser la force de pesanteur $F=mg$ soit 1,88 10+7 N.\n",
    "\n",
    "2- Calculer l'énergie nécessaire pour monter en haut du col avec le véhicule\n",
    "\n",
    "> L'énergie correspond à la force fois la distance pendant laquelle il faut appliquer la force c'est à dire le dénivelé : $E=FH$ soit soit 1,88 10+7 J ou Ws (si la personne pousse le véhicule sur toute la montée il lui faudra environ 1 kg de barres chocolatées à 2000 kJ/100 g pour compenser cet effort !). \n",
    "\n",
    "3- En déduire le pourcentage de batterie consommée\n",
    "\n",
    "> Cette énergie correspond à 5.23 kWh soit 14 % de la capacité de la batterie.\n",
    "\n",
    "4- On souhaite monter le col en 15 min : estimer la puissance nécessaire. Est-ce que la puissance du moteur est suffisante ?\n",
    "\n",
    "> La puissance nécessaire correspond à l'énergie à dispenser par unité de temps. La puissance nécessaire est de 20,9 kW. La puissance du moteur est largement suffisante.\n",
    "\n",
    "Il faudrait rajouter à l'énergie potentielle la consommation inhérente aux frottements (avec l'air et le sol) et la consommation interne du véhicule qui est de 14 kWh/100 km.\n",
    "\n",
    "5- Comparer cette consommation à celle liée à l'énergie potentielle\n",
    "\n",
    "> La consommation liée aux kilomètres parcourus est de 2,56 kWh qu'il faudrait rajouter aux 5,23 kWh lié au dénivelé. On voit ainsi que l'énergie nécessaire à l'élévation représente 2/3 de l'énergie totale.\n",
    "\n",
    "\n",
    "Refaire des calculs similaires pour un vélo Lapierre de 16kg avec une batterie de 500 Wh et un moteur de 600 W.\n",
    "\n",
    "> L'énergie nécessaire pour la montée en vélo est de 1,32 10+6 J soit 367 Wh ce qui correspond 73 % de la batterie (attention petit risque). Si la personne utilise le vélo sans batterie sur toute la montée il lui faudra environ 66 g de barres chocolatées à 2000 kJ/100 g ! On consomme sur la montée 14 fois moins en vélo qu'en voiture (c'est le rapport de masse). \n"
   ]
  },
  {
   "cell_type": "code",
   "execution_count": 8,
   "id": "a25743a8",
   "metadata": {},
   "outputs": [
    {
     "name": "stdout",
     "output_type": "stream",
     "text": [
      "Force necesaire 13439.7 N\n",
      "Energie necesaire 18842459.400000002 J ou Ws\n",
      "Energie necesaire 5.234016500000001 kWh\n",
      "Pourcentage de batterie consommée 14.032215817694375 %\n",
      "Puissance necessaire 20.936066000000004\n",
      "Consommation liée aux km 2.5620000000000003 kWh\n"
     ]
    }
   ],
   "source": [
    "M=1290+80 #kg\n",
    "g=9.81 #m/s2\n",
    "H=1402 #m\n",
    "B=37.3 #kWh\n",
    "\n",
    "#1 Force nécessaire\n",
    "F=M*g #kg.m.s-2=N\n",
    "print('Force necessaire', F, 'N')\n",
    "#2 Energie\n",
    "E=F*H #kg.m2.s-2=J\n",
    "print('Energie necessaire', E, 'J ou Ws')\n",
    "E_kWh=E*1e-3/3600\n",
    "print('Energie necessaire', E_kWh, 'kWh')\n",
    "print('Pourcentage de batterie consommée', 100*E_kWh/B, '%' )\n",
    "t=0.25 #h\n",
    "print('Puissance necessaire', E_kWh/0.25)\n",
    "\n",
    "conso=14 #kWh/100 km\n",
    "dist=18.3 #km\n",
    "\n",
    "consol_col=conso/100*dist\n",
    "print('Consommation liée aux km', consol_col, 'kWh')"
   ]
  },
  {
   "cell_type": "code",
   "execution_count": null,
   "id": "b5375862",
   "metadata": {},
   "outputs": [],
   "source": []
  }
 ],
 "metadata": {
  "kernelspec": {
   "display_name": "Python 3 (ipykernel)",
   "language": "python",
   "name": "python3"
  },
  "language_info": {
   "codemirror_mode": {
    "name": "ipython",
    "version": 3
   },
   "file_extension": ".py",
   "mimetype": "text/x-python",
   "name": "python",
   "nbconvert_exporter": "python",
   "pygments_lexer": "ipython3",
   "version": "3.9.12"
  }
 },
 "nbformat": 4,
 "nbformat_minor": 5
}
