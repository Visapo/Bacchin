{
 "cells": [
  {
   "cell_type": "markdown",
   "metadata": {},
   "source": [
    "# Clay settling during water clarification\n",
    "\n",
    "The clay particles have a density of 1300 kg/m3 whose size can vary from tens of nm to tens of micrometers.\n",
    "\n",
    "Calculate the sedimentation velocities of clay particles* having a radius of 10nm, 100 nm, 1 mm and 10 mm in water at 20°C.\n",
    "\n",
    "One want to eliminate by settling these particles from an effluent having a flow rate of 100 m3/h. Estimate the volume of the settling tank (and its radius) needed to settle these particles on a distance of 2 meters.\n",
    "\n",
    "*we will consider in a first approximation that clay platelets are spheres !\n"
   ]
  },
  {
   "cell_type": "code",
   "execution_count": 8,
   "metadata": {},
   "outputs": [
    {
     "name": "stdout",
     "output_type": "stream",
     "text": [
      "Radius (m)   Veloc.(m/s)  Reynolds     Time (s)    Time (d)     vol (m3)     radius       kind of     \n",
      "1.00e-05     6.54e-05     1.31e-03   3.06e+04     3.54e-01     8.49e+02     1.16e+01     settling tank\n",
      "1.00e-06     6.54e-07     1.31e-06   3.06e+06     3.54e+01     8.49e+04     1.16e+02     pond\n",
      "1.00e-07     6.54e-09     1.31e-09   3.06e+08     3.54e+03     8.49e+06     1.16e+03     lake\n",
      "1.00e-08     6.54e-11     1.31e-12   3.06e+10     3.54e+05     8.49e+08     1.16e+04     little sea\n"
     ]
    }
   ],
   "source": [
    "import numpy as np\n",
    "\n",
    "#data\n",
    "rho_s=1300 #kg/m3 volume mass for clay particles\n",
    "rho_l=1000 #kg/m3 volume mass for water\n",
    "g=9.81     #m.s-2 gravity constant\n",
    "mu=0.001   #Pa.s  viscocity of water at 20°C\n",
    "h=2       #m     height of settling\n",
    "Q=100      #m3h-1\n",
    "Q=Q/3600   #m3s-1\n",
    "# valeur de rayons\n",
    "radius=[1e-5, 1e-6, 1e-7, 1e-8]\n",
    "\n",
    "print (\"{:<12} {:<12} {:<12} {:<12}{:<12} {:<12} {:<12} {:<12}\"\n",
    "       .format('Radius (m)','Veloc.(m/s)','Reynolds','Time (s)','Time (d)','vol (m3)', 'radius', 'kind of'))\n",
    "\n",
    "for R in radius:\n",
    "    #calculation of the settling velocity\n",
    "    u=2*R**2*(rho_s-rho_l)*g/(9*mu)\n",
    "    Re=rho_l*u*2*R/mu\n",
    "    if Re>1:\n",
    "        print ('Calculation is wrong for R=', R, 'because the Reynolds number is ', Re, '> 1')\n",
    "    #time to settle of a height h\n",
    "    t=h/u\n",
    "    vol=Q*t\n",
    "    Rd=np.sqrt(vol/(h*np.pi))\n",
    "    if Rd < 20 :\n",
    "        ko=\"settling tank\"\n",
    "    elif Rd<200:\n",
    "        ko=\"pond\"\n",
    "    elif Rd<2000:\n",
    "        ko=\"lake\"\n",
    "    elif Rd<20000:\n",
    "        ko=\"little sea\"\n",
    "    print (\"{:.2e} {:<3} {:.2e} {:<3} {:.2e}{:<3}{:.2e} {:<3} {:.2e} {:<3} {:.2e} {:<3} {:.2e} {:<3} {:<3}\"\n",
    "           .format(R,'',u,'',Re,'', t,'',t/3600/24,'',vol,'', Rd, '',ko))\n",
    "\n"
   ]
  },
  {
   "cell_type": "markdown",
   "metadata": {},
   "source": [
    "# Vitesse de sédimentation : \n",
    "## Résolution en transitoire et en l'absence de diffusion\n",
    "\n",
    "Pour déterminer la vitesse de chute d'une particule de rayon, R, dans un fluide de viscosité $\\mu$, il faut faire un bilan de force sur la particule :\n",
    "$$\\sum \\vec{F}= m \\vec{a}$$\n",
    "En considérant la force de gravité, la poussée d'Archimède et la force de traînée (donnée par la lode Stokes pour un écoulement laminaire qui doit vérifier $Re=\\frac{\\rho_f u 2 R}{\\mu} < 1$), le bilan de force s'écrit alors :\n",
    "$$V_p(\\rho_p-\\rho_f)g-6\\pi\\mu R u=V_p\\rho_p\\frac{du}{dt}$$\n",
    "où $\\rho_p$ et $\\rho_f$ représentent la masse volumique de la particule et du fluide respectivement et $V_p$ le volume de la particule..\n",
    "\n",
    "Il faut donc résoudre l'équation différentielle suivante :\n",
    "$$V_p\\rho_p\\frac{du}{dt}+6\\pi\\mu R u=V_p(\\rho_p-\\rho_f)g$$\n",
    "Une solution particulière à cette équation différentielle est la vitesse limite obtenue quand l'accélération est nulle et donc $\\frac{du}{dt}=0$. La vitesse limite est égale à :\n",
    "$$ u_{lim}=\\frac{2 R^2}{9 \\mu}(\\rho_p-\\rho_f)g$$\n",
    "Pour simplifier l'équation, on peut introduire des variables sans dimensions  :\n",
    "$$u^*=\\frac{u}{u_{lim}}$$\n",
    "$$t^*=\\frac{6\\pi\\mu R}{V_p\\rho_p}t=\\frac{9 \\mu}{\\rho_p 2 R^2}t $$\n",
    "L'équation différentielle s'écrit alors :\n",
    "$$\\frac{du^*}{dt^*}+u^*=1$$\n",
    "\n",
    ">Essayez par vous-même d'adimensionnaliser l'équation et vérifiez les dimensions de $t^*$ par exemple \n",
    "\n",
    "La solution générale à l'équation différente $\\frac{du^*}{u^*}=-dt^*$ est :\n",
    "$$u^*=Ke^{-t^*}$$\n",
    "La solution particulière à cette équation est :\n",
    "$$u^*=1$$\n",
    "La solution à l'équation est donc :\n",
    "$$u^*=Ke^{-t^*}+1$$\n",
    "En appliquant la conditions initiale, $u^*=0$ quand $t^*=0$, on peut déterminer la valeur de la constante, $k$, et obtenir la relation pour la vitesse en fonction du temps :\n",
    "$$u^*=1-e^{-t^*}$$\n",
    "On peut définir le temps au bout duquel la vitesse a atteint 99% de sa valeur finale, $u^*=0.99$ :\n",
    "$$t^*=-ln(0.01)$$\n"
   ]
  },
  {
   "cell_type": "code",
   "execution_count": 9,
   "metadata": {},
   "outputs": [
    {
     "name": "stdout",
     "output_type": "stream",
     "text": [
      "le nombre de Reynolds est de : 0.043600000000000014\n",
      "la vitesse limite sera de : 0.0021800000000000005 m/s\n"
     ]
    }
   ],
   "source": [
    "import numpy as np\n",
    "import matplotlib.pyplot as plt\n",
    "\n",
    "a=1e-4 #m\n",
    "rhop=2000 #kg m-3\n",
    "rhof=1000 #kg m-3\n",
    "g=9.81 #m s-2\n",
    "mu=0.01 #Pa s\n",
    "\n",
    "\n",
    "\n",
    "vp=4*np.pi*(a**3)/3\n",
    "\n",
    "ulim=2*(a**2)*(rhop-rhof)*g/(9*mu)\n",
    "\n",
    "Re=rhof*ulim*2*a/mu\n",
    "if Re>1 :\n",
    "    print ('Attention, le résultat est FAUX car la loi de Stokes ne s\\'appplique pas')\n",
    "print ('le nombre de Reynolds est de :',Re)\n",
    "\n",
    "print ('la vitesse limite sera de :', ulim, 'm/s')\n",
    "\n"
   ]
  },
  {
   "cell_type": "code",
   "execution_count": 10,
   "metadata": {},
   "outputs": [
    {
     "data": {
      "image/png": "[encoded data removed]",
      "text/plain": [
       "<Figure size 432x288 with 1 Axes>"
      ]
     },
     "metadata": {
      "needs_background": "light"
     },
     "output_type": "display_data"
    },
    {
     "name": "stdout",
     "output_type": "stream",
     "text": [
      " On aura atteint 99.9  % de la valeur limite pour un temps de 0.0030701134573253943 s\n"
     ]
    },
    {
     "data": {
      "image/png": "[encoded data removed]",
      "text/plain": [
       "<Figure size 432x288 with 1 Axes>"
      ]
     },
     "metadata": {
      "needs_background": "light"
     },
     "output_type": "display_data"
    }
   ],
   "source": [
    "tdim=2*(a**2)*rhop/(9*mu)\n",
    "t=np.linspace(0,0.01,101)\n",
    "t_star=t/tdim\n",
    "\n",
    "u_star=1-np.exp(-t_star)\n",
    "u_pc=0.999\n",
    "\n",
    "plt.plot(t_star, u_star)\n",
    "plt.xlabel('t*')\n",
    "plt.ylabel('u*')\n",
    "plt.show()\n",
    "plt.plot(t_star*tdim,u_star*ulim)\n",
    "plt.plot([0,-np.log(1.-u_pc)*tdim], [u_pc*ulim,u_pc*ulim ],'--')\n",
    "plt.plot([-np.log(1.-u_pc)*tdim,-np.log(1.-u_pc)*tdim], [0,u_pc*ulim ],'--')\n",
    "plt.xlabel('t (s)')\n",
    "plt.ylabel('u (m/s)')\n",
    "print (' On aura atteint', u_pc*100,' % de la valeur limite pour un temps de', -np.log(1.-u_pc)*tdim, 's')\n"
   ]
  },
  {
   "cell_type": "code",
   "execution_count": null,
   "metadata": {},
   "outputs": [],
   "source": []
  }
 ],
 "metadata": {
  "kernelspec": {
   "display_name": "Python 3 (ipykernel)",
   "language": "python",
   "name": "python3"
  },
  "language_info": {
   "codemirror_mode": {
    "name": "ipython",
    "version": 3
   },
   "file_extension": ".py",
   "mimetype": "text/x-python",
   "name": "python",
   "nbconvert_exporter": "python",
   "pygments_lexer": "ipython3",
   "version": "3.9.12"
  }
 },
 "nbformat": 4,
 "nbformat_minor": 2
}
