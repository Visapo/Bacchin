{
 "cells": [
  {
   "cell_type": "markdown",
   "metadata": {},
   "source": [
    "# Clay settling during water clarification\n",
    "\n",
    "The clay particles have a density of 1300 kg/m3 whose size can vary from tens of nm to tens of micrometers.\n",
    "\n",
    "Calculate the sedimentation velocities of clay particles* having a radius of 10nm, 100 nm, 1 mm and 10 mm in water at 20°C.\n",
    "\n",
    "One want to eliminate by settling these particles from an effluent having a flow rate of 100 m3/h. Estimate the volume of the settling tank (and its radius) needed to settle these particles on a distance of 2 meters.\n",
    "\n",
    "*we will consider in a first approximation that clay platelets are spheres !\n"
   ]
  },
  {
   "cell_type": "code",
   "execution_count": 56,
   "metadata": {},
   "outputs": [
    {
     "name": "stdout",
     "output_type": "stream",
     "text": [
      "Radius (m)   Veloc.(m/s)  Time (s)     Time (d)     vol (m3)     radius       kind of     \n",
      "1.16e+01     6.54e-05     3.06e+04     3.54e-01     8.49e+02     1.16e+01     settling tank\n",
      "1.16e+02     6.54e-07     3.06e+06     3.54e+01     8.49e+04     1.16e+02     pond\n",
      "1.16e+03     6.54e-09     3.06e+08     3.54e+03     8.49e+06     1.16e+03     lake\n",
      "1.16e+04     6.54e-11     3.06e+10     3.54e+05     8.49e+08     1.16e+04     little sea\n"
     ]
    }
   ],
   "source": [
    "import numpy as np\n",
    "\n",
    "#data\n",
    "rho_s=1300 #kg/m3 volume mass for clay particles\n",
    "rho_l=1000 #kg/m3 volume mass for water\n",
    "g=9.81     #m.s-2 gravity constant\n",
    "mu=0.001   #Pa.s  viscocity of water at 20°C\n",
    "h=2        #m     height of settling\n",
    "Q=100      #m3h-1\n",
    "Q=Q/3600   #m3s-1\n",
    "# valeur de rayons\n",
    "radius=[1e-5, 1e-6, 1e-7, 1e-8]\n",
    "\n",
    "print (\"{:<12} {:<12} {:<12} {:<12} {:<12} {:<12} {:<12}\"\n",
    "       .format('Radius (m)','Veloc.(m/s)','Time (s)','Time (d)','vol (m3)', 'radius', 'kind of'))\n",
    "\n",
    "for R in radius:\n",
    "    #calculation of the settling velocity\n",
    "    u=2*R**2*(rho_s-rho_l)*g/(9*mu)\n",
    "    Re=rho_l*u*2*R/mu\n",
    "    if Re>1:\n",
    "        print ('Calculation is wrong for R=', R, 'because the Reynolds number is ', Re, '> 1')\n",
    "    #time to settle of a height h\n",
    "    t=h/u\n",
    "    vol=Q*t\n",
    "    R=np.sqrt(vol/(h*np.pi))\n",
    "    if R < 20 :\n",
    "        ko=\"settling tank\"\n",
    "    elif R<200:\n",
    "        ko=\"pond\"\n",
    "    elif R<2000:\n",
    "        ko=\"lake\"\n",
    "    elif R<20000:\n",
    "        ko=\"little sea\"\n",
    "    print (\"{:.2e} {:<3} {:.2e} {:<3} {:.2e} {:<3} {:.2e} {:<3} {:.2e} {:<3} {:.2e} {:<3} {:<3}\"\n",
    "           .format(R,'',u,'',t,'',t/3600/24,'',vol,'', R, '',ko))\n",
    "\n"
   ]
  },
  {
   "cell_type": "code",
   "execution_count": null,
   "metadata": {},
   "outputs": [],
   "source": []
  }
 ],
 "metadata": {
  "kernelspec": {
   "display_name": "Python 3 (ipykernel)",
   "language": "python",
   "name": "python3"
  },
  "language_info": {
   "codemirror_mode": {
    "name": "ipython",
    "version": 3
   },
   "file_extension": ".py",
   "mimetype": "text/x-python",
   "name": "python",
   "nbconvert_exporter": "python",
   "pygments_lexer": "ipython3",
   "version": "3.9.12"
  }
 },
 "nbformat": 4,
 "nbformat_minor": 2
}
