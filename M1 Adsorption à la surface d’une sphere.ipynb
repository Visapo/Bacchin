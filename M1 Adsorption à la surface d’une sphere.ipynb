{
 "cells": [
  {
   "cell_type": "markdown",
   "metadata": {},
   "source": [
    "# M1 Adsorption à la surface d’une sphere (exam 2019) \n",
    "\n",
    "Ce problème permet de traiter du couplage entre la diffusion dans une couche limite autour d'une sphère (en coordonnées sphériques) et une réaction d'adsorption en surface de la sphère.\n",
    "\n",
    "On considère l’adsorption d’un soluté sur des sphères d’un rayon, R, de 1 micromètres. Le soluté diffuse dans la solution où il se trouve à une concentration, c_b=1\\ g/L, avec un coefficient de diffusion de 2 10-9 m2/s. La dispersion de sphères et de soluté est agitée : l’agitation induit une différence de vitesse entre les sphères et la solution de 1 m/s. On considère que l’adsorption se réalise comme une réaction chimique de cinétique d’ordre 1 avec une constante de 0.1 (SI). \n",
    "\n",
    "**Calculer l’épaisseur de couche limite, $\\delta$, autour de la sphère.** On considéra que les propriétés de la solution sont proches de celle de l’eau à 20°C\n"
   ]
  },
  {
   "cell_type": "code",
   "execution_count": 64,
   "metadata": {},
   "outputs": [
    {
     "name": "stdout",
     "output_type": "stream",
     "text": [
      "Re= 2.0\n",
      "Sc= 499.99999999999994\n",
      "Sh= 12.444765756405452\n",
      "k= 0.012444765756405454     delta= 1.607101362249891e-07\n"
     ]
    }
   ],
   "source": [
    "#Adsorption sur une sphère\n",
    "\n",
    "import numpy as np\n",
    "import matplotlib.pyplot as plt\n",
    "\n",
    "#Calcul de l'épaisseur de la couche limite\n",
    "\n",
    "rho=1000\n",
    "mu=0.001\n",
    "u=1 \n",
    "R=1e-6\n",
    "\n",
    "Re=rho*u*2*R/mu\n",
    "print ('Re=',Re)\n",
    "\n",
    "D=2e-9 \n",
    "Sc=mu/(rho*D)\n",
    "print ('Sc=',Sc)\n",
    "\n",
    "Sh=2+0.95*Re**0.5*Sc**0.33 #pour 2<Re<2000\n",
    "print ('Sh=',Sh)\n",
    "k=D*Sh/(2*R)\n",
    "delta=D/k\n",
    "print ('k=',k, '    delta=', delta)"
   ]
  },
  {
   "cell_type": "markdown",
   "metadata": {},
   "source": [
    "**Ecrire les équations permettant de décrire le profil de concentration stationnaire en solute dans la couche limite entourant les sphères.** Vous considèrerez des coordonnées sphériques.\n",
    ">L'équation de continuité s'écrit :\n",
    "$$\\frac{dc}{dt}=-div(\\vec{N})+-s$$\n",
    ">En régime stationnaire et en absence de terme source, \n",
    "$$-div(\\vec{N})=0$$\n",
    "L'écriture de l'opérateur divergence en coordonnée sphérique https://fr.wikipedia.org/wiki/Divergence_(analyse_vectorielle) conduit à \n",
    "$$\\frac{d r^2N}{dr}=0$$\n",
    "Le produit de la densité du flux de matière, $N$ (en kg par m2 et par s) par le rayon au carré, $r^2$ (qui représente le flux de matière en kg par s) doit être constant :\n",
    ">$$r^2 N = -K$$\n",
    "où K est une constante (le flux de matière sera dirigé dans le sens opposé à r -vers la sphère-, $N$ sera donc négatif. Il a été choisi -arbitrairement- d'écrire $-K$ dans le second terme de l'équation précédente de façon à ce que la constante soit positive par la suite).\n",
    "Si on considère que le transfert est diffusif dans la couche limite, on peut écrire :\n",
    ">$$r^2 D \\frac{dc}{dr} = K$$\n",
    "On peut séparer les variables :\n",
    ">$$ dc = \\frac{K}{D} \\frac{dr}{r^2}$$\n",
    "L'intégration de cette équation conduit à :\n",
    ">$$ c =- \\frac{K}{D} \\frac{1}{r} + K_1$$\n",
    "On peut déterminer la constante en écrivant la condition limite en $r=R+\\delta$ pour laquelle $c=c_b$ qui conduit à :\n",
    "$$K_1=c_b+\\frac{K}{D} \\frac{1}{R+\\delta}$$\n",
    "soit \n",
    "$$ c  = c_b \\frac{K}{D} (\\frac{1}{r} - \\frac{1}{R+\\delta})$$\n",
    "En considérant la distance, z à la surface de la sphère (z=r-R) on peut écrire le profil de concentration :\n",
    "au profil de concentration :\n",
    ">$$c=c_b-\\frac{K}{D}(\\frac{1}{R+z}-\\frac{1}{R+\\delta})$$"
   ]
  },
  {
   "cell_type": "markdown",
   "metadata": {},
   "source": [
    "**Déterminer la densité de flux de matière, $N$**\n",
    "\n",
    ">La densité de flux de matière est déterminée à partir du profil de concentration en considérant que le flux de matière est diffusif :\n",
    "$$N=-D\\frac{dc}{dz}=-\\frac{K}{(R+z)^2}$$"
   ]
  },
  {
   "cell_type": "markdown",
   "metadata": {},
   "source": [
    "**Ecrire la condition pour le flux de matière à la surface de la sphère et en déduire K**\n",
    "\n",
    ">A l'interface, en z=0, la matière qui arrive par diffusion, $N$ (en kg.m-2.s-1) est consommée par la réaction hétérogène. La vitesse de la réaction hétérogène (en kg.m-2.-1) s'écrit pour une réaction de premier ordre $k_r c_i$\n",
    "On a donc l'égalité : \n",
    "$$N=kr.ci$$\n",
    "En z=0, la densité de flux de matière s'écrit $-\\frac{K}{R^2}$ ce qui conduit à définir la constante, $K$:\n",
    "$K=kr.ci R^2$\n",
    "\n",
    "**En déduire alors la relation donnant la concentration à l’interface $c_i$**\n",
    ">On obtient $c_i$ en calculant la concentration $c$ en z=0 et en utilisant la valeur de la constante, K\n",
    "$$c_i=c_b-\\frac{k_r c_i R^2}{D}(\\frac{1}{R}-\\frac{1}{R+\\delta})$$\n",
    "$$c_i=c_b-\\frac{k_r c_i R}{D}(1-\\frac{R}{R+\\delta})$$\n",
    "Sous forme adimensionnelle, on peut écrire :\n",
    "$$\\frac{c_i}{c_b}=\\frac{1}{1+Da \\frac{R}{R+\\delta}}$$\n",
    "avec un nombre de Damkholer qui représente le rapport entre la réaction et la diffusion dans le film :\n",
    "$Da=\\frac{k_r \\delta}{D}$\n",
    "\n"
   ]
  },
  {
   "cell_type": "code",
   "execution_count": 65,
   "metadata": {},
   "outputs": [
    {
     "name": "stdout",
     "output_type": "stream",
     "text": [
      "Da= 8.035506811249455\n",
      "la concentration à l'interface est : 0.1262160454515761\n"
     ]
    },
    {
     "data": {
      "text/plain": [
       "Text(0.5, 1.0, 'Profil de concentration')"
      ]
     },
     "execution_count": 65,
     "metadata": {},
     "output_type": "execute_result"
    },
    {
     "data": {
      "image/png": "[encoded data removed]",
      "text/plain": [
       "<Figure size 432x288 with 1 Axes>"
      ]
     },
     "metadata": {
      "needs_background": "light"
     },
     "output_type": "display_data"
    }
   ],
   "source": [
    "kr=0.1\n",
    "c_b=1\n",
    "\n",
    "z=np.linspace(0,delta,100)\n",
    "\n",
    "Da=kr*delta/D\n",
    "print ('Da=',Da)\n",
    "c_i=c_b/(1+Da*R/(R+delta))\n",
    "print ('la concentration à l\\'interface est :', c_i)\n",
    "\n",
    "K=kr*c_i*R*R\n",
    "c=c_b-K*((1/(R+z)-1/(R+delta)))/D\n",
    "plt.plot(r,c)\n",
    "plt.xlabel('z')\n",
    "plt.ylabel('c')\n",
    "plt.title('Profil de concentration')"
   ]
  },
  {
   "cell_type": "markdown",
   "metadata": {},
   "source": [
    "**Déterminer l’efficacité de l’adsorption et comparer à celle que vous auriez en coordonnées rectilignes. Commenter.**\n",
    "\n",
    ">Le facteur d'éfficacité définit comme le rapport entre la réaction effective, $k_r c_i$ et la réaction si la diffusion était infinie $k_r c_0$ s'écrit alors :\n",
    "$$\\eta=\\frac{1}{1+Da \\frac{R}{R+\\delta}}$$\n",
    "On remarque que si $\\delta<<R$ on retrouve l'expression obtenue en coordonnées rectilignes :\n",
    "$$\\eta=\\frac{1}{1+Da \\frac{R}{R+\\delta}}$$\n"
   ]
  },
  {
   "cell_type": "code",
   "execution_count": 66,
   "metadata": {},
   "outputs": [
    {
     "name": "stdout",
     "output_type": "stream",
     "text": [
      "L'efficacité de la réaction est de  0.1262160454515761\n",
      "L'efficacité de la réaction serait en coor. rect de  0.110674478022082\n",
      "La courbure autour de la sphère permet d'augmenter la diffusion\n"
     ]
    }
   ],
   "source": [
    "print('L\\'efficacité de la réaction est de ', 1/(1+Da*R/(R+delta)))\n",
    "print('L\\'efficacité de la réaction serait en coor. rect de ', 1/(1+Da))\n",
    "print ('La courbure autour de la sphère permet d\\'augmenter la diffusion')\n"
   ]
  },
  {
   "cell_type": "markdown",
   "metadata": {},
   "source": [
    "**Calculer la concentration à l’interface et la quantité de soluté qui s’adsorbe à la surface de la sphère en g/s.**\n",
    "> La quantité consommé en kg par m2 et par s est $k_r c_i$\n",
    "> La quantité consommé en kg par s est $k_r c_i  4\\pi R^2$\n"
   ]
  },
  {
   "cell_type": "code",
   "execution_count": 67,
   "metadata": {},
   "outputs": [
    {
     "name": "stdout",
     "output_type": "stream",
     "text": [
      "Le flux consommé à l'interface est : 1.5860776046233077e-13 kg/s\n"
     ]
    }
   ],
   "source": [
    "print ('Le flux consommé à l\\'interface est :', kr*c_i*4*np.pi*R*R, 'kg/s')"
   ]
  },
  {
   "cell_type": "markdown",
   "metadata": {},
   "source": [
    "**Calculer le nombre et le volume de sphères en mL nécessaire pour abaisser la concentration initiale de 10 % en 1 min dans 1 litre.**"
   ]
  },
  {
   "cell_type": "code",
   "execution_count": 68,
   "metadata": {},
   "outputs": [
    {
     "name": "stdout",
     "output_type": "stream",
     "text": [
      "Nombre de grain nécessaire pour une consommation de 0.1 g en 10 min 10508102.893631732\n",
      "Ce nombre de grain correspond à un volume de  4.4016238471732114e-05 mL de particules\n"
     ]
    }
   ],
   "source": [
    "conso=0.1 #g en 1 min\n",
    "conso=0.1e-3/(1*60) #kg/s\n",
    "nombre =conso/(kr*c_i*4*np.pi*R*R)\n",
    "\n",
    "print ('Nombre de grain nécessaire pour une consommation de 0.1 g en 10 min', nombre)\n",
    "\n",
    "vp=4*np.pi*R*R*R/3\n",
    "print ('Ce nombre de grain correspond à un volume de ',vp*nombre*1e6, 'mL de particules')"
   ]
  },
  {
   "cell_type": "markdown",
   "metadata": {},
   "source": [
    "# Adsorption dans un grain poreux\n",
    "On considère l’adsorption d’un soluté dans des sphères d’un rayon, R, de 1 micromètres et avec une surface spécifique de 3 10-6 m2/m3. Le soluté diffuse dans le grain avec un coefficient de diffusion de 2 10-9 m2/s. La concentration en soluté est, c_i=1\\ g/L, à la surface du grain. On considère que l’adsorption se réalise comme une réaction chimique de cinétique d’ordre 1 avec une constante de 0.1 (SI). \n",
    "\n",
    "**Quel est la limitation à la consommation dans le grain ?**\n",
    "\n",
    "> On est dans la configuration d'un couplage entre une réaction hétérogène dans un grain poreux et un phénomène de diffusion interne. Il est nécessaire de calculer le module de Thiele. \n",
    "$$\\phi_s=R\\sqrt{\\frac{a k_r}{D}}$$\n",
    "Le nombre de Thiele est très supérieur à 1 : le procédé est limité par la diffusion interne qui ne permet pas de transporter assez de réactif vers le centre du grain. \n",
    "\t\n",
    "**Calculer l’efficacité de la réaction dans le grain.**\n",
    "\n",
    ">L'efficacité se définit :\n",
    "$$\\eta=\\frac{3}{\\phi_s^2}(\\frac{\\phi_s}{tanh(\\phi_s)}-1)$$\n",
    "\n",
    "**Déterminer la quantité consommée dans un grain en g/s. Comparer à la question A-10. Commenter.**\n",
    "\n",
    "> La quantité consommée dans la première partie est calculée pour une surface non poreuse avec une résistance au transfert de matière dans la couche limite. Dans cette deuxième partie, on considère le transfert à l'intérieur du grain (qui est maintenant poreux) mais en absence de résistance dans la couche limite. Pour traiter du problème dans son ensemble, il faudrait combiner en série le transfert dans la couche limite puis le transfert dans le volume du grain. \n"
   ]
  },
  {
   "cell_type": "code",
   "execution_count": 69,
   "metadata": {},
   "outputs": [
    {
     "name": "stdout",
     "output_type": "stream",
     "text": [
      "a= 3000000.0\n",
      "Le module de Thiele est 12.24744871391589\n",
      "L efficacité du procédé est de 22.0 %\n",
      "Le flux de matière entrant dans le grain et donc la quantité de matière consommée dans le grain est : -2.8267921802429726e-13 kg/s\n"
     ]
    }
   ],
   "source": [
    "a=3/R #m2/m3\n",
    "print ('a=', a)\n",
    "\n",
    "phis=R*np.sqrt(a*kr/D)\n",
    "print ('Le module de Thiele est', phis)\n",
    "n=4*np.pi*R*D*c_b*(1-phis/np.tanh(phis))\n",
    "\n",
    "eff=3*(phis/np.tanh(phis)-1)/(phis**2)\n",
    "print ('L efficacité du procédé est de', round(eff*100), '%')\n",
    "\n",
    "print ('Le flux de matière entrant dans le grain et donc la quantité de matière consommée dans le grain est :', n, 'kg/s')\n",
    "\n"
   ]
  },
  {
   "cell_type": "code",
   "execution_count": null,
   "metadata": {},
   "outputs": [],
   "source": []
  }
 ],
 "metadata": {
  "kernelspec": {
   "display_name": "Python 3",
   "language": "python",
   "name": "python3"
  },
  "language_info": {
   "codemirror_mode": {
    "name": "ipython",
    "version": 3
   },
   "file_extension": ".py",
   "mimetype": "text/x-python",
   "name": "python",
   "nbconvert_exporter": "python",
   "pygments_lexer": "ipython3",
   "version": "3.7.3"
  }
 },
 "nbformat": 4,
 "nbformat_minor": 2
}
