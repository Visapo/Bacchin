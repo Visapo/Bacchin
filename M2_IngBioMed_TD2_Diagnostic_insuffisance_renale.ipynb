{
 "cells": [
  {
   "cell_type": "markdown",
   "id": "9c3642d7",
   "metadata": {},
   "source": [
    "# Diagnostic clairance et DFG\n",
    "\n",
    "Analyse du patient :\n",
    "- Créatininémie : 18 mg/L de plasma\n",
    "- Créatininurie : 1,5 g/L d’urine \n",
    "- Volume urinaire sur 24 heures : 1,6 L\n",
    "\n",
    "Pour ces analyses, calculer la clairance, la DFG et l’estimation de la DFG par la seule mesure de la créatininémie. Conclure."
   ]
  },
  {
   "cell_type": "code",
   "execution_count": 2,
   "id": "b9f63c32",
   "metadata": {},
   "outputs": [
    {
     "name": "stdout",
     "output_type": "stream",
     "text": [
      "La clairance est de : 37.03703703703704  mL/min\n",
      "1.6253865741715157\n",
      "Le débit de filtration glomulaire est de : 39.42082154009031  mL/(min*1,73m2\n",
      "159.1230551626591\n",
      "43.3875\n",
      "UV analysé 8.486562942008486 mmol/jour\n",
      "UV attendu 8.6775 mmol/jour\n",
      "DFG_Cockcroft est de : 39.592000000000006  mL/(min*1,73m2)\n",
      "DFG_MDRD est de : 31.201196208972213  mL/(min*1,73m2)\n",
      "DFG_CKD est de : 34.64122124846187  mL/(min*1,73m2)\n"
     ]
    }
   ],
   "source": [
    "import numpy as np\n",
    "creatininémie=18 #mg/L de plasma\n",
    "creatininurie=1.2 #g/L d urine\n",
    "volume_urinaire_en_24h=0.8 #L\n",
    "\n",
    "clairance=creatininurie*volume_urinaire_en_24h*1000*1000/(creatininémie*1440)\n",
    "print ('La clairance est de :', clairance, ' mL/min')\n",
    "\n",
    "taille=160 #cm\n",
    "poids=60 #kg\n",
    "SC = 0.007184*taille**0.725*poids**0.4255\n",
    "\n",
    "print(SC)\n",
    "\n",
    "DFG= clairance*1.73/SC\n",
    "print ('Le débit de filtration glomulaire est de :', DFG, ' mL/(min*1,73m2')\n",
    "\n",
    "#methode simlifiée CKD-EPI\n",
    "M=113.12 #g/mol\n",
    "creat=creatininémie*1000/M #microM\n",
    "print(creat)\n",
    "femme=1\n",
    "age=40 #année\n",
    "poids=60 #kg\n",
    "\n",
    "massemaigre=1.07*poids-148*poids*poids/(taille*taille)\n",
    "\n",
    "print(massemaigre)\n",
    "\n",
    "print ('UV analysé',creatininurie*volume_urinaire_en_24h*1000/M, 'mmol/jour')\n",
    "print ('UV attendu',massemaigre*0.2, 'mmol/jour')\n",
    "\n",
    "fcock=np.where(femme==1,0.84,1)\n",
    "fmdrd=np.where(femme==1,0.742,1)\n",
    "k=np.where(femme==1,0.7,0.9)\n",
    "alpha=np.where(femme==1,-0.329,-0.411)\n",
    "comp=np.where(femme==1,1.018,1)\n",
    "\n",
    "DFG_cockcroft=1.25*poids*(140-age)*fcock/creat\n",
    "DFG_MDRD=175*(creat*0.0113)**-1.154*age**-0.203*fmdrd\n",
    "DFG_CKD=141*(np.min([creat*0.0113/k,1])**alpha)*(np.max([creat*0.0113/k,1])**-1.209)*(0.993**age)*comp\n",
    "\n",
    "print ('DFG_Cockcroft est de :', DFG_cockcroft, ' mL/(min*1,73m2)')\n",
    "print ('DFG_MDRD est de :', DFG_MDRD, ' mL/(min*1,73m2)')\n",
    "print ('DFG_CKD est de :', DFG_CKD, ' mL/(min*1,73m2)')\n"
   ]
  }
 ],
 "metadata": {
  "kernelspec": {
   "display_name": "Python 3 (ipykernel)",
   "language": "python",
   "name": "python3"
  },
  "language_info": {
   "codemirror_mode": {
    "name": "ipython",
    "version": 3
   },
   "file_extension": ".py",
   "mimetype": "text/x-python",
   "name": "python",
   "nbconvert_exporter": "python",
   "pygments_lexer": "ipython3",
   "version": "3.9.12"
  }
 },
 "nbformat": 4,
 "nbformat_minor": 5
}
