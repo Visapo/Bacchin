{
 "cells": [
  {
   "cell_type": "code",
   "execution_count": 171,
   "metadata": {},
   "outputs": [],
   "source": [
    "import numpy as np\n",
    "import matplotlib.pyplot as plt\n",
    "\n",
    "#CONSTANTES\n",
    "\n",
    "#Nombre d'Avogadro\n",
    "avo=6.02214076e23\n",
    "\n",
    "#Constante de Boltzmann\n",
    "k=1.38064852e-23 #m2 kg s-2 K-1 ou J/K\n",
    "T=298.13\n",
    "kT=k*T #énergie thermique par molécule\n",
    "RGP=k*avo\n",
    "\n",
    "#Charge de l'électron\n",
    "e=1.602e-19\n",
    "F=e*avo\n",
    "\n",
    "#Permittivité électrique de l'eau\n",
    "eps=8.85418782e-12*78.5 #m-3 kg-1 s4 A2\n",
    "\n",
    "#Viscosité (dynamique) de l'eau à 20°C\n",
    "mu=1e-3 #Pa.s"
   ]
  },
  {
   "cell_type": "markdown",
   "metadata": {},
   "source": [
    "# 1 Flux électro-osmotique dans une membrane d’électrodialyse\n",
    "Des membranes d’électrodialyse d’une épaisseur de 500 m ayant un potentiel de surface de -60 mV sont utilisées dans un stack d’ED avec un champ électrique de 700 V/m. Le rayon des pores de la membrane est de 0,1 m en moyenne. La porosité de surface est de 10 %.\n",
    "\n",
    "1)\tCalculer le débit électro-osmotique à travers une membrane de 20 cm de long et 20 cm de large.\n",
    "\n",
    ">Si on considère que la longueur de Debye est petite devant le diamètre des pores de la membranes, on peut appliquer l'équation d'Helmholtz-Smoluchowski pour relier la vitesse electroosmotique au potentiel zeta selon $$u_{EO}=-\\frac{\\epsilon\\zeta E}{\\mu}$$\n",
    "Le débit à travers la membrane est déterminé par le produit de la vitesse par la section des pores. La sections des pores est le produit de la porosité de surface de la membrane et de la surface de la membrane :\n",
    "$$Q_{EO}=u_{EO}\\epsilon S$$\n",
    "Le signe positif signifie que le flux d'eau est dans la direction du champ électrique (c'est à dire vers la cathode). Ceci est normal car la charge de la membrane est négative (membrane anionique et donc membrane échangeuse de cation) et donc les cations qui s'accumulent à la surface des pores sont transportés vers la cathode (négative).\n",
    "\n",
    "2)\tDéterminer la surpression à appliquer afin de compenser le débit électro-osmotique par un débit convectif inverse.\n",
    "\n",
    ">Le débit électro-osmotique conduit à diluer le concentrat. Il va donc géner la concentration https://fr.wikipedia.org/wiki/%C3%89lectrodialyse#/media/Fichier:Electrodialysis.jpg\n",
    "Pour contrer le flux electro-osmotique on peut exercer une surpression dans le concentrat. La difference de pression entre concentrat et diluat peut contrer le flux electro-osmotique. La convection forcée à travers un pore peut se décrire avec la loi de Poiseuille\n",
    "$$u_{moy}=\\frac{R^2}{8\\mu}\\frac{\\Delta P}{L}$$\n"
   ]
  },
  {
   "cell_type": "code",
   "execution_count": 172,
   "metadata": {},
   "outputs": [
    {
     "name": "stdout",
     "output_type": "stream",
     "text": [
      "La vitesse electro-osmotique est de 2.919e-05 m/s\n",
      "La vitesse electro-osmotique est de 1.168e-07 m3/s\n",
      "                    correspondant à 0.420     L h-1\n",
      "La contre pression à appliquer est de 1.168e+04 Pa\n",
      "                                 soit 0.117     bar\n"
     ]
    }
   ],
   "source": [
    "E=700 #V/m\n",
    "zeta=-0.06 #V\n",
    "L=5e-4 #m\n",
    "R=1e-7 #m\n",
    "\n",
    "U_EO=-(eps*zeta*E/mu)\n",
    "print('La vitesse electro-osmotique est de {0:.3e} m/s'.format(U_EO))\n",
    "porosite=0.1\n",
    "S=0.2*0.2\n",
    "Q_EO=U_EO*porosite*S\n",
    "print('La vitesse electro-osmotique est de {0:.3e} m3/s'.format(Q_EO))\n",
    "print('                    correspondant à {0:.3f}     L h-1'.format(Q_EO*1000*3600))\n",
    "\n",
    "DP=U_EO*8*mu*L/(R**2)\n",
    "print('La contre pression à appliquer est de {0:.3e} Pa'.format(DP))\n",
    "print('                                 soit {0:.3f}     bar'.format(DP*1e-5))"
   ]
  },
  {
   "cell_type": "markdown",
   "metadata": {},
   "source": [
    "# 2-Analyse par micro-électrophorèse \n",
    "Un tube cylindrique d’un rayon de 5 mm et de 10 cm de long est fermé aux deux bouts par des électrodes auxquelles est appliquée une différence de potentiel de 10 V. Le tube contient une solution aqueuse d’un sel complètement dissocié symétrique de valence 2 à une concentration de 1 mol.m-3. La paroi du tube possède une charge de surface de 1,43 mV. La température est de 25°C.\n",
    "\n",
    "1)\tDéterminer la longueur de Debye sur la paroi du tube.\n",
    "\n",
    ">La longueur de Debye qui caractérise la portée de la douche couche electrostatique s'écrit : \n",
    "$$\\lambda_D=\\sqrt{\\frac{\\epsilon RT}{F^2 \\sum_i{z_i^2c_i}}}$$\n",
    "avec la force ionique définit selon :\n",
    "$$I=\\frac{1}{2}\\sum_i{z_i^2c_i}$$\n",
    "La longueur de Debye est beaucoup plus petite que la taille du capillaire.\n",
    "\n",
    "2)\tDéterminer :\t\n",
    "- la distance radiale à laquelle la vitesse du fluide est nulle \n",
    "- la vitesse du fluide au centre du tube\n",
    "- la vitesse du fluide à mi-distance entre la paroi et les plans stationnaires\n",
    "\n",
    ">La vitesse electro-osmotique peut se calculer selon : \n",
    "$$u_{EO}=-\\frac{\\epsilon\\zeta E}{\\mu}$$\n",
    "Comme le potentiel zeta est positif, la vitesse electro-osmotique (à la paroi du tube) est négative car opposée à la direction du champ électrique (dirigée vers l'anode). Le profil de vitesse dans le tube est donné par un couplage entre une convection forcée et la vitesse électro-osmotique :\n",
    "$$u=u_{EO}(1-2(1-\\frac{r^2}{a^2}))$$\n",
    "\n",
    "\n",
    "3)\tCalculer la vitesse au niveau des plans stationnaires de particule de latex polystyrene d’un rayon de 0.1 micrometre et portant 0.001 electrons par nm3.\n",
    "\n",
    ">Le calcul de la vitesse électro-phorétique dépend du rapport de la longueur de Debye sur la taille de la particule. Ici la longueur de Debye est petite devant la taille des particules. On peut donc déduire la vitesse de l'équation d'Helmholtz-Smoluchowski :\n",
    "$$u_{EO}=\\frac{\\epsilon\\zeta E}{\\mu}$$\n",
    "Le potentiel zeta de la particule peut s'estimer à partir de la charge avec l'équation suivante :\n",
    "$$q=4\\pi\\epsilon a(1+\\frac{a}{\\lambda_D})\\zeta$$\n",
    "\n",
    "4) Calculer la concentration critique de coagulation des particules de latex. Est-ce que les particules sont agrégés dans les conditions de la microelectrophorèse ?\n",
    "\n",
    "> La concentration critique de coagulation peut se calculer avec la loi de Schlutze Hardy :\n",
    "$$ccc=3.8 10^{-36} \\frac{\\Upsilon_0^4}{A^2z^6}$$\n",
    "avec \n",
    "$$\\Upsilon_0=tanh(\\frac{ze\\zeta}{4k_BT})$$\n"
   ]
  },
  {
   "cell_type": "code",
   "execution_count": 173,
   "metadata": {},
   "outputs": [
    {
     "name": "stdout",
     "output_type": "stream",
     "text": [
      "La force ionique de la solution est de 0.004  M\n",
      "La longueur de Debye est de 4.810e-09 m\n",
      "La vitesse electro-osmotique est de -1.029e-07 m/s\n",
      "Les plans stationnaires sont situés à r= 3.536e-03 m du centre\n",
      "Vitesse du fluide au centre du tube       : 1.029e-07 m/s\n",
      "Vitesse du fluide à mi-ditance            : 5.143e-08 m/s\n",
      "Vitesse du fluide aux plans stationnaires : 2.284e-23 m/s\n",
      "Vitesse du fluide à la paroi              : -1.029e-07 m/s\n",
      "Charge des particules      : 6.710e-16 C\n",
      "Potentiel zeta des particules      : 3.526e-02 V\n",
      "Vitesse electro-phorétique      : 2.451e-06 m/s\n",
      "Concentration critique de coagulation en sel divalent 4.419e+01 mol/m3\n",
      "Concentration critique de coagulation en sel divalent 4.419e-02 mol/L\n"
     ]
    },
    {
     "data": {
      "image/png": "[encoded data removed]",
      "text/plain": [
       "<Figure size 432x288 with 1 Axes>"
      ]
     },
     "metadata": {
      "needs_background": "light"
     },
     "output_type": "display_data"
    }
   ],
   "source": [
    "z=2\n",
    "c=1 #mol/m3\n",
    "I=0.5*(4*c+4*c)/1000\n",
    "print ('La force ionique de la solution est de', I, ' M')\n",
    "Ld=np.sqrt(eps*RGP*T/(2*F*F*I*1000))\n",
    "print ('La longueur de Debye est de {0:.3e}'.format(Ld), 'm')\n",
    "\n",
    "#Calcul de la vitesse d'électro-osmose\n",
    "zeta=1.48e-3\n",
    "a=5e-3\n",
    "E=10/0.1 #V/m\n",
    "U_EO=-(eps*zeta*E/mu)\n",
    "print('La vitesse electro-osmotique est de {0:.3e} m/s'.format(U_EO))\n",
    "\n",
    "#Calcul du profil de vitesse du fluide induit par l'éectro-osmose\n",
    "def u(r):\n",
    "    u=U_EO*(1-2*(1-r**2/a**2))\n",
    "    return u\n",
    "\n",
    "rstat=a/np.sqrt(2)\n",
    "print ('Les plans stationnaires sont situés à r= {0:.3e} m du centre'.format(a/np.sqrt(2)))\n",
    "print ('Vitesse du fluide au centre du tube       : {0:.3e} m/s'.format(u(0)))\n",
    "print ('Vitesse du fluide à mi-distance           : {0:.3e} m/s'.format(u(a/2)))\n",
    "print ('Vitesse du fluide aux plans stationnaires : {0:.3e} m/s'.format(u(a/np.sqrt(2))))\n",
    "print ('Vitesse du fluide à la paroi              : {0:.3e} m/s'.format(u(a)))\n",
    "\n",
    "rtab=np.linspace(-a,a,100)\n",
    "plt.plot(rtab,u(rtab))\n",
    "plt.plot([-a,a],[0,0], '--k')\n",
    "plt.plot([-a,-a],[-U_EO,U_EO], 'k')\n",
    "plt.plot([a,a],[-U_EO,U_EO], 'k')\n",
    "plt.plot([-rstat,-rstat],[-U_EO,U_EO], '--r')\n",
    "plt.plot([rstat,rstat],[-U_EO,U_EO], '--r')\n",
    "plt.text(-rstat+0.0001,U_EO/2,'plan stationnaire',rotation=90, color='r')\n",
    "plt.text(rstat+0.0001,U_EO/2,'plan stationnaire',rotation=90, color='r')\n",
    "plt.title('Profil de vitesse du fluide induit par l\\'électro-osmose')\n",
    "plt.xlabel('Distance au centre, r (m)')\n",
    "plt.ylabel('Vitesse du fluide, u (m/s)')\n",
    "\n",
    "#Calcul de la vitesse d'electrophorese\n",
    "nelec=0.001 #electron par nm3\n",
    "R=1e-7 #m\n",
    "Vp=4*np.pi*(R**3)/3\n",
    "q=nelec*e*Vp*(1e9**3) #C\n",
    "print ('Charge des particules      : {0:.3e} C'.format(q)) \n",
    "zeta=q/(4*np.pi*eps*R*(1+R/Ld))\n",
    "print ('Potentiel zeta des particules      : {0:.3e} V'.format(zeta))\n",
    "U_EP=(eps*zeta*E/mu)\n",
    "print ('Vitesse electro-phorétique      : {0:.3e} m/s'.format(U_EP))\n",
    "\n",
    "#Calcul de la ccc\n",
    "Hamaker=1.3e-20 #J\n",
    "upsilon=np.tanh(z*e*zeta/(4*kT))\n",
    "ccc=3.8e-36*(upsilon**4/(Hamaker**2*z**6))\n",
    "print ('Concentration critique de coagulation en sel divalent {0:.3e} mol/m3'.format(ccc))\n",
    "print ('Concentration critique de coagulation en sel divalent {0:.3e} mol/L'.format(ccc/1000))"
   ]
  },
  {
   "cell_type": "markdown",
   "metadata": {},
   "source": [
    "# 3-Electrophorèse continue\n"
   ]
  },
  {
   "cell_type": "markdown",
   "metadata": {},
   "source": [
    "Une électrophorèse est réalisée au sein d’une veine liquide parallélépipédique de 30 cm de longueur (Lx), 5 cm de largeur (Ly), et 2 mm d’épaisseur (Lz),. On injecte dans la veine liquide un échantillon de largeur lc=0,5 mm contenant un mélange de deux protéines (la serum albumine bovine (SAB) et l’-lactalbumine) avec un débit Q de 0,5 l/h. En sortie de la veine liquide, on récupère l’écoulement dans une série de petits capillaires d’un diamètre de 0,06 mm. On applique, parallèlement à l’écoulement, une différence de potentiel de 24 V. \n",
    "\n",
    "Données :  \t\n",
    "Mélange de protéines\t\t\n",
    "- Force ionique du mélange 10-3 M KCl\n",
    "- SAB : mobilité –15 10-9 m2.V-1.s-1, \t\t\t\t\n",
    "- Hémoglobine : mobilité -22.10-9 m2.V-1.s-1 \t\t\t\n",
    "- Coefficient de diffusion des deux protéines : D=6.10-11 m2/s\n",
    "- Rayon des protéines : R=4 nm\n",
    "- Constante de Hamaker pour les protéines : A=5.10-20 J\n",
    "\n",
    "Paroi de la cellule d’électrophorèse\n",
    "- Charge de surface des parois de la cellule : -10 mV\n",
    "\n",
    "1)\tDéterminer l’intensité de la vitesse électrophorétique pour les deux protéines.\n"
   ]
  },
  {
   "cell_type": "code",
   "execution_count": 174,
   "metadata": {},
   "outputs": [
    {
     "name": "stdout",
     "output_type": "stream",
     "text": [
      "Vitesse SAB     : -7.200e-06 m/s\n",
      "Vitesse HM     : -1.056e-05 m/s\n"
     ]
    }
   ],
   "source": [
    "mSAB=-15e-9\n",
    "mHM=-22e-9\n",
    "E=24/0.05 #V/m\n",
    "uSAB=mSAB*E\n",
    "uHM=mHM*E\n",
    "print ('Vitesse SAB     : {0:.3e} m/s'.format(uSAB)) \n",
    "print ('Vitesse HM     : {0:.3e} m/s'.format(uHM)) "
   ]
  },
  {
   "cell_type": "markdown",
   "metadata": {},
   "source": [
    "2)\tCette vitesse dans la direction y se combine à l ‘écoulement du liquide suivant x. Déterminer la distance, Y, qui est parcourue suivant y en sortie de la veine liquide par les deux protéines et en déduire la distance séparant les deux protéines en sortie, $\\Delta Y$.\n",
    "\n",
    ">Le temps de séjour des protéines dans la cellule est le rapport du volume de la cellule sur le débit volumique. La déviation de la trajectoire des protéines sera alors donné par le produit de la vitesse selon Y par le temps de séjour. \n",
    "$$Y_x=u_x*t_s$$\n",
    "$$\\Delta Y=\\lvert Y_{SAB}-Y_{HM} \\rvert$$"
   ]
  },
  {
   "cell_type": "code",
   "execution_count": 175,
   "metadata": {},
   "outputs": [
    {
     "name": "stdout",
     "output_type": "stream",
     "text": [
      "Temps de sejour  216.00000000000003  s\n",
      "Difference de déviation  0.0007257599999999999  m\n"
     ]
    }
   ],
   "source": [
    "Q=0.5 #L/h\n",
    "V=0.3*0.05*2e-3 #m3\n",
    "t_s=V/(Q*0.001/3600)\n",
    "print ('Temps de sejour ',t_s, ' s')\n",
    "DY=(uSAB-uHM)*t_s\n",
    "print ('Difference de déviation ',DY, ' m')"
   ]
  },
  {
   "cell_type": "markdown",
   "metadata": {},
   "source": [
    "3)\tEn considérant les espèces séparées si Y en sortie de veine liquide est supérieur au diamètre des capillaires, la séparation des deux espèces a-t-elle lieue ?\n",
    "\n",
    "> Oui car la différence de déviation est bien plus grande que la taille des capillaires recupérant la veine liquide en sortie\n",
    "\n",
    "\n"
   ]
  },
  {
   "cell_type": "markdown",
   "metadata": {},
   "source": [
    "4)\tCalculer la vitesse électro-osmotique, uEO, due à la charge de surface de la paroi de la veine liquide."
   ]
  },
  {
   "cell_type": "code",
   "execution_count": 179,
   "metadata": {},
   "outputs": [
    {
     "name": "stdout",
     "output_type": "stream",
     "text": [
      "La vitesse electro-osmotique est de 3.336e-06 m/s\n"
     ]
    }
   ],
   "source": [
    "zeta_w=-0.01\n",
    "U_EO=-(eps*zeta_w*E/mu)\n",
    "print('La vitesse electro-osmotique est de {0:.3e} m/s'.format(U_EO))"
   ]
  }
 ],
 "metadata": {
  "kernelspec": {
   "display_name": "Python 3",
   "language": "python",
   "name": "python3"
  },
  "language_info": {
   "codemirror_mode": {
    "name": "ipython",
    "version": 3
   },
   "file_extension": ".py",
   "mimetype": "text/x-python",
   "name": "python",
   "nbconvert_exporter": "python",
   "pygments_lexer": "ipython3",
   "version": "3.7.3"
  }
 },
 "nbformat": 4,
 "nbformat_minor": 2
}
