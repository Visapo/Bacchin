{
 "cells": [
  {
   "cell_type": "markdown",
   "metadata": {},
   "source": [
    "# TP 2 : Mesure d'un coefficient de diffusion dans une cellule à diaphragme\n",
    "\n",
    "La cellule est composée de deux volumes $V_1=V_2=100\\,mL$ munis d'un agitateur pour s'assurer que la concentration dans chacun de ces volumes ($C_1$ et $C_2$ respectivement) est uniforme. Entre ces volumes se situe une membrane poreuse d'épaisseur $e = 2\\,mm$ et de diamètre $d = 4\\,cm$ dans laquelle un soluté peut diffuser. On supposera que le gradient de concentration est constant (profil linéaire de concentration) dans le milieu poreux, comme illustré sur le schéma.\n",
    "\n",
    "## 1 Préparation des solutions\n",
    "\n",
    "Préparez 250 mL d'une solution d'hexacyanoferrate de potassium à 0.1 mol/L : Quelle masse de solide faut-il ? (faites vérifier ce calcul par l'enseignant avant de continuer)\n",
    "\n",
    "Insérez le calcul ici\n",
    "\n",
    "Préparez les solutions du tableau suivant à partir de la solution mère pour les quatre premières et à partir de la solution à 10-4 mol/L pour les trois dernières. (Complétez le tableau et faites vérifier vos valeurs avant de continuer)\n",
    "\n",
    "Complétez le tableau suivant\n",
    "__________________________________________________________________________________________\n",
    "Concentration (M)                 | 1e-2  | 1e-3  | 5e-4  | 1e-4  | 5e-5  |  1e-5 | 1e-6  |\n",
    "__________________________________________________________________________________________\n",
    "Volume total (mL)                 |  50   |  50   |  50   |  100  |  50   |   50  |   50  |\n",
    "__________________________________________________________________________________________\n",
    "Volume à prélever \n",
    "(solution mère ou celle à 1e-4 M) |       |       |       |       |       |       |       |\n",
    "__________________________________________________________________________________________\n",
    "\n",
    "\n",
    "## 2 Balayage du spectre d'absorption du soluté \n",
    "\n",
    "Commentez : quelle est l’incertitude sur la mesure due au spectrophotomètre ? \n",
    "\n",
    "Collez ici le graphe du spectre de la solution avec les pics et vallées identifiés.  \n",
    "<img src=\"WSCAN1.bmp\" alt=\"image a inserer\" width=\"200\"/>\n",
    "\n",
    "Commentez : quel pic allez-vous choisir et pourquoi ? \n",
    "\n",
    "## Mesure du coefficient d'extinction molaire $\\epsilon_\\lambda$ à la longueur d'onde choisie\n",
    "\n",
    "Remplissez le tableau ci-dessous avec les concentrations et absorbances correspondantes \n",
    "\n",
    "____________________________________________________\n",
    "C (M) |      |      |      |      |      |      |      | \n",
    "____________________________________________________\n",
    "A (AU)|      |      |      |      |      |      |      | \n",
    "____________________________________________________\n",
    "\n",
    "\n",
    "Commentez : est-ce linéaire ? validité de la loi de Beer-Lambert ? est-ce que tous les points peuvent être utilisés pour calculer le coefficient d’extinction ?\n",
    "\n",
    "Utilisez la cellule ci-dessous pour mesurer le coefficient d'zextinction grâce à une régression linéaire. "
   ]
  },
  {
   "cell_type": "code",
   "execution_count": 1,
   "metadata": {},
   "outputs": [],
   "source": [
    "from pylab import *\n",
    "C = array([1e-6, 1e-5, 5e-5, 1e-4, 5e-4, 1e-3, 1e-2])\n",
    "# Remplacer ici les NaN avec vos valeurs\n",
    "A = array([NaN,NaN,NaN,NaN,NaN,NaN,NaN])\n",
    "\n",
    "# Trace des valeurs. Est-ce lineaire ? \n",
    "plot(C, A, 'ob')\n",
    "xlabel('C (M)')\n",
    "ylabel('A (AU)')\n",
    "\n",
    "# Selection des premieres valeurs a adapter. Ici on enleve les 2 dernieres \n",
    "C = C[:-2] # a modifier\n",
    "A = A[:-2] # a modifier\n",
    "\n",
    "# Fit de la courbe A(C) avec un polynome de degre 1 (une droite donc). Les coeffs a et b qui sortent sont tels que A=aC+b \n",
    "a, b = polyfit(C,A,1)\n",
    "\n",
    "# Verification sur le graphique \n",
    "# ... a completer"
   ]
  },
  {
   "cell_type": "markdown",
   "metadata": {},
   "source": [
    "\n",
    "## Mesure du coefficient de diffusion du soluté à travers la membrane\n",
    "\n",
    "Présentez ici succinctement le calcul de la solution théorique. \n",
    "\n",
    "Insérez ici la courbe permettant de faire une régression linéaire pour trouver le coefficient de diffusion. "
   ]
  },
  {
   "cell_type": "code",
   "execution_count": 4,
   "metadata": {},
   "outputs": [],
   "source": [
    "# Pour charger les donnees :\n",
    "# tmin, A = genfromtxt('TDRIV1.asc', unpack=True)\n",
    "\n",
    "# inspirez vous de la regression de la question precedente"
   ]
  },
  {
   "cell_type": "markdown",
   "metadata": {},
   "source": [
    "Effectuez le calcul du coefficient de diffusion ici. "
   ]
  },
  {
   "cell_type": "code",
   "execution_count": null,
   "metadata": {},
   "outputs": [],
   "source": []
  },
  {
   "cell_type": "markdown",
   "metadata": {},
   "source": [
    "Comparez ce coefficient à celui du soluté dans l'eau pure (hors d'un milieu poreux) qui vaut environ $10\\,10^{-10}\\,m^2/s$. omment expliquer la différence ? (deux raisons principales sont attendues)\n",
    "\n",
    "\n",
    "\n"
   ]
  },
  {
   "cell_type": "code",
   "execution_count": null,
   "metadata": {},
   "outputs": [],
   "source": []
  }
 ],
 "metadata": {
  "kernelspec": {
   "display_name": "Python 3",
   "language": "python",
   "name": "python3"
  },
  "language_info": {
   "codemirror_mode": {
    "name": "ipython",
    "version": 3
   },
   "file_extension": ".py",
   "mimetype": "text/x-python",
   "name": "python",
   "nbconvert_exporter": "python",
   "pygments_lexer": "ipython3",
   "version": "3.7.7"
  }
 },
 "nbformat": 4,
 "nbformat_minor": 2
}
