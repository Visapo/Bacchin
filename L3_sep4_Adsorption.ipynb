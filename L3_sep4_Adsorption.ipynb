{
 "cells": [
  {
   "cell_type": "markdown",
   "metadata": {},
   "source": [
    "# Adsorption \n",
    "\n",
    "Aqueous solution with 0.09 kg of phenol per m3 has to be treated by adsorption of phenol on activated carbon. This treatment is realized in a tank by batch of 4 m3 with 100 g of activated carbon.\n",
    "\n",
    "**a) What is the phenol concentration in the water when equilibrium is reached ?**\n",
    "\n",
    "Data :\n",
    "Adsorption isotherm of phenol $m = \\frac{C}{5.13 10^{-3} C + 4.06 10^{-2}} $\n",
    "with $m$ in kg of adsorbed phenol / kg of activated carbon,\n",
    "and $C$ in kg of phenol per m3 of solution.\n"
   ]
  },
  {
   "cell_type": "code",
   "execution_count": 10,
   "metadata": {},
   "outputs": [
    {
     "name": "stdout",
     "output_type": "stream",
     "text": [
      "We could calculte the quantity adsorbed from the initial condition :\n",
      "2.1918235241112765 kg Ph ads/kg AC\n",
      "that corresponds to a mass adsorbed on 0.1 kg of activated carbon of\n",
      "0.21918235241112766 kg Ph ads\n",
      "By mass balance, the final concentration should be :\n",
      "0.03520441189721808 kg Ph/m3\n",
      "THIS SOLUTION IS WRONG : the final concentration should be in equilibrium with the activated carbon. \n"
     ]
    }
   ],
   "source": [
    "mac=0.1 #kg\n",
    "ci=0.09 #kg Ph/m3\n",
    "a=5.13e-3\n",
    "b=4.06e-2\n",
    "m=ci/((a*ci)+b)#kg Ph ads/kg AC\n",
    "print ('We could calculte the quantity adsorbed from the initial condition :')\n",
    "print (m, 'kg Ph ads/kg AC')\n",
    "print ('that corresponds to a mass adsorbed on', mac, 'kg of activated carbon of')\n",
    "print (m*mac, 'kg Ph ads')\n",
    "\n",
    "v=4 #m3\n",
    "print ('By mass balance, the final concentration should be :')\n",
    "cf=(ci*v-m*mac)/v\n",
    "print (cf, 'kg Ph/m3')\n",
    "print ('THIS SOLUTION IS WRONG : the final concentration should be in equilibrium with the activated carbon. ')"
   ]
  },
  {
   "cell_type": "markdown",
   "metadata": {
    "collapsed": true
   },
   "source": [
    "><p> It is necessary to solve a set of equation consisting in : </p>\n",
    "><li> Adsortion isotherm that gives the adsorbed mass, $m_{ads}$, at equilibrium with the final concentration, $c_f$ </li>\n",
    ">$$m_{ads}=\\frac{c_f}{(5.113~10^{-3}c_f)+4.06~10^{-2}}$$\n",
    "><li>  Mass balance between i) the final phenol mass in the solution, $V~c_f$, and on the activated carbon $m_{ads}~M_{ac}$ and >ii) the initial mass, $V~c_i$</li>\n",
    ">$$V~c_f+m_{ads}~M_{ac}=V~c_i$$\n",
    "\n",
    "### Solution numérique"
   ]
  },
  {
   "cell_type": "code",
   "execution_count": 11,
   "metadata": {},
   "outputs": [
    {
     "name": "stdout",
     "output_type": "stream",
     "text": [
      "The final concentration (at equilibrium) is determined by solving simultaneously the equilibrium and the mass balance :\n",
      "0.0559 kg Ph/m3\n",
      "1.3659851875908589\n"
     ]
    }
   ],
   "source": [
    "# The function calculate the delta in the mass balance : this function has to zero if the mass balance is satisfied\n",
    "def f(cf):\n",
    "    # the adsorbed mass is calculated from the final concentration that is also the one at equilibrium\n",
    "    m=cf/((a*cf)+b) #kg Ph ads/kg AC\n",
    "    # the mass balance should be satisfied \n",
    "    # the function return the delta of mass balance that should be zero : final mass + adsorbed mass - initial mass \n",
    "    return (cf*v+m*mac-ci*v)\n",
    "\n",
    "from scipy.optimize import newton\n",
    "x=newton(f, x0=ci)\n",
    "print ('The final concentration (at equilibrium) is determined by solving simultaneously the equilibrium and the mass balance :')\n",
    "print (round(x,4), 'kg Ph/m3')\n",
    "print(x/((a*x)+b))"
   ]
  },
  {
   "cell_type": "markdown",
   "metadata": {
    "collapsed": true
   },
   "source": [
    "### Solution analytique\n",
    "\n",
    "It exists an analytical solution. It is possible to obtain a second order polynomial equation by combining the two equation :\n",
    "\n",
    "$$m_{ads}=\\frac{c_f}{a~c_f+b}$$\n",
    "\n",
    "$$m_{ads}=V(c_i-c_f)/M_{ac}$$\n",
    "\n",
    "$$V(c_i-c_f)=\\frac{c_f M_{ac}}{a~c_f+b}$$\n",
    "\n",
    "\n",
    "$$V(c_i-c_f)(a~c_f+b)=c_f M_{ac}$$\n",
    "\n",
    "$$Vc_ia~c_f+Vc_ib-Vc_fa~c_f-Vc_fb-c_f M_{ac}=0$$\n",
    "\n",
    "$$ -Vac_f^2+c_f(Vc_ia-Vb-M_{ac})+Vc_ib=0$$\n",
    "\n"
   ]
  },
  {
   "cell_type": "code",
   "execution_count": 15,
   "metadata": {},
   "outputs": [
    {
     "name": "stdout",
     "output_type": "stream",
     "text": [
      "Equation to solve : -0.02052  x2 +  -0.2605532  x +  0.014615999999999999  = 0\n",
      "Determinant :  0.06908765131024\n",
      "Solutions -12.753374736781964 0.055850370310229436\n",
      "When analysing the signs of the solutions, we can see that x1 will be always negative : we have to consider only x2\n",
      "The final concentration (at equilibrium) is :\n",
      "0.0559 kg Ph/m3\n"
     ]
    }
   ],
   "source": [
    "A=-a*v\n",
    "B=a*v*ci-b*v-mac\n",
    "C=v*ci*b\n",
    "\n",
    "print('Equation to solve :', A,' x2 + ',B,' x + ',C, ' = 0')\n",
    "\n",
    "delta=B*B-4*A*C\n",
    "print('Determinant : ',delta)\n",
    "x1=(-B+delta**0.5)/(2*A)\n",
    "x2=(-B-delta**0.5)/(2*A)\n",
    "print ('Solutions', x1,x2)\n",
    "print ('When analysing the signs of the solutions, we can see that x1 will be always negative : we have to consider only x2')\n",
    "print ('The final concentration (at equilibrium) is :')\n",
    "print (round(x2,4), 'kg Ph/m3')\n"
   ]
  },
  {
   "cell_type": "markdown",
   "metadata": {},
   "source": [
    "La solution analytique est donc : \n",
    "$$ c_f=\\frac{-(Vc_ia-Vb-M_{ac})-\\sqrt{(Vc_ia-Vb-M_{ac})^2-4Va}}{-2V^2abc_i} =0$$"
   ]
  },
  {
   "cell_type": "code",
   "execution_count": null,
   "metadata": {},
   "outputs": [],
   "source": []
  }
 ],
 "metadata": {
  "kernelspec": {
   "display_name": "Python 3 (ipykernel)",
   "language": "python",
   "name": "python3"
  },
  "language_info": {
   "codemirror_mode": {
    "name": "ipython",
    "version": 3
   },
   "file_extension": ".py",
   "mimetype": "text/x-python",
   "name": "python",
   "nbconvert_exporter": "python",
   "pygments_lexer": "ipython3",
   "version": "3.9.12"
  }
 },
 "nbformat": 4,
 "nbformat_minor": 2
}
