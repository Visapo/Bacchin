{
 "cells": [
  {
   "cell_type": "markdown",
   "metadata": {},
   "source": [
    "# Adsorption \n",
    "\n",
    "Aqueous solution with 0.09 kg of phenol per m3 has to be treated by adsorption of phenol on activated carbon. This treatment is realized in a tank by batch of 4 m3 with 100 g of activated carbon.\n",
    "\n",
    "**a) What is the phenol concentration in the water when equilibrium is reached ?**\n",
    "\n",
    "Data :\n",
    "Adsorption isotherm of phenol $m = \\frac{C}{5.13 10^{-3} C + 4.06 10^{-2}} $\n",
    "with $m$ in kg of adsorbed phenol / kg of activated carbon,\n",
    "and $C$ in kg of phenol per m3 of solution.\n"
   ]
  },
  {
   "cell_type": "code",
   "execution_count": 9,
   "metadata": {},
   "outputs": [
    {
     "name": "stdout",
     "output_type": "stream",
     "text": [
      "We could calculte the quantity adsorbed from the initial condition :\n",
      "2.191905196690613 kg Ph ads/kg AC\n",
      "that corresponds to a mass adsorbed on 0.1 kg of activated carbon of\n",
      "0.2191905196690613 kg Ph ads\n",
      "By mass balance, the final concentration should be :\n",
      "0.03520237008273467 kg Ph/m3\n",
      "THIS SOLUTION IS WRONG : the final concentration should be in equilibrium with the activated carbon. \n"
     ]
    }
   ],
   "source": [
    "mac=0.1 #kg\n",
    "ci=0.09 #kg Ph/m3\n",
    "m=ci/((5.113e-3*ci)+4.06e-2)#kg Ph ads/kg AC\n",
    "print ('We could calculte the quantity adsorbed from the initial condition :')\n",
    "print (m, 'kg Ph ads/kg AC')\n",
    "print ('that corresponds to a mass adsorbed on', mac, 'kg of activated carbon of')\n",
    "print (m*mac, 'kg Ph ads')\n",
    "\n",
    "v=4 #m3\n",
    "print ('By mass balance, the final concentration should be :')\n",
    "cf=(ci*v-m*mac)/v\n",
    "print (cf, 'kg Ph/m3')\n",
    "print ('THIS SOLUTION IS WRONG : the final concentration should be in equilibrium with the activated carbon. ')"
   ]
  },
  {
   "cell_type": "markdown",
   "metadata": {
    "collapsed": true
   },
   "source": [
    "><p> It is necessary to solve a set of equation consisting in : </p>\n",
    "><li> Adsortion isotherm that gives the adsorbed mass, $m_{ads}$, at equilibrium with the final concentration, $c_f$ </li>\n",
    ">$$m_{ads}=\\frac{c_f}{(5.113~10^{-3}c_f)+4.06~10^{-2}}$$\n",
    "><li>  Mass balance between i) the final phenol mass in the solution, $V~c_f$, and on the activated carbon $m_{ads}~M_{ac}$ and >ii) the initial mass, $V~c_i$</li>\n",
    ">$$V~c_f+m_{ads}~M_{ac}=V~c_i$$\n"
   ]
  },
  {
   "cell_type": "code",
   "execution_count": 10,
   "metadata": {},
   "outputs": [
    {
     "name": "stdout",
     "output_type": "stream",
     "text": [
      "The final concentration (at equilibrium) is determined by solving simultaneously the equilibrium and the mass balance :\n",
      "0.056 kg Ph/m3\n"
     ]
    }
   ],
   "source": [
    "# The function calculate the delta in the mass balance : this function has to zero if the mass balance is satisfied\n",
    "def f(cf):\n",
    "    # the adsorbed mass is calculated from the final concentration that is also the one at equilibrium\n",
    "    m=cf/((5.113e-3*cf)+4.06e-2) #kg Ph ads/kg AC\n",
    "    # the mass balance should be satisfied \n",
    "    # the function return the delta of mass balance that should be zero : final mass + adsorbed mass - initial mass \n",
    "    return (cf*v+m*mac-ci*v)\n",
    "\n",
    "from scipy.optimize import newton\n",
    "x=newton(f, x0=ci)\n",
    "print ('The final concentration (at equilibrium) is determined by solving simultaneously the equilibrium and the mass balance :')\n",
    "print (round(x,3), 'kg Ph/m3')\n"
   ]
  },
  {
   "cell_type": "code",
   "execution_count": null,
   "metadata": {
    "collapsed": true
   },
   "outputs": [],
   "source": []
  }
 ],
 "metadata": {
  "kernelspec": {
   "display_name": "Python 3 (ipykernel)",
   "language": "python",
   "name": "python3"
  },
  "language_info": {
   "codemirror_mode": {
    "name": "ipython",
    "version": 3
   },
   "file_extension": ".py",
   "mimetype": "text/x-python",
   "name": "python",
   "nbconvert_exporter": "python",
   "pygments_lexer": "ipython3",
   "version": "3.9.12"
  }
 },
 "nbformat": 4,
 "nbformat_minor": 2
}
