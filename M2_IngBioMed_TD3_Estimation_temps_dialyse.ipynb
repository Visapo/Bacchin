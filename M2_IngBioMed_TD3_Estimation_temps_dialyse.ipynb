{
 "cells": [
  {
   "cell_type": "markdown",
   "id": "0f275950",
   "metadata": {},
   "source": [
    "# Estimation du temps de dialyse et du volume de dialysat\n",
    "\n",
    "Sur un fonctionnement à une passe, pour un débit de sang de 300 mL/min, un rein artificiel permet de réduire la concentration en urée de 4g/L à 1,1 g/L.\n",
    "\n",
    "Calculer la clairance\n",
    "\n",
    "Un patient de 80 kg arrive avec une teneur en urée de 3 g/L. La dialyse doit lui permettre de repartir avec une concentration en urée de 0,8 g/L.\n",
    "\n",
    "Calculer la masse d’urée à éliminer\n",
    "Calculer le temps de dialyse nécessaire\n"
   ]
  },
  {
   "cell_type": "code",
   "execution_count": 4,
   "id": "8bc7095f",
   "metadata": {},
   "outputs": [
    {
     "name": "stdout",
     "output_type": "stream",
     "text": [
      "3.6249999999999996e-06 m3/s\n",
      "La clairance peut être estimée à 217.49999999999997 ml/min\n",
      "La masse en urée à éliminer est : 0.10207999999999999 kg\n",
      "1.664452642047285\n",
      "16918.474751773687\n",
      "Le temps de dialyse estimé est : 4.699576319937135 h\n"
     ]
    },
    {
     "data": {
      "image/png": "[encoded data removed]",
      "text/plain": [
       "<Figure size 432x288 with 1 Axes>"
      ]
     },
     "metadata": {
      "needs_background": "light"
     },
     "output_type": "display_data"
    }
   ],
   "source": [
    "import numpy as np\n",
    "import matplotlib.pyplot as plt\n",
    "Qc=300*1e-6/60\n",
    "Cse=4 \n",
    "Css=1.1\n",
    "\n",
    "K=Qc*(Cse-Css)/Cse\n",
    "print(K, 'm3/s')\n",
    "print('La clairance peut être estimée à', K*1e+6*60, 'ml/min')\n",
    "\n",
    "C0=3\n",
    "Cf=0.8\n",
    "P=80\n",
    "ECTF=0.58*P*0.001\n",
    "VDPoids=0\n",
    "M=C0*(ECTF-VDPoids)-Cf*ECTF\n",
    "print ('La masse en urée à éliminer est :', M, 'kg')\n",
    "cmoy=(Cf-C0)/np.log(Cf/C0)\n",
    "print (cmoy)\n",
    "td=M/(K*cmoy)\n",
    "print (td)\n",
    "print ('Le temps de dialyse estimé est :', td/3600, 'h')\n",
    "t=np.linspace(0,5,100)\n",
    "plt.plot(t,C0*np.exp(-K*t*3600/ECTF))\n",
    "plt.plot([0,td/3600],[Cf,Cf],'r--')\n",
    "plt.plot([td/3600,td/3600],[0,Cf],'r--')\n",
    "plt.xlabel('t (h)')\n",
    "plt.ylabel('c en urée (g/L)')\n",
    "plt.ylim(0,C0)\n",
    "plt.show()"
   ]
  },
  {
   "cell_type": "code",
   "execution_count": null,
   "id": "94e3111e",
   "metadata": {},
   "outputs": [],
   "source": []
  }
 ],
 "metadata": {
  "kernelspec": {
   "display_name": "Python 3 (ipykernel)",
   "language": "python",
   "name": "python3"
  },
  "language_info": {
   "codemirror_mode": {
    "name": "ipython",
    "version": 3
   },
   "file_extension": ".py",
   "mimetype": "text/x-python",
   "name": "python",
   "nbconvert_exporter": "python",
   "pygments_lexer": "ipython3",
   "version": "3.9.12"
  }
 },
 "nbformat": 4,
 "nbformat_minor": 5
}
